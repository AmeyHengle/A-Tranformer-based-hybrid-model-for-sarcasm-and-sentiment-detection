{
  "nbformat": 4,
  "nbformat_minor": 0,
  "metadata": {
    "colab": {
      "name": "Sarcasm_ML_TFIDF.ipynb",
      "provenance": []
    },
    "kernelspec": {
      "name": "python3",
      "display_name": "Python 3"
    },
    "accelerator": "GPU"
  },
  "cells": [
    {
      "cell_type": "code",
      "metadata": {
        "id": "-OgGCsMkZ8WD"
      },
      "source": [
        "import numpy as np\r\n",
        "import pandas as pd\r\n",
        "import matplotlib.pyplot as plt\r\n",
        "from sklearn.model_selection import train_test_split, GridSearchCV\r\n",
        "from sklearn.feature_extraction.text import TfidfVectorizer\r\n",
        "from sklearn.pipeline import make_pipeline\r\n",
        "from sklearn.linear_model import LogisticRegression\r\n",
        "from sklearn.ensemble import RandomForestClassifier\r\n",
        "from sklearn.naive_bayes import MultinomialNB, GaussianNB, BernoulliNB, ComplementNB\r\n",
        "from sklearn.svm import SVC\r\n",
        "from sklearn.metrics import confusion_matrix,accuracy_score, classification_report\r\n",
        "from sklearn.feature_extraction.text import CountVectorizer\r\n",
        "from nltk.tokenize import word_tokenize"
      ],
      "execution_count": 64,
      "outputs": []
    },
    {
      "cell_type": "code",
      "metadata": {
        "id": "dyA6fStTbzhm"
      },
      "source": [
        "train_data = pd.read_csv('/content/preprocessed_1.csv')\r\n",
        "train_data.head()"
      ],
      "execution_count": null,
      "outputs": []
    },
    {
      "cell_type": "code",
      "metadata": {
        "id": "49aCa0JUcZZW"
      },
      "source": [
        "X_train, X_test, Y_train, Y_test = train_test_split(train_data['tweet'], train_data['sarcasm'], test_size =0.2, random_state=100)"
      ],
      "execution_count": 59,
      "outputs": []
    },
    {
      "cell_type": "code",
      "metadata": {
        "colab": {
          "base_uri": "https://localhost:8080/"
        },
        "id": "Lce9yE5Wooq8",
        "outputId": "0c0d55c1-da44-42ed-91b1-dec244111ccb"
      },
      "source": [
        "X_train = np.array(X_train)\r\n",
        "X_test = np.array(X_test)\r\n",
        "Y_train = np.array(Y_train)\r\n",
        "Y_test = np.array(Y_test)\r\n",
        "print(X_train.shape, X_test.shape, Y_train.shape, Y_test.shape)"
      ],
      "execution_count": 60,
      "outputs": [
        {
          "output_type": "stream",
          "text": [
            "(10038,) (2510,) (10038,) (2510,)\n"
          ],
          "name": "stdout"
        }
      ]
    },
    {
      "cell_type": "code",
      "metadata": {
        "colab": {
          "base_uri": "https://localhost:8080/"
        },
        "id": "q6oDs1RdoUvJ",
        "outputId": "9e4b104f-7bd6-4fb0-df6c-d09f70b0fe94"
      },
      "source": [
        "nltk.download('punkt')"
      ],
      "execution_count": 37,
      "outputs": [
        {
          "output_type": "stream",
          "text": [
            "[nltk_data] Downloading package punkt to /root/nltk_data...\n",
            "[nltk_data]   Unzipping tokenizers/punkt.zip.\n"
          ],
          "name": "stdout"
        },
        {
          "output_type": "execute_result",
          "data": {
            "text/plain": [
              "True"
            ]
          },
          "metadata": {
            "tags": []
          },
          "execution_count": 37
        }
      ]
    },
    {
      "cell_type": "code",
      "metadata": {
        "colab": {
          "base_uri": "https://localhost:8080/"
        },
        "id": "Spf9vuuhleD9",
        "outputId": "1688a823-fc02-47e9-b712-3520ea9f0cf7"
      },
      "source": [
        "pipe = make_pipeline(TfidfVectorizer(),\r\n",
        "                    MultinomialNB())\r\n",
        "pipe.fit(X_train,Y_train)\r\n",
        "prediction = pipe.predict(X_test)\r\n",
        "print(f\"Accuracy score is {accuracy_score(Y_test, prediction):.2f}\")\r\n",
        "print(classification_report(Y_test, prediction))"
      ],
      "execution_count": 70,
      "outputs": [
        {
          "output_type": "stream",
          "text": [
            "Accuracy score is 0.82\n",
            "              precision    recall  f1-score   support\n",
            "\n",
            "       False       0.82      1.00      0.90      2060\n",
            "        True       0.00      0.00      0.00       450\n",
            "\n",
            "    accuracy                           0.82      2510\n",
            "   macro avg       0.41      0.50      0.45      2510\n",
            "weighted avg       0.67      0.82      0.74      2510\n",
            "\n"
          ],
          "name": "stdout"
        }
      ]
    },
    {
      "cell_type": "code",
      "metadata": {
        "colab": {
          "base_uri": "https://localhost:8080/"
        },
        "id": "w26r4e64lDSq",
        "outputId": "a32626ec-7088-4195-e136-b6957a83502d"
      },
      "source": [
        "pipe = make_pipeline(TfidfVectorizer(),\r\n",
        "                    BernoulliNB())\r\n",
        "pipe.fit(X_train,Y_train)\r\n",
        "prediction = pipe.predict(X_test)\r\n",
        "print(f\"Accuracy score is {accuracy_score(Y_test, prediction):.2f}\")\r\n",
        "print(classification_report(Y_test, prediction))"
      ],
      "execution_count": 71,
      "outputs": [
        {
          "output_type": "stream",
          "text": [
            "Accuracy score is 0.82\n",
            "              precision    recall  f1-score   support\n",
            "\n",
            "       False       0.82      1.00      0.90      2060\n",
            "        True       0.62      0.01      0.02       450\n",
            "\n",
            "    accuracy                           0.82      2510\n",
            "   macro avg       0.72      0.50      0.46      2510\n",
            "weighted avg       0.79      0.82      0.74      2510\n",
            "\n"
          ],
          "name": "stdout"
        }
      ]
    },
    {
      "cell_type": "code",
      "metadata": {
        "colab": {
          "base_uri": "https://localhost:8080/"
        },
        "id": "uCf02RravjvK",
        "outputId": "a221af3e-d968-4e88-f49b-1701353f1c58"
      },
      "source": [
        "pipe = make_pipeline(TfidfVectorizer(),\r\n",
        "                    ComplementNB())\r\n",
        "pipe.fit(X_train,Y_train)\r\n",
        "prediction = pipe.predict(X_test)\r\n",
        "print(f\"Accuracy score is {accuracy_score(Y_test, prediction):.2f}\")\r\n",
        "print(classification_report(Y_test, prediction))"
      ],
      "execution_count": 72,
      "outputs": [
        {
          "output_type": "stream",
          "text": [
            "Accuracy score is 0.83\n",
            "              precision    recall  f1-score   support\n",
            "\n",
            "       False       0.85      0.96      0.90      2060\n",
            "        True       0.55      0.22      0.32       450\n",
            "\n",
            "    accuracy                           0.83      2510\n",
            "   macro avg       0.70      0.59      0.61      2510\n",
            "weighted avg       0.80      0.83      0.80      2510\n",
            "\n"
          ],
          "name": "stdout"
        }
      ]
    },
    {
      "cell_type": "code",
      "metadata": {
        "colab": {
          "base_uri": "https://localhost:8080/"
        },
        "id": "LAersv9ov9vZ",
        "outputId": "cd525153-bedb-44d2-e3c2-c058d7c28f5f"
      },
      "source": [
        "pipe_svm = make_pipeline(TfidfVectorizer(),\r\n",
        "                     SVC())\r\n",
        "param_grid = {'svc__kernel': ['rbf', 'linear', 'poly'],\r\n",
        "             'svc__gamma': [0.1, 1, 10, 100],\r\n",
        "             'svc__C': [0.1, 1, 10, 100]}\r\n",
        "\r\n",
        "svc_model = GridSearchCV(pipe_svm, param_grid, cv=3)\r\n",
        "svc_model.fit(X_train, Y_train)\r\n",
        "\r\n",
        "prediction = svc_model.predict(X_test)\r\n",
        "print(f\"Accuracy score is {accuracy_score(Y_test, prediction):.2f}\")\r\n",
        "print(classification_report(Y_test, prediction))"
      ],
      "execution_count": 73,
      "outputs": [
        {
          "output_type": "stream",
          "text": [
            "Accuracy score is 0.83\n",
            "              precision    recall  f1-score   support\n",
            "\n",
            "       False       0.84      0.98      0.91      2060\n",
            "        True       0.63      0.15      0.24       450\n",
            "\n",
            "    accuracy                           0.83      2510\n",
            "   macro avg       0.73      0.56      0.57      2510\n",
            "weighted avg       0.80      0.83      0.79      2510\n",
            "\n"
          ],
          "name": "stdout"
        }
      ]
    },
    {
      "cell_type": "code",
      "metadata": {
        "colab": {
          "base_uri": "https://localhost:8080/"
        },
        "id": "zQ0HiF0JwXuv",
        "outputId": "15675523-9ca1-4aee-9baa-1b23aff38d41"
      },
      "source": [
        "pipe_rf = make_pipeline(TfidfVectorizer(),\r\n",
        "                    RandomForestClassifier())\r\n",
        "\r\n",
        "param_grid = {'randomforestclassifier__n_estimators':[10, 100, 1000],\r\n",
        "             'randomforestclassifier__max_features':['sqrt', 'log2']}\r\n",
        "\r\n",
        "rf_model = GridSearchCV(pipe_rf, param_grid, cv=5)\r\n",
        "rf_model.fit(X_train,Y_train)\r\n",
        "\r\n",
        "prediction = rf_model.predict(X_test)\r\n",
        "print(f\"Accuracy score is {accuracy_score(Y_test, prediction):.2f}\")"
      ],
      "execution_count": 74,
      "outputs": [
        {
          "output_type": "stream",
          "text": [
            "Accuracy score is 0.83\n"
          ],
          "name": "stdout"
        }
      ]
    },
    {
      "cell_type": "code",
      "metadata": {
        "colab": {
          "base_uri": "https://localhost:8080/"
        },
        "id": "pyMOQxb01N-f",
        "outputId": "4bfd12f3-3a5b-4f47-d8ea-e194bb184362"
      },
      "source": [
        "print(classification_report(Y_test, prediction))"
      ],
      "execution_count": 75,
      "outputs": [
        {
          "output_type": "stream",
          "text": [
            "              precision    recall  f1-score   support\n",
            "\n",
            "       False       0.83      0.99      0.90      2060\n",
            "        True       0.63      0.08      0.14       450\n",
            "\n",
            "    accuracy                           0.83      2510\n",
            "   macro avg       0.73      0.53      0.52      2510\n",
            "weighted avg       0.80      0.83      0.77      2510\n",
            "\n"
          ],
          "name": "stdout"
        }
      ]
    }
  ]
}