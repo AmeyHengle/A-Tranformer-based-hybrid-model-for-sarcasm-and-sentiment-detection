{
  "nbformat": 4,
  "nbformat_minor": 0,
  "metadata": {
    "colab": {
      "name": "Preprocess Final.ipynb",
      "provenance": []
    },
    "kernelspec": {
      "display_name": "Python 3",
      "name": "python3"
    }
  },
  "cells": [
    {
      "cell_type": "code",
      "metadata": {
        "id": "J1_5YFg3YU7s"
      },
      "source": [
        "import numpy as np\r\n",
        "import pandas as pd\r\n",
        "import re"
      ],
      "execution_count": 1,
      "outputs": []
    },
    {
      "cell_type": "code",
      "metadata": {
        "id": "lgoXx8pvYfs9"
      },
      "source": [
        "data = pd.read_csv('/content/preprocessed_2.csv')\r\n",
        "emoji_corpus = pd.read_csv('/content/emoticons_mapping.csv')\r\n",
        "emoji_corpus.head()"
      ],
      "execution_count": null,
      "outputs": []
    },
    {
      "cell_type": "code",
      "metadata": {
        "id": "U7rBCyHWHZ6X"
      },
      "source": [
        "data['tweet'] = data['tweet'].str.replace(r'[\\U00010000-\\U0010ffff]', find_emojis)"
      ],
      "execution_count": 5,
      "outputs": []
    },
    {
      "cell_type": "code",
      "metadata": {
        "id": "EPYdt0eYQHB3"
      },
      "source": [
        "def find_emojis(match):\r\n",
        "    emoji_set = set(match.group(0))\r\n",
        "    print(emoji_set)\r\n",
        "    for emoji in emoji_set:\r\n",
        "        if emoji in emoji_corpus['emoticon']:\r\n",
        "            q = f\"emoticon == {emoji}\"\r\n",
        "            return emoji_corpus.query(q)['arabic_translation']"
      ],
      "execution_count": 3,
      "outputs": []
    },
    {
      "cell_type": "code",
      "metadata": {
        "id": "H3X_F4BEupb6"
      },
      "source": [
        "data2['tweet'] = data2['tweet'].str.replace('\\u00a9|\\u00ae|[\\u2000-\\u3300]|\\ud83c[\\ud000-\\udfff]|\\ud83d[\\ud000-\\udfff]|\\ud83e[\\ud000-\\udfff]', find_emojis)"
      ],
      "execution_count": null,
      "outputs": []
    },
    {
      "cell_type": "code",
      "metadata": {
        "id": "y1HgJNUXu-IQ"
      },
      "source": [
        "data2.to_csv('/content/preprocessed_fin.csv')"
      ],
      "execution_count": 25,
      "outputs": []
    }
  ]
}