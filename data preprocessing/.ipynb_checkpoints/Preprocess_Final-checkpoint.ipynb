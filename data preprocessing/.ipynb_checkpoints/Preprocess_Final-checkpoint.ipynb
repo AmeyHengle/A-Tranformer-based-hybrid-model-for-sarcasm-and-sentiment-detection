{
 "cells": [
  {
   "cell_type": "code",
   "execution_count": 1,
   "metadata": {
    "id": "J1_5YFg3YU7s"
   },
   "outputs": [],
   "source": [
    "import numpy as np\n",
    "import pandas as pd\n",
    "import re"
   ]
  },
  {
   "cell_type": "code",
   "execution_count": null,
   "metadata": {
    "id": "lgoXx8pvYfs9"
   },
   "outputs": [],
   "source": [
    "data = pd.read_csv('/content/preprocessed_2.csv')\n",
    "emoji_corpus = pd.read_csv('/content/emoticons_mapping.csv')\n",
    "emoji_corpus.head()"
   ]
  },
  {
   "cell_type": "code",
   "execution_count": 5,
   "metadata": {
    "id": "U7rBCyHWHZ6X"
   },
   "outputs": [],
   "source": [
    "data['tweet'] = data['tweet'].str.replace(r'[\\U00010000-\\U0010ffff]', find_emojis)"
   ]
  },
  {
   "cell_type": "code",
   "execution_count": 3,
   "metadata": {
    "id": "EPYdt0eYQHB3"
   },
   "outputs": [],
   "source": [
    "def find_emojis(match):\n",
    "    emoji_set = set(match.group(0))\n",
    "    print(emoji_set)\n",
    "    for emoji in emoji_set:\n",
    "        if emoji in emoji_corpus['emoticon']:\n",
    "            q = f\"emoticon == {emoji}\"\n",
    "            return emoji_corpus.query(q)['arabic_translation']"
   ]
  },
  {
   "cell_type": "code",
   "execution_count": null,
   "metadata": {
    "id": "H3X_F4BEupb6"
   },
   "outputs": [],
   "source": [
    "data2['tweet'] = data2['tweet'].str.replace('\\u00a9|\\u00ae|[\\u2000-\\u3300]|\\ud83c[\\ud000-\\udfff]|\\ud83d[\\ud000-\\udfff]|\\ud83e[\\ud000-\\udfff]', find_emojis)"
   ]
  },
  {
   "cell_type": "code",
   "execution_count": 25,
   "metadata": {
    "id": "y1HgJNUXu-IQ"
   },
   "outputs": [],
   "source": [
    "data2.to_csv('/content/preprocessed_fin.csv')"
   ]
  }
 ],
 "metadata": {
  "colab": {
   "name": "Preprocess Final.ipynb",
   "provenance": []
  },
  "kernelspec": {
   "display_name": "Python 3",
   "language": "python",
   "name": "python3"
  },
  "language_info": {
   "codemirror_mode": {
    "name": "ipython",
    "version": 3
   },
   "file_extension": ".py",
   "mimetype": "text/x-python",
   "name": "python",
   "nbconvert_exporter": "python",
   "pygments_lexer": "ipython3",
   "version": "3.7.4"
  },
  "toc": {
   "base_numbering": 1,
   "nav_menu": {},
   "number_sections": true,
   "sideBar": true,
   "skip_h1_title": false,
   "title_cell": "Table of Contents",
   "title_sidebar": "Contents",
   "toc_cell": false,
   "toc_position": {},
   "toc_section_display": true,
   "toc_window_display": false
  }
 },
 "nbformat": 4,
 "nbformat_minor": 1
}
