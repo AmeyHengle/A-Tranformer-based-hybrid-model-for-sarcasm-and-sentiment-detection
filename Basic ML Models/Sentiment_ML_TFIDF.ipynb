{
  "nbformat": 4,
  "nbformat_minor": 0,
  "metadata": {
    "colab": {
      "name": "Sentiment_ML_TFIDF .ipynb",
      "provenance": [],
      "authorship_tag": "ABX9TyMfFIXjKpCq/UqrcaOP47Ii",
      "include_colab_link": true
    },
    "kernelspec": {
      "name": "python3",
      "display_name": "Python 3"
    },
    "accelerator": "GPU"
  },
  "cells": [
    {
      "cell_type": "markdown",
      "metadata": {
        "id": "view-in-github",
        "colab_type": "text"
      },
      "source": [
        "<a href=\"https://colab.research.google.com/github/AmeyHengle/Arabic-Sentiment-Identification/blob/main/Basic%20ML%20Models/Sentiment_ML_TFIDF.ipynb\" target=\"_parent\"><img src=\"https://colab.research.google.com/assets/colab-badge.svg\" alt=\"Open In Colab\"/></a>"
      ]
    },
    {
      "cell_type": "code",
      "metadata": {
        "id": "B-Z5HcXV5qNh"
      },
      "source": [
        "import numpy as np\r\n",
        "import pandas as pd\r\n",
        "import matplotlib.pyplot as plt\r\n",
        "from sklearn.model_selection import train_test_split, GridSearchCV\r\n",
        "from sklearn.feature_extraction.text import TfidfVectorizer\r\n",
        "from sklearn.pipeline import make_pipeline\r\n",
        "from sklearn.linear_model import LogisticRegression\r\n",
        "from sklearn.ensemble import RandomForestClassifier\r\n",
        "from sklearn.naive_bayes import MultinomialNB, GaussianNB, BernoulliNB, ComplementNB\r\n",
        "from sklearn.svm import SVC\r\n",
        "from sklearn.metrics import confusion_matrix,accuracy_score, classification_report"
      ],
      "execution_count": null,
      "outputs": []
    },
    {
      "cell_type": "code",
      "metadata": {
        "colab": {
          "base_uri": "https://localhost:8080/",
          "height": 355
        },
        "id": "hSN3CgOq6Q7x",
        "outputId": "fd8698de-2da6-4f9c-8a4f-9f9e45ca694d"
      },
      "source": [
        "train_data = pd.read_csv('/content/preprocessed_1.csv')\r\n",
        "train_data.head(10)"
      ],
      "execution_count": null,
      "outputs": [
        {
          "output_type": "execute_result",
          "data": {
            "text/html": [
              "<div>\n",
              "<style scoped>\n",
              "    .dataframe tbody tr th:only-of-type {\n",
              "        vertical-align: middle;\n",
              "    }\n",
              "\n",
              "    .dataframe tbody tr th {\n",
              "        vertical-align: top;\n",
              "    }\n",
              "\n",
              "    .dataframe thead th {\n",
              "        text-align: right;\n",
              "    }\n",
              "</style>\n",
              "<table border=\"1\" class=\"dataframe\">\n",
              "  <thead>\n",
              "    <tr style=\"text-align: right;\">\n",
              "      <th></th>\n",
              "      <th>Unnamed: 0</th>\n",
              "      <th>tweet</th>\n",
              "      <th>sarcasm</th>\n",
              "      <th>sentiment</th>\n",
              "      <th>dialect</th>\n",
              "    </tr>\n",
              "  </thead>\n",
              "  <tbody>\n",
              "    <tr>\n",
              "      <th>0</th>\n",
              "      <td>0</td>\n",
              "      <td>محمودالعلايلياري الفريق احمدشفيق رقم مهم المعا...</td>\n",
              "      <td>False</td>\n",
              "      <td>NEU</td>\n",
              "      <td>msa</td>\n",
              "    </tr>\n",
              "    <tr>\n",
              "      <th>1</th>\n",
              "      <td>1</td>\n",
              "      <td>فيدرر يا اجا والكبار 😍</td>\n",
              "      <td>False</td>\n",
              "      <td>NEU</td>\n",
              "      <td>msa</td>\n",
              "    </tr>\n",
              "    <tr>\n",
              "      <th>2</th>\n",
              "      <td>2</td>\n",
              "      <td>الداعون لمبدا الاختلاط الجنسين كالداعين لالغاء...</td>\n",
              "      <td>True</td>\n",
              "      <td>NEG</td>\n",
              "      <td>msa</td>\n",
              "    </tr>\n",
              "    <tr>\n",
              "      <th>3</th>\n",
              "      <td>3</td>\n",
              "      <td>مساكين الصبح هوما رايحين راجعين عاي غوغل تعبت ...</td>\n",
              "      <td>True</td>\n",
              "      <td>NEG</td>\n",
              "      <td>gulf</td>\n",
              "    </tr>\n",
              "    <tr>\n",
              "      <th>4</th>\n",
              "      <td>4</td>\n",
              "      <td>قل شرق حلب تقل حلب الشرقيه وقل غرب حلب تقل حلب...</td>\n",
              "      <td>False</td>\n",
              "      <td>NEU</td>\n",
              "      <td>msa</td>\n",
              "    </tr>\n",
              "    <tr>\n",
              "      <th>5</th>\n",
              "      <td>5</td>\n",
              "      <td>طبيب المقاصه اصابه احمدالشيخ بسيطه تحتاج للراحه</td>\n",
              "      <td>False</td>\n",
              "      <td>NEG</td>\n",
              "      <td>msa</td>\n",
              "    </tr>\n",
              "    <tr>\n",
              "      <th>6</th>\n",
              "      <td>6</td>\n",
              "      <td>مرسي مش هنام اكتر اربع ساعات نمت دقيقه كمان زي...</td>\n",
              "      <td>True</td>\n",
              "      <td>NEG</td>\n",
              "      <td>egypt</td>\n",
              "    </tr>\n",
              "    <tr>\n",
              "      <th>7</th>\n",
              "      <td>7</td>\n",
              "      <td>انتخبواالبرص مشكله</td>\n",
              "      <td>True</td>\n",
              "      <td>NEG</td>\n",
              "      <td>egypt</td>\n",
              "    </tr>\n",
              "    <tr>\n",
              "      <th>8</th>\n",
              "      <td>8</td>\n",
              "      <td>Retweeted هاشتاق العرب فيديو اهالي القدس يرفعو...</td>\n",
              "      <td>False</td>\n",
              "      <td>POS</td>\n",
              "      <td>msa</td>\n",
              "    </tr>\n",
              "    <tr>\n",
              "      <th>9</th>\n",
              "      <td>9</td>\n",
              "      <td>▪️محافظ العاصمه تفقد سير العمليه الانتخابيه لج...</td>\n",
              "      <td>False</td>\n",
              "      <td>NEU</td>\n",
              "      <td>msa</td>\n",
              "    </tr>\n",
              "  </tbody>\n",
              "</table>\n",
              "</div>"
            ],
            "text/plain": [
              "   Unnamed: 0  ... dialect\n",
              "0           0  ...     msa\n",
              "1           1  ...     msa\n",
              "2           2  ...     msa\n",
              "3           3  ...    gulf\n",
              "4           4  ...     msa\n",
              "5           5  ...     msa\n",
              "6           6  ...   egypt\n",
              "7           7  ...   egypt\n",
              "8           8  ...     msa\n",
              "9           9  ...     msa\n",
              "\n",
              "[10 rows x 5 columns]"
            ]
          },
          "metadata": {
            "tags": []
          },
          "execution_count": 2
        }
      ]
    },
    {
      "cell_type": "code",
      "metadata": {
        "id": "pJaWb34H7HS2"
      },
      "source": [
        "X_train, X_test, Y_train, Y_test = train_test_split(train_data['tweet'], train_data['sentiment'], test_size =0.2, random_state=100)"
      ],
      "execution_count": 3,
      "outputs": []
    },
    {
      "cell_type": "code",
      "metadata": {
        "colab": {
          "base_uri": "https://localhost:8080/"
        },
        "id": "QiikOov27yqj",
        "outputId": "b08e1a2e-250d-41c7-ff8f-2d2d88fc2623"
      },
      "source": [
        "X_train = np.array(X_train)#.reshape((X_train.shape[0],1))\r\n",
        "X_test = np.array(X_test)#.reshape((X_test.shape[0],1))\r\n",
        "Y_train = np.array(Y_train)#.reshape((Y_train.shape[0],1))\r\n",
        "Y_test = np.array(Y_test)#.reshape((Y_test.shape[0],1))\r\n",
        "print(X_train.shape, X_test.shape, Y_train.shape, Y_test.shape)"
      ],
      "execution_count": 4,
      "outputs": [
        {
          "output_type": "stream",
          "text": [
            "(10038,) (2510,) (10038,) (2510,)\n"
          ],
          "name": "stdout"
        }
      ]
    },
    {
      "cell_type": "code",
      "metadata": {
        "colab": {
          "base_uri": "https://localhost:8080/"
        },
        "id": "eHX9HdYm76Pz",
        "outputId": "9e185d42-95a7-43f0-bde6-ef234083343a"
      },
      "source": [
        "pipe = make_pipeline(TfidfVectorizer(),\r\n",
        "                    MultinomialNB())\r\n",
        "pipe.fit(X_train,Y_train)\r\n",
        "prediction = pipe.predict(X_test)\r\n",
        "print(f\"Accuracy score is {accuracy_score(Y_test, prediction):.2f}\")\r\n",
        "print(classification_report(Y_test, prediction))"
      ],
      "execution_count": 5,
      "outputs": [
        {
          "output_type": "stream",
          "text": [
            "Accuracy score is 0.63\n",
            "              precision    recall  f1-score   support\n",
            "\n",
            "         NEG       0.65      0.61      0.63       908\n",
            "         NEU       0.62      0.85      0.72      1167\n",
            "         POS       0.75      0.05      0.09       435\n",
            "\n",
            "    accuracy                           0.63      2510\n",
            "   macro avg       0.67      0.51      0.48      2510\n",
            "weighted avg       0.65      0.63      0.58      2510\n",
            "\n"
          ],
          "name": "stdout"
        }
      ]
    },
    {
      "cell_type": "code",
      "metadata": {
        "colab": {
          "base_uri": "https://localhost:8080/"
        },
        "id": "1JVEcFjJ79he",
        "outputId": "56a0e065-5ab9-4509-8ecc-eecd8191edd5"
      },
      "source": [
        "pipe = make_pipeline(TfidfVectorizer(),\r\n",
        "                    BernoulliNB())\r\n",
        "pipe.fit(X_train,Y_train)\r\n",
        "prediction = pipe.predict(X_test)\r\n",
        "print(f\"Accuracy score is {accuracy_score(Y_test, prediction):.2f}\")\r\n",
        "print(classification_report(Y_test, prediction))"
      ],
      "execution_count": 6,
      "outputs": [
        {
          "output_type": "stream",
          "text": [
            "Accuracy score is 0.58\n",
            "              precision    recall  f1-score   support\n",
            "\n",
            "         NEG       0.77      0.39      0.52       908\n",
            "         NEU       0.54      0.95      0.69      1167\n",
            "         POS       0.33      0.01      0.01       435\n",
            "\n",
            "    accuracy                           0.58      2510\n",
            "   macro avg       0.55      0.45      0.41      2510\n",
            "weighted avg       0.59      0.58      0.51      2510\n",
            "\n"
          ],
          "name": "stdout"
        }
      ]
    },
    {
      "cell_type": "code",
      "metadata": {
        "colab": {
          "base_uri": "https://localhost:8080/"
        },
        "id": "o1e35hgj8IVT",
        "outputId": "8b8c136a-a850-4c48-9634-0edaf7830470"
      },
      "source": [
        "pipe = make_pipeline(TfidfVectorizer(),\r\n",
        "                    ComplementNB())\r\n",
        "pipe.fit(X_train,Y_train)\r\n",
        "prediction = pipe.predict(X_test)\r\n",
        "print(f\"Accuracy score is {accuracy_score(Y_test, prediction):.2f}\")\r\n",
        "print(classification_report(Y_test, prediction))"
      ],
      "execution_count": 7,
      "outputs": [
        {
          "output_type": "stream",
          "text": [
            "Accuracy score is 0.67\n",
            "              precision    recall  f1-score   support\n",
            "\n",
            "         NEG       0.65      0.69      0.67       908\n",
            "         NEU       0.70      0.75      0.73      1167\n",
            "         POS       0.57      0.38      0.46       435\n",
            "\n",
            "    accuracy                           0.67      2510\n",
            "   macro avg       0.64      0.61      0.62      2510\n",
            "weighted avg       0.66      0.67      0.66      2510\n",
            "\n"
          ],
          "name": "stdout"
        }
      ]
    },
    {
      "cell_type": "code",
      "metadata": {
        "colab": {
          "base_uri": "https://localhost:8080/"
        },
        "id": "lji8vMDk8Pmb",
        "outputId": "5634e318-3fb5-489a-e608-f8de1fd3b5b3"
      },
      "source": [
        "pipe_svm = make_pipeline(TfidfVectorizer(),\r\n",
        "                     SVC())\r\n",
        "param_grid = {'svc__kernel': ['rbf', 'linear', 'poly'],\r\n",
        "             'svc__gamma': [0.1, 1, 10, 100],\r\n",
        "             'svc__C': [0.1, 1, 10, 100]}\r\n",
        "\r\n",
        "svc_model = GridSearchCV(pipe_svm, param_grid, cv=3)\r\n",
        "svc_model.fit(X_train, Y_train)\r\n",
        "\r\n",
        "prediction = svc_model.predict(X_test)\r\n",
        "print(f\"Accuracy score is {accuracy_score(Y_test, prediction):.2f}\")\r\n",
        "print(classification_report(Y_test, prediction))"
      ],
      "execution_count": 8,
      "outputs": [
        {
          "output_type": "stream",
          "text": [
            "Accuracy score is 0.65\n",
            "              precision    recall  f1-score   support\n",
            "\n",
            "         NEG       0.64      0.69      0.66       908\n",
            "         NEU       0.68      0.76      0.72      1167\n",
            "         POS       0.59      0.31      0.40       435\n",
            "\n",
            "    accuracy                           0.65      2510\n",
            "   macro avg       0.63      0.58      0.59      2510\n",
            "weighted avg       0.65      0.65      0.64      2510\n",
            "\n"
          ],
          "name": "stdout"
        }
      ]
    },
    {
      "cell_type": "code",
      "metadata": {
        "colab": {
          "base_uri": "https://localhost:8080/"
        },
        "id": "fAYBIhDF8Ww_",
        "outputId": "9e8ea718-0510-479c-9d33-9c4d356eeba5"
      },
      "source": [
        "pipe_rf = make_pipeline(TfidfVectorizer(),\r\n",
        "                    RandomForestClassifier())\r\n",
        "\r\n",
        "param_grid = {'randomforestclassifier__n_estimators':[10, 100, 1000],\r\n",
        "             'randomforestclassifier__max_features':['sqrt', 'log2']}\r\n",
        "\r\n",
        "rf_model = GridSearchCV(pipe_rf, param_grid, cv=5)\r\n",
        "rf_model.fit(X_train,Y_train)\r\n",
        "\r\n",
        "prediction = rf_model.predict(X_test)\r\n",
        "print(f\"Accuracy score is {accuracy_score(Y_test, prediction):.2f}\")\r\n",
        "print(classification_report(Y_test, prediction))"
      ],
      "execution_count": 9,
      "outputs": [
        {
          "output_type": "stream",
          "text": [
            "Accuracy score is 0.62\n",
            "              precision    recall  f1-score   support\n",
            "\n",
            "         NEG       0.65      0.52      0.58       908\n",
            "         NEU       0.61      0.83      0.70      1167\n",
            "         POS       0.62      0.28      0.38       435\n",
            "\n",
            "    accuracy                           0.62      2510\n",
            "   macro avg       0.62      0.54      0.55      2510\n",
            "weighted avg       0.62      0.62      0.60      2510\n",
            "\n"
          ],
          "name": "stdout"
        }
      ]
    },
    {
      "cell_type": "code",
      "metadata": {
        "id": "Uca2o8QR8mDO"
      },
      "source": [
        ""
      ],
      "execution_count": null,
      "outputs": []
    }
  ]
}