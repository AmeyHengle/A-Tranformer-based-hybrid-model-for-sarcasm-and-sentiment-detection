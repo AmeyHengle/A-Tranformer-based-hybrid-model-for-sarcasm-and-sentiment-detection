{
  "nbformat": 4,
  "nbformat_minor": 0,
  "metadata": {
    "colab": {
      "name": "SA_with_word_counts.ipynb",
      "provenance": [],
      "authorship_tag": "ABX9TyOwU/gJ+igUw/9LTkA1y2FD",
      "include_colab_link": true
    },
    "kernelspec": {
      "name": "python3",
      "display_name": "Python 3"
    },
    "accelerator": "GPU"
  },
  "cells": [
    {
      "cell_type": "markdown",
      "metadata": {
        "id": "view-in-github",
        "colab_type": "text"
      },
      "source": [
        "<a href=\"https://colab.research.google.com/github/AmeyHengle/Arabic-Sentiment-Identification/blob/main/Basic%20ML%20Models/SA_with_word_counts.ipynb\" target=\"_parent\"><img src=\"https://colab.research.google.com/assets/colab-badge.svg\" alt=\"Open In Colab\"/></a>"
      ]
    },
    {
      "cell_type": "code",
      "metadata": {
        "id": "0VzoCiPkEzcD"
      },
      "source": [
        "import numpy as np\r\n",
        "import pandas as pd\r\n",
        "from sklearn.model_selection import train_test_split, GridSearchCV\r\n",
        "from sklearn.linear_model import LogisticRegression\r\n",
        "from sklearn.metrics import classification_report, accuracy_score\r\n",
        "from sklearn.naive_bayes import MultinomialNB, ComplementNB\r\n",
        "from sklearn.svm import SVC"
      ],
      "execution_count": 49,
      "outputs": []
    },
    {
      "cell_type": "code",
      "metadata": {
        "id": "6yjVeytmGE5G"
      },
      "source": [
        "data = pd.read_csv('/content/data_w_freqcnts.csv')"
      ],
      "execution_count": 2,
      "outputs": []
    },
    {
      "cell_type": "code",
      "metadata": {
        "id": "mOl2t-g9GYw5"
      },
      "source": [
        "X = np.zeros((12548, 4), dtype='int32')\r\n",
        "for i in range(len(data['tweet'])):\r\n",
        "  X[i] = np.array([1,data['POS_FREQ'][i],data['NEG_FREQ'][i], data['NEU_FREQ'][i]], dtype='int32')"
      ],
      "execution_count": 3,
      "outputs": []
    },
    {
      "cell_type": "code",
      "metadata": {
        "colab": {
          "base_uri": "https://localhost:8080/",
          "height": 415
        },
        "id": "8nIEIUZ4Git7",
        "outputId": "38733966-172b-416a-9670-9453767b606e"
      },
      "source": [
        "data"
      ],
      "execution_count": 4,
      "outputs": [
        {
          "output_type": "execute_result",
          "data": {
            "text/html": [
              "<div>\n",
              "<style scoped>\n",
              "    .dataframe tbody tr th:only-of-type {\n",
              "        vertical-align: middle;\n",
              "    }\n",
              "\n",
              "    .dataframe tbody tr th {\n",
              "        vertical-align: top;\n",
              "    }\n",
              "\n",
              "    .dataframe thead th {\n",
              "        text-align: right;\n",
              "    }\n",
              "</style>\n",
              "<table border=\"1\" class=\"dataframe\">\n",
              "  <thead>\n",
              "    <tr style=\"text-align: right;\">\n",
              "      <th></th>\n",
              "      <th>Unnamed: 0</th>\n",
              "      <th>Unnamed: 0.1</th>\n",
              "      <th>tweet</th>\n",
              "      <th>sarcasm</th>\n",
              "      <th>sentiment</th>\n",
              "      <th>dialect</th>\n",
              "      <th>POS_FREQ</th>\n",
              "      <th>NEG_FREQ</th>\n",
              "      <th>NEU_FREQ</th>\n",
              "    </tr>\n",
              "  </thead>\n",
              "  <tbody>\n",
              "    <tr>\n",
              "      <th>0</th>\n",
              "      <td>0</td>\n",
              "      <td>0</td>\n",
              "      <td>محمودالعلايلياري الفريق احمدشفيق رقم مهم المعا...</td>\n",
              "      <td>False</td>\n",
              "      <td>NEU</td>\n",
              "      <td>msa</td>\n",
              "      <td>29</td>\n",
              "      <td>8</td>\n",
              "      <td>61</td>\n",
              "    </tr>\n",
              "    <tr>\n",
              "      <th>1</th>\n",
              "      <td>1</td>\n",
              "      <td>1</td>\n",
              "      <td>فيدرر يا اجا والكبار</td>\n",
              "      <td>False</td>\n",
              "      <td>NEU</td>\n",
              "      <td>msa</td>\n",
              "      <td>5</td>\n",
              "      <td>5</td>\n",
              "      <td>27</td>\n",
              "    </tr>\n",
              "    <tr>\n",
              "      <th>2</th>\n",
              "      <td>2</td>\n",
              "      <td>2</td>\n",
              "      <td>الداعون لمبدا الاختلاط الجنسين كالداعين لالغاء...</td>\n",
              "      <td>True</td>\n",
              "      <td>NEG</td>\n",
              "      <td>msa</td>\n",
              "      <td>38</td>\n",
              "      <td>13</td>\n",
              "      <td>100</td>\n",
              "    </tr>\n",
              "    <tr>\n",
              "      <th>3</th>\n",
              "      <td>3</td>\n",
              "      <td>3</td>\n",
              "      <td>مساكين الصبح هوما رايحين راجعين عاي غوغل تعبت ...</td>\n",
              "      <td>True</td>\n",
              "      <td>NEG</td>\n",
              "      <td>gulf</td>\n",
              "      <td>16</td>\n",
              "      <td>12</td>\n",
              "      <td>74</td>\n",
              "    </tr>\n",
              "    <tr>\n",
              "      <th>4</th>\n",
              "      <td>4</td>\n",
              "      <td>4</td>\n",
              "      <td>قل شرق حلب تقل حلب الشرقيه وقل غرب حلب تقل حلب...</td>\n",
              "      <td>False</td>\n",
              "      <td>NEU</td>\n",
              "      <td>msa</td>\n",
              "      <td>51</td>\n",
              "      <td>28</td>\n",
              "      <td>188</td>\n",
              "    </tr>\n",
              "    <tr>\n",
              "      <th>...</th>\n",
              "      <td>...</td>\n",
              "      <td>...</td>\n",
              "      <td>...</td>\n",
              "      <td>...</td>\n",
              "      <td>...</td>\n",
              "      <td>...</td>\n",
              "      <td>...</td>\n",
              "      <td>...</td>\n",
              "      <td>...</td>\n",
              "    </tr>\n",
              "    <tr>\n",
              "      <th>12543</th>\n",
              "      <td>12543</td>\n",
              "      <td>12543</td>\n",
              "      <td>هلا صاير انت يا فلعوط بدك تعطي محاضرات تويتر ب...</td>\n",
              "      <td>True</td>\n",
              "      <td>NEG</td>\n",
              "      <td>levant</td>\n",
              "      <td>60</td>\n",
              "      <td>55</td>\n",
              "      <td>295</td>\n",
              "    </tr>\n",
              "    <tr>\n",
              "      <th>12544</th>\n",
              "      <td>12544</td>\n",
              "      <td>12544</td>\n",
              "      <td>اله اللهايفونالبروفيسور</td>\n",
              "      <td>False</td>\n",
              "      <td>NEU</td>\n",
              "      <td>egypt</td>\n",
              "      <td>13</td>\n",
              "      <td>11</td>\n",
              "      <td>52</td>\n",
              "    </tr>\n",
              "    <tr>\n",
              "      <th>12545</th>\n",
              "      <td>12545</td>\n",
              "      <td>12545</td>\n",
              "      <td>اردوغان المرتكب مسلم يسمونها عمليه ارهابيه يتح...</td>\n",
              "      <td>False</td>\n",
              "      <td>NEU</td>\n",
              "      <td>msa</td>\n",
              "      <td>36</td>\n",
              "      <td>34</td>\n",
              "      <td>173</td>\n",
              "    </tr>\n",
              "    <tr>\n",
              "      <th>12546</th>\n",
              "      <td>12546</td>\n",
              "      <td>12546</td>\n",
              "      <td>هاري بوتر</td>\n",
              "      <td>False</td>\n",
              "      <td>POS</td>\n",
              "      <td>egypt</td>\n",
              "      <td>3</td>\n",
              "      <td>5</td>\n",
              "      <td>24</td>\n",
              "    </tr>\n",
              "    <tr>\n",
              "      <th>12547</th>\n",
              "      <td>12547</td>\n",
              "      <td>12547</td>\n",
              "      <td>النت يلعن شكله طول تمام لين بدا الحفل</td>\n",
              "      <td>True</td>\n",
              "      <td>NEG</td>\n",
              "      <td>egypt</td>\n",
              "      <td>18</td>\n",
              "      <td>5</td>\n",
              "      <td>43</td>\n",
              "    </tr>\n",
              "  </tbody>\n",
              "</table>\n",
              "<p>12548 rows × 9 columns</p>\n",
              "</div>"
            ],
            "text/plain": [
              "       Unnamed: 0  Unnamed: 0.1  ... NEG_FREQ  NEU_FREQ\n",
              "0               0             0  ...        8        61\n",
              "1               1             1  ...        5        27\n",
              "2               2             2  ...       13       100\n",
              "3               3             3  ...       12        74\n",
              "4               4             4  ...       28       188\n",
              "...           ...           ...  ...      ...       ...\n",
              "12543       12543         12543  ...       55       295\n",
              "12544       12544         12544  ...       11        52\n",
              "12545       12545         12545  ...       34       173\n",
              "12546       12546         12546  ...        5        24\n",
              "12547       12547         12547  ...        5        43\n",
              "\n",
              "[12548 rows x 9 columns]"
            ]
          },
          "metadata": {
            "tags": []
          },
          "execution_count": 4
        }
      ]
    },
    {
      "cell_type": "code",
      "metadata": {
        "id": "YOa3gN-EGgF-"
      },
      "source": [
        "Y = data['sentiment']"
      ],
      "execution_count": 5,
      "outputs": []
    },
    {
      "cell_type": "code",
      "metadata": {
        "id": "WUIDPxS-GnBf"
      },
      "source": [
        "X_train, X_test, Y_train, Y_test = train_test_split(X,Y, test_size=0.2, random_state=42)"
      ],
      "execution_count": 12,
      "outputs": []
    },
    {
      "cell_type": "code",
      "metadata": {
        "id": "O5nvaSAKJh68"
      },
      "source": [
        "Y_train = np.array(Y_train).reshape(Y_train.shape[0], 1)\r\n",
        "Y_test = np.array(Y_test).reshape(Y_test.shape[0], 1)"
      ],
      "execution_count": 40,
      "outputs": []
    },
    {
      "cell_type": "markdown",
      "metadata": {
        "id": "FHihdAxhMega"
      },
      "source": [
        "# Logistic Regression\r\n"
      ]
    },
    {
      "cell_type": "code",
      "metadata": {
        "colab": {
          "base_uri": "https://localhost:8080/"
        },
        "id": "k6aB7g4hHsc7",
        "outputId": "928d894a-e8f8-4682-ae3b-c499239a9ebd"
      },
      "source": [
        "lr_classifier = LogisticRegression(penalty='l2', solver='sag', max_iter=1000)\r\n",
        "lr_classifier.fit(X_train, Y_train)\r\n",
        "\r\n",
        "prediction = lr_classifier.predict(X_test)\r\n",
        "print(f\"Accuracy score is {accuracy_score(Y_test, prediction):.2f}\")\r\n",
        "print(classification_report(Y_test, prediction))"
      ],
      "execution_count": 41,
      "outputs": [
        {
          "output_type": "stream",
          "text": [
            "/usr/local/lib/python3.6/dist-packages/sklearn/utils/validation.py:760: DataConversionWarning: A column-vector y was passed when a 1d array was expected. Please change the shape of y to (n_samples, ), for example using ravel().\n",
            "  y = column_or_1d(y, warn=True)\n"
          ],
          "name": "stderr"
        },
        {
          "output_type": "stream",
          "text": [
            "Accuracy score is 0.50\n",
            "              precision    recall  f1-score   support\n",
            "\n",
            "         NEG       0.51      0.40      0.45       949\n",
            "         NEU       0.50      0.79      0.61      1124\n",
            "         POS       0.67      0.00      0.01       437\n",
            "\n",
            "    accuracy                           0.50      2510\n",
            "   macro avg       0.56      0.40      0.36      2510\n",
            "weighted avg       0.53      0.50      0.45      2510\n",
            "\n"
          ],
          "name": "stdout"
        }
      ]
    },
    {
      "cell_type": "markdown",
      "metadata": {
        "id": "keKYvW13Mk_r"
      },
      "source": [
        "# Naive Bayes\r\n"
      ]
    },
    {
      "cell_type": "code",
      "metadata": {
        "colab": {
          "base_uri": "https://localhost:8080/"
        },
        "id": "5wEdIyJKLJz7",
        "outputId": "1612d094-d05f-422a-d5b7-9013a9dacf4e"
      },
      "source": [
        "m_nb = MultinomialNB()\r\n",
        "m_nb.fit(X_train,Y_train)\r\n",
        "prediction = m_nb.predict(X_test)\r\n",
        "print(f\"Accuracy score is {accuracy_score(Y_test, prediction):.2f}\")\r\n",
        "print(classification_report(Y_test, prediction))"
      ],
      "execution_count": 44,
      "outputs": [
        {
          "output_type": "stream",
          "text": [
            "Accuracy score is 0.47\n",
            "              precision    recall  f1-score   support\n",
            "\n",
            "         NEG       0.64      0.10      0.17       949\n",
            "         NEU       0.46      0.96      0.62      1124\n",
            "         POS       0.42      0.03      0.06       437\n",
            "\n",
            "    accuracy                           0.47      2510\n",
            "   macro avg       0.51      0.36      0.28      2510\n",
            "weighted avg       0.52      0.47      0.35      2510\n",
            "\n"
          ],
          "name": "stdout"
        },
        {
          "output_type": "stream",
          "text": [
            "/usr/local/lib/python3.6/dist-packages/sklearn/utils/validation.py:760: DataConversionWarning: A column-vector y was passed when a 1d array was expected. Please change the shape of y to (n_samples, ), for example using ravel().\n",
            "  y = column_or_1d(y, warn=True)\n"
          ],
          "name": "stderr"
        }
      ]
    },
    {
      "cell_type": "code",
      "metadata": {
        "colab": {
          "base_uri": "https://localhost:8080/"
        },
        "id": "XOPFnrTCNAdB",
        "outputId": "48e13cef-a3bd-44bc-b107-06260c7cb5e9"
      },
      "source": [
        "c_nb = ComplementNB()\r\n",
        "c_nb.fit(X_train, Y_train)\r\n",
        "prediction = c_nb.predict(X_test)\r\n",
        "print(f\"Accuracy score is {accuracy_score(Y_test, prediction):.2f}\")\r\n",
        "print(classification_report(Y_test, prediction))"
      ],
      "execution_count": 50,
      "outputs": [
        {
          "output_type": "stream",
          "text": [
            "Accuracy score is 0.40\n",
            "              precision    recall  f1-score   support\n",
            "\n",
            "         NEG       0.47      0.49      0.48       949\n",
            "         NEU       0.58      0.33      0.42      1124\n",
            "         POS       0.20      0.41      0.27       437\n",
            "\n",
            "    accuracy                           0.40      2510\n",
            "   macro avg       0.42      0.41      0.39      2510\n",
            "weighted avg       0.47      0.40      0.42      2510\n",
            "\n"
          ],
          "name": "stdout"
        },
        {
          "output_type": "stream",
          "text": [
            "/usr/local/lib/python3.6/dist-packages/sklearn/utils/validation.py:760: DataConversionWarning: A column-vector y was passed when a 1d array was expected. Please change the shape of y to (n_samples, ), for example using ravel().\n",
            "  y = column_or_1d(y, warn=True)\n"
          ],
          "name": "stderr"
        }
      ]
    },
    {
      "cell_type": "code",
      "metadata": {
        "id": "xGWHAMtWNouN"
      },
      "source": [
        ""
      ],
      "execution_count": null,
      "outputs": []
    }
  ]
}