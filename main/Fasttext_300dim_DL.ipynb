{
  "nbformat": 4,
  "nbformat_minor": 0,
  "metadata": {
    "colab": {
      "name": "Fasttext_300dim_DL.ipynb",
      "provenance": [],
      "collapsed_sections": [
        "U6ubFoIzPHhQ"
      ],
      "include_colab_link": true
    },
    "kernelspec": {
      "display_name": "Python 3",
      "language": "python",
      "name": "python3"
    },
    "language_info": {
      "codemirror_mode": {
        "name": "ipython",
        "version": 3
      },
      "file_extension": ".py",
      "mimetype": "text/x-python",
      "name": "python",
      "nbconvert_exporter": "python",
      "pygments_lexer": "ipython3",
      "version": "3.7.4"
    },
    "toc": {
      "base_numbering": 1,
      "nav_menu": {},
      "number_sections": true,
      "sideBar": true,
      "skip_h1_title": false,
      "title_cell": "Table of Contents",
      "title_sidebar": "Contents",
      "toc_cell": false,
      "toc_position": {},
      "toc_section_display": true,
      "toc_window_display": false
    },
    "accelerator": "GPU"
  },
  "cells": [
    {
      "cell_type": "markdown",
      "metadata": {
        "id": "view-in-github",
        "colab_type": "text"
      },
      "source": [
        "<a href=\"https://colab.research.google.com/github/AmeyHengle/Arabic-Sentiment-Identification/blob/main/main/Fasttext_300dim_DL.ipynb\" target=\"_parent\"><img src=\"https://colab.research.google.com/assets/colab-badge.svg\" alt=\"Open In Colab\"/></a>"
      ]
    },
    {
      "cell_type": "code",
      "metadata": {
        "colab": {
          "base_uri": "https://localhost:8080/"
        },
        "id": "iyy1w0bDNxB4",
        "outputId": "b5c9a6b6-07bb-4f45-9b18-a7370efdd9f5"
      },
      "source": [
        "from google.colab import drive\r\n",
        "drive.mount('/content/drive')"
      ],
      "execution_count": null,
      "outputs": [
        {
          "output_type": "stream",
          "text": [
            "Mounted at /content/drive\n"
          ],
          "name": "stdout"
        }
      ]
    },
    {
      "cell_type": "code",
      "metadata": {
        "id": "VmwVkgoA9wRd"
      },
      "source": [
        "import pandas as pd\n",
        "import numpy as np\n",
        "from time import process_time\n",
        "import pickle\n",
        "\n",
        "from sklearn.model_selection import train_test_split\n",
        "from sklearn.metrics import classification_report\n",
        "\n",
        "from custom_functions import *\n",
        "from custom_models import *"
      ],
      "execution_count": null,
      "outputs": []
    },
    {
      "cell_type": "markdown",
      "metadata": {
        "id": "vI_3643nR4Oh"
      },
      "source": [
        "# Prepare Data"
      ]
    },
    {
      "cell_type": "markdown",
      "metadata": {
        "id": "rKVieDo_TY88"
      },
      "source": [
        "**1. Load train and val**"
      ]
    },
    {
      "cell_type": "code",
      "metadata": {
        "colab": {
          "base_uri": "https://localhost:8080/"
        },
        "id": "Gku_FrSyR-c8",
        "outputId": "dc3314b1-406e-4ada-9924-ceec1029610b"
      },
      "source": [
        "# D_train = read_data()\n",
        "# D_test = read_data()\n",
        "data = read_data(\"/content/preprocessed_2.csv\")\n",
        "D_train, D_test =  train_test_split(data ,test_size=0.2, random_state=42)\n",
        "\n",
        "x_train = D_train['tweet']\n",
        "y_train = D_train['sarcasm'].values.tolist()\n",
        "x_val = D_test['tweet']\n",
        "y_val = D_test['sarcasm'].values.tolist()\n",
        "\n",
        "print('\\ntraining data: {}\\t validation data: {}'.format(len(x_train),len(x_val)),\n",
        "      '\\ntraining classes: {}\\t validation classes: {} \\n'.format(np.unique(y_val),np.unique(y_val)))\n"
      ],
      "execution_count": null,
      "outputs": [
        {
          "output_type": "stream",
          "text": [
            "\n",
            "training data: 10038\t validation data: 2510 \n",
            "training classes: [False  True]\t validation classes: [False  True] \n",
            "\n"
          ],
          "name": "stdout"
        }
      ]
    },
    {
      "cell_type": "markdown",
      "metadata": {
        "id": "F1KcrCn4TbyO"
      },
      "source": [
        "**2. Clean and Preprocess**"
      ]
    },
    {
      "cell_type": "code",
      "metadata": {
        "id": "1iJW5eKtTSjO"
      },
      "source": [
        "# Clean Text\n",
        "x_train = x_train.apply(lambda x : clean_text(x)).values.tolist()\n",
        "x_val = x_val.apply(lambda x : clean_text(x)).values.tolist()\n",
        "# Preprocess Text\n",
        "\n",
        "\n",
        "# Tokenize Text\n",
        "tokenizer, x_train_tokenized, x_val_tokenized = tokenize_text(data['tweet'].values.tolist(),\n",
        "                                                               x_train, x_val)\n",
        "\n",
        "print('x_train_tokenized:',len(x_train_tokenized),'\\nx_val_tokenized:',len(x_val_tokenized),\n",
        "      \"\\nTotal Vocab: \",len(tokenizer.word_counts))"
      ],
      "execution_count": null,
      "outputs": []
    },
    {
      "cell_type": "code",
      "metadata": {
        "colab": {
          "base_uri": "https://localhost:8080/"
        },
        "id": "CCAF9VW9qiy9",
        "outputId": "e29e7861-565f-46b2-9e53-7155df52537d"
      },
      "source": [
        "# Pad Text\n",
        "maximum_text_length = 100\n",
        "padding_type = \"post\"\n",
        "truncating_type = \"post\"\n",
        "\n",
        "x_train_padded = pad_text_sequence(x_train_tokenized, maximum_text_length, padding_type, truncating_type)\n",
        "x_val_padded = pad_text_sequence(x_val_tokenized, maximum_text_length, padding_type, truncating_type)\n",
        "\n",
        "print('x_train_padded:',x_train_padded.shape,'\\nx_val_padded',x_val_padded.shape)"
      ],
      "execution_count": null,
      "outputs": [
        {
          "output_type": "stream",
          "text": [
            "x_train_padded: (10038, 100) \n",
            "x_val_padded (2510, 100)\n"
          ],
          "name": "stdout"
        }
      ]
    },
    {
      "cell_type": "markdown",
      "metadata": {
        "id": "2DHQ9wuBUYpu"
      },
      "source": [
        "**3. Encode target variables (labels) to integers**\n",
        "\n"
      ]
    },
    {
      "cell_type": "code",
      "metadata": {
        "colab": {
          "base_uri": "https://localhost:8080/"
        },
        "id": "1Nq7z7IHUWjV",
        "outputId": "9fb6927b-ac7e-4bad-e918-2daf8ebd40d5"
      },
      "source": [
        "y_train = get_label_encoding(y_train)\n",
        "y_val = get_label_encoding(y_val)\n",
        "\n",
        "print(y_train.shape, y_val.shape)"
      ],
      "execution_count": null,
      "outputs": [
        {
          "output_type": "stream",
          "text": [
            "Mapping:\n",
            "{False: 0, True: 1}\n",
            "Mapping:\n",
            "{False: 0, True: 1}\n",
            "(10038, 1) (2510, 1)\n"
          ],
          "name": "stdout"
        }
      ]
    },
    {
      "cell_type": "markdown",
      "metadata": {
        "id": "OslntWhCVBGZ"
      },
      "source": [
        "**4. Generate Embedding Matrix**"
      ]
    },
    {
      "cell_type": "code",
      "metadata": {
        "colab": {
          "base_uri": "https://localhost:8080/"
        },
        "id": "nUo1CmFqVGUz",
        "outputId": "672976eb-b999-4050-da1a-17155c976ef0"
      },
      "source": [
        "# Load word embeddings from file\n",
        "vocab = tokenizer.word_index\n",
        "embedding_dimension = 300\n",
        "embeddings_file = '/content/drive/MyDrive/Arabic Sentiment Identification shared task 2021/Word Embeddings (Trained on preprocessed_1.csv)/fasttext_model-skipgram_dim-300.vec'\n",
        "\n",
        "embedding_matrix = get_word_embeddings(embeddings_file,vocab,embedding_dimension)\n",
        "\n",
        "# Get sentence embeddings\n",
        "\n",
        "# Validate embedding_matrix shape\n",
        "print(\"Total Vocab:\",len(vocab), \"\\nEmbeddings:\",embedding_matrix.shape[0] -1 )"
      ],
      "execution_count": null,
      "outputs": [
        {
          "output_type": "stream",
          "text": [
            "Total word embeddings read: 46872\n",
            "\n",
            "Total Vocab: 47133 \n",
            "Embeddings: 47133\n"
          ],
          "name": "stdout"
        }
      ]
    },
    {
      "cell_type": "markdown",
      "metadata": {
        "id": "mBLkApMnVqcr"
      },
      "source": [
        "**5. Train Model**"
      ]
    },
    {
      "cell_type": "markdown",
      "metadata": {
        "id": "7Mrc_8JzNjmm"
      },
      "source": [
        "# Feed Forward Neural Network (FFNN)"
      ]
    },
    {
      "cell_type": "code",
      "metadata": {
        "id": "CNuBLuI0Vv76",
        "colab": {
          "base_uri": "https://localhost:8080/"
        },
        "outputId": "e38becad-b471-4e07-86ed-cd445cbe762b"
      },
      "source": [
        "# Define callback\n",
        "custom_callback = myCallbacks(metrics=\"acc\", threshold = 0.95)\n",
        "\n",
        "# Define model hyperparameters\n",
        "input_length = maximum_text_length\n",
        "embedding_vocab = embedding_matrix.shape[0]\n",
        "embedding_dimension = embedding_matrix.shape[1]\n",
        "output_dimension = len(np.unique(y_train))\n",
        "\n",
        "print('Shape of each Input Sentence: ',input_length,\"x\",embedding_dimension)\n",
        "print('Shape of Input layer: ',len(x_train),\"x\",embedding_dimension)\n",
        "print(\"Output classes: \",output_dimension)\n",
        "\n",
        "# Load model\n",
        "FFNN_model = FFNN(input_length = input_length, input_dimension = embedding_vocab, \n",
        "                  embedding_dimension = embedding_dimension, output_dimension = output_dimension,\n",
        "                  embedding_matrix = embedding_matrix, num_layers = 3, trainable = True)\n",
        "\n",
        "# View model summary\n",
        "print(\"\\n\\nModel Summary:\")\n",
        "FFNN_model.summary()\n",
        "\n",
        "# Train model\n",
        "print(\"\\n\\nTraining Model:\")\n",
        "model_history = FFNN_model.fit(x = np.asarray(x_train_padded), y = np.asarray(y_train),\n",
        "                               validation_data = (np.asarray(x_val_padded),np.asarray(y_val)),\n",
        "                               epochs = 10, callbacks = [custom_callback])"
      ],
      "execution_count": null,
      "outputs": [
        {
          "output_type": "stream",
          "text": [
            "Shape of each Input Sentence:  100 x 300\n",
            "Shape of Input layer:  10038 x 300\n",
            "Output classes:  2\n",
            "\n",
            "\n",
            "Model Summary:\n",
            "Model: \"sequential_8\"\n",
            "_________________________________________________________________\n",
            "Layer (type)                 Output Shape              Param #   \n",
            "=================================================================\n",
            "embedding_8 (Embedding)      (None, 100, 300)          14140200  \n",
            "_________________________________________________________________\n",
            "global_max_pooling1d_6 (Glob (None, 300)               0         \n",
            "_________________________________________________________________\n",
            "dense_20 (Dense)             (None, 128)               38528     \n",
            "_________________________________________________________________\n",
            "dense_21 (Dense)             (None, 64)                8256      \n",
            "_________________________________________________________________\n",
            "dense_22 (Dense)             (None, 32)                2080      \n",
            "_________________________________________________________________\n",
            "dense_23 (Dense)             (None, 2)                 66        \n",
            "=================================================================\n",
            "Total params: 14,189,130\n",
            "Trainable params: 14,189,130\n",
            "Non-trainable params: 0\n",
            "_________________________________________________________________\n",
            "\n",
            "\n",
            "Training Model:\n",
            "Epoch 1/10\n",
            "314/314 [==============================] - 44s 138ms/step - loss: 0.4595 - acc: 0.8177 - val_loss: 0.4558 - val_acc: 0.8339\n",
            "Epoch 2/10\n",
            "314/314 [==============================] - 43s 136ms/step - loss: 0.3603 - acc: 0.8389 - val_loss: 0.3912 - val_acc: 0.8430\n",
            "Epoch 3/10\n",
            "314/314 [==============================] - 43s 136ms/step - loss: 0.2641 - acc: 0.8810 - val_loss: 0.4113 - val_acc: 0.8418\n",
            "Epoch 4/10\n",
            "314/314 [==============================] - 42s 134ms/step - loss: 0.1561 - acc: 0.9410 - val_loss: 0.4905 - val_acc: 0.8084\n",
            "Epoch 5/10\n",
            "314/314 [==============================] - 42s 133ms/step - loss: 0.0603 - acc: 0.9782 - val_loss: 0.6508 - val_acc: 0.7522\n",
            "\n",
            "\n",
            "Threshold reached- acc : 0.95\n",
            "Training Stopped.\n",
            "\n",
            "\n"
          ],
          "name": "stdout"
        }
      ]
    },
    {
      "cell_type": "code",
      "metadata": {
        "colab": {
          "base_uri": "https://localhost:8080/"
        },
        "id": "mhQ_RCCCdfYO",
        "outputId": "342b9e70-0878-43ff-e15a-080751cf7d05"
      },
      "source": [
        "#print classification report\r\n",
        "y_pred = np.argmax(FFNN_model.predict(x_val_padded),axis=-1)\r\n",
        "print(\"\\nClassification Report:\\n\\n\",classification_report(y_true=y_val, y_pred = y_pred, labels = np.unique(y_val)))"
      ],
      "execution_count": null,
      "outputs": [
        {
          "output_type": "stream",
          "text": [
            "\n",
            "Classification Report:\n",
            "\n",
            "               precision    recall  f1-score   support\n",
            "\n",
            "           0       0.92      0.77      0.84      2091\n",
            "           1       0.37      0.67      0.47       419\n",
            "\n",
            "    accuracy                           0.75      2510\n",
            "   macro avg       0.64      0.72      0.66      2510\n",
            "weighted avg       0.83      0.75      0.78      2510\n",
            "\n"
          ],
          "name": "stdout"
        }
      ]
    },
    {
      "cell_type": "markdown",
      "metadata": {
        "id": "udqZUhKKNjmn"
      },
      "source": [
        "# CNN"
      ]
    },
    {
      "cell_type": "code",
      "metadata": {
        "colab": {
          "base_uri": "https://localhost:8080/"
        },
        "id": "zKllNOfnNjmn",
        "outputId": "c1de9f6d-6ad3-42b3-a22f-2ed471d9f015"
      },
      "source": [
        "# Define callback\n",
        "custom_callback = myCallbacks(metrics=\"acc\", threshold = 0.95)\n",
        "\n",
        "# Define model hyperparameters\n",
        "input_length = maximum_text_length\n",
        "embedding_vocab = embedding_matrix.shape[0]\n",
        "embedding_dimension = embedding_matrix.shape[1]\n",
        "output_dimension = len(np.unique(y_train))\n",
        "\n",
        "print('Shape of each Input Sentence: ',input_length,\"x\",embedding_dimension)\n",
        "print('Shape of Input layer: ',len(x_train),\"x\",embedding_dimension)\n",
        "print(\"Output classes: \",output_dimension)\n",
        "\n",
        "# Load model\n",
        "CNN_model = CNN(input_length = input_length, input_dimension = embedding_vocab, \n",
        "                  embedding_dimension = embedding_dimension, output_dimension = output_dimension,\n",
        "                  embedding_matrix = embedding_matrix, num_layers = 1, trainable = False,\n",
        "                   kernel_size = 5, dropout_rate = 0.25)\n",
        "\n",
        "# View model summary\n",
        "print(\"\\n\\nModel Summary:\")\n",
        "CNN_model.summary()\n",
        "\n",
        "# Train model\n",
        "print(\"\\n\\nTraining Model:\")\n",
        "model_history = CNN_model.fit(x = np.asarray(x_train_padded), y = np.asarray(y_train),\n",
        "                               validation_data = (np.asarray(x_val_padded),np.asarray(y_val)),\n",
        "                               epochs = 10, callbacks = [custom_callback])"
      ],
      "execution_count": null,
      "outputs": [
        {
          "output_type": "stream",
          "text": [
            "Shape of each Input Sentence:  100 x 300\n",
            "Shape of Input layer:  10038 x 300\n",
            "Output classes:  2\n",
            "\n",
            "\n",
            "Model Summary:\n",
            "Model: \"sequential_9\"\n",
            "_________________________________________________________________\n",
            "Layer (type)                 Output Shape              Param #   \n",
            "=================================================================\n",
            "embedding_9 (Embedding)      (None, 100, 300)          14140200  \n",
            "_________________________________________________________________\n",
            "conv1d_2 (Conv1D)            (None, 96, 32)            48032     \n",
            "_________________________________________________________________\n",
            "global_max_pooling1d_7 (Glob (None, 32)                0         \n",
            "_________________________________________________________________\n",
            "dropout_2 (Dropout)          (None, 32)                0         \n",
            "_________________________________________________________________\n",
            "dense_24 (Dense)             (None, 2)                 66        \n",
            "=================================================================\n",
            "Total params: 14,188,298\n",
            "Trainable params: 48,098\n",
            "Non-trainable params: 14,140,200\n",
            "_________________________________________________________________\n",
            "\n",
            "\n",
            "Training Model:\n",
            "Epoch 1/10\n",
            "314/314 [==============================] - 2s 4ms/step - loss: 0.4724 - acc: 0.8078 - val_loss: 0.3618 - val_acc: 0.8454\n",
            "Epoch 2/10\n",
            "314/314 [==============================] - 1s 4ms/step - loss: 0.3453 - acc: 0.8514 - val_loss: 0.3540 - val_acc: 0.8498\n",
            "Epoch 3/10\n",
            "314/314 [==============================] - 1s 4ms/step - loss: 0.3042 - acc: 0.8747 - val_loss: 0.3622 - val_acc: 0.8422\n",
            "Epoch 4/10\n",
            "314/314 [==============================] - 1s 4ms/step - loss: 0.2733 - acc: 0.8837 - val_loss: 0.3701 - val_acc: 0.8406\n",
            "Epoch 5/10\n",
            "314/314 [==============================] - 1s 4ms/step - loss: 0.2336 - acc: 0.9024 - val_loss: 0.3946 - val_acc: 0.8378\n",
            "Epoch 6/10\n",
            "314/314 [==============================] - 1s 4ms/step - loss: 0.1910 - acc: 0.9272 - val_loss: 0.4065 - val_acc: 0.8390\n",
            "Epoch 7/10\n",
            "314/314 [==============================] - 1s 4ms/step - loss: 0.1712 - acc: 0.9325 - val_loss: 0.4260 - val_acc: 0.8315\n",
            "Epoch 8/10\n",
            "314/314 [==============================] - 1s 4ms/step - loss: 0.1462 - acc: 0.9457 - val_loss: 0.4433 - val_acc: 0.8375\n",
            "Epoch 9/10\n",
            "314/314 [==============================] - 1s 4ms/step - loss: 0.1416 - acc: 0.9471 - val_loss: 0.4628 - val_acc: 0.8406\n",
            "Epoch 10/10\n",
            "314/314 [==============================] - 1s 4ms/step - loss: 0.1194 - acc: 0.9550 - val_loss: 0.4864 - val_acc: 0.8331\n"
          ],
          "name": "stdout"
        }
      ]
    },
    {
      "cell_type": "code",
      "metadata": {
        "colab": {
          "base_uri": "https://localhost:8080/"
        },
        "id": "lG_Kjai0cxhs",
        "outputId": "15e627fe-72d9-4add-ff84-d50b4873b0ec"
      },
      "source": [
        "#print classification report\r\n",
        "y_pred = np.argmax(CNN_model.predict(x_val_padded),axis=-1)\r\n",
        "print(\"\\nClassification Report:\\n\\n\",classification_report(y_true=y_val, y_pred = y_pred, labels = np.unique(y_val)))"
      ],
      "execution_count": null,
      "outputs": [
        {
          "output_type": "stream",
          "text": [
            "\n",
            "Classification Report:\n",
            "\n",
            "               precision    recall  f1-score   support\n",
            "\n",
            "           0       0.89      0.92      0.90      2091\n",
            "           1       0.50      0.41      0.45       419\n",
            "\n",
            "    accuracy                           0.83      2510\n",
            "   macro avg       0.69      0.66      0.68      2510\n",
            "weighted avg       0.82      0.83      0.83      2510\n",
            "\n"
          ],
          "name": "stdout"
        }
      ]
    },
    {
      "cell_type": "markdown",
      "metadata": {
        "id": "lawI8cOjNjmn"
      },
      "source": [
        "# BI-LSTM 1"
      ]
    },
    {
      "cell_type": "code",
      "metadata": {
        "colab": {
          "base_uri": "https://localhost:8080/"
        },
        "id": "KX_sdwIJNjmo",
        "outputId": "316f8984-51f0-4d27-ee8d-8baf81a3686b"
      },
      "source": [
        "# Define callback\n",
        "custom_callback = myCallbacks(metrics=\"acc\", threshold = 0.95)\n",
        "\n",
        "# Define model hyperparameters\n",
        "input_length = maximum_text_length\n",
        "embedding_vocab = embedding_matrix.shape[0]\n",
        "embedding_dimension = embedding_matrix.shape[1]\n",
        "output_dimension = len(np.unique(y_train))\n",
        "\n",
        "print('Shape of each Input Sentence: ',input_length,\"x\",embedding_dimension)\n",
        "print('Shape of Input layer: ',len(x_train),\"x\",embedding_dimension)\n",
        "print(\"Output classes: \",output_dimension)\n",
        "\n",
        "# Load model\n",
        "BILSTM_model = BILSTM(input_length = input_length, input_dimension = embedding_vocab, \n",
        "                   embedding_dimension = embedding_dimension, output_dimension = output_dimension,\n",
        "                   embedding_matrix = embedding_matrix, layer1 = 64, layer2 = 64, trainable = False,\n",
        "                   dropout_rate = 0.25)\n",
        "\n",
        "# View model summary\n",
        "print(\"\\n\\nModel Summary:\")\n",
        "BILSTM_model.summary()\n",
        "\n",
        "# Train model\n",
        "print(\"\\n\\nTraining Model:\")\n",
        "model_history = BILSTM_model.fit(x = np.asarray(x_train_padded), y = np.asarray(y_train),\n",
        "                               validation_data = (np.asarray(x_val_padded),np.asarray(y_val)),\n",
        "                               epochs = 10, batch_size = 32, callbacks = [custom_callback])"
      ],
      "execution_count": null,
      "outputs": [
        {
          "output_type": "stream",
          "text": [
            "Shape of each Input Sentence:  100 x 300\n",
            "Shape of Input layer:  10038 x 300\n",
            "Output classes:  2\n",
            "\n",
            "\n",
            "Model Summary:\n",
            "Model: \"sequential_10\"\n",
            "_________________________________________________________________\n",
            "Layer (type)                 Output Shape              Param #   \n",
            "=================================================================\n",
            "embedding_10 (Embedding)     (None, 100, 300)          14140200  \n",
            "_________________________________________________________________\n",
            "bidirectional_4 (Bidirection (None, 100, 128)          186880    \n",
            "_________________________________________________________________\n",
            "global_max_pooling1d_8 (Glob (None, 128)               0         \n",
            "_________________________________________________________________\n",
            "dense_25 (Dense)             (None, 64)                8256      \n",
            "_________________________________________________________________\n",
            "dense_26 (Dense)             (None, 2)                 130       \n",
            "=================================================================\n",
            "Total params: 14,335,466\n",
            "Trainable params: 195,266\n",
            "Non-trainable params: 14,140,200\n",
            "_________________________________________________________________\n",
            "\n",
            "\n",
            "Training Model:\n",
            "Epoch 1/10\n",
            "314/314 [==============================] - 7s 16ms/step - loss: 0.4440 - acc: 0.8132 - val_loss: 0.3465 - val_acc: 0.8450\n",
            "Epoch 2/10\n",
            "314/314 [==============================] - 4s 13ms/step - loss: 0.3610 - acc: 0.8356 - val_loss: 0.3390 - val_acc: 0.8478\n",
            "Epoch 3/10\n",
            "314/314 [==============================] - 4s 13ms/step - loss: 0.3297 - acc: 0.8511 - val_loss: 0.3404 - val_acc: 0.8438\n",
            "Epoch 4/10\n",
            "314/314 [==============================] - 4s 13ms/step - loss: 0.3189 - acc: 0.8544 - val_loss: 0.3568 - val_acc: 0.8458\n",
            "Epoch 5/10\n",
            "314/314 [==============================] - 4s 13ms/step - loss: 0.2908 - acc: 0.8704 - val_loss: 0.3494 - val_acc: 0.8422\n",
            "Epoch 6/10\n",
            "314/314 [==============================] - 4s 13ms/step - loss: 0.2709 - acc: 0.8787 - val_loss: 0.3664 - val_acc: 0.8263\n",
            "Epoch 7/10\n",
            "314/314 [==============================] - 4s 13ms/step - loss: 0.2457 - acc: 0.8940 - val_loss: 0.3848 - val_acc: 0.8434\n",
            "Epoch 8/10\n",
            "314/314 [==============================] - 4s 13ms/step - loss: 0.2148 - acc: 0.9079 - val_loss: 0.4039 - val_acc: 0.8378\n",
            "Epoch 9/10\n",
            "314/314 [==============================] - 4s 13ms/step - loss: 0.1805 - acc: 0.9252 - val_loss: 0.4390 - val_acc: 0.8239\n",
            "Epoch 10/10\n",
            "314/314 [==============================] - 4s 13ms/step - loss: 0.1537 - acc: 0.9345 - val_loss: 0.4795 - val_acc: 0.8124\n"
          ],
          "name": "stdout"
        }
      ]
    },
    {
      "cell_type": "code",
      "metadata": {
        "colab": {
          "base_uri": "https://localhost:8080/"
        },
        "id": "SvN3-8owclRU",
        "outputId": "e8c52f35-4c9e-4522-b536-c9aa4fe79a52"
      },
      "source": [
        "# print classification report\r\n",
        "y_pred = np.argmax(BILSTM_model.predict(x_val_padded),axis=-1)\r\n",
        "print(\"\\nClassification Report:\\n\\n\",classification_report(y_true=y_val, y_pred = y_pred, labels = np.unique(y_val)))"
      ],
      "execution_count": null,
      "outputs": [
        {
          "output_type": "stream",
          "text": [
            "\n",
            "Classification Report:\n",
            "\n",
            "               precision    recall  f1-score   support\n",
            "\n",
            "           0       0.90      0.87      0.89      2091\n",
            "           1       0.45      0.52      0.48       419\n",
            "\n",
            "    accuracy                           0.81      2510\n",
            "   macro avg       0.67      0.70      0.68      2510\n",
            "weighted avg       0.83      0.81      0.82      2510\n",
            "\n"
          ],
          "name": "stdout"
        }
      ]
    },
    {
      "cell_type": "markdown",
      "metadata": {
        "id": "svSYYwGQNjmo"
      },
      "source": [
        "# BI-LSTM 2"
      ]
    },
    {
      "cell_type": "code",
      "metadata": {
        "colab": {
          "base_uri": "https://localhost:8080/"
        },
        "id": "a_jWqShKNjmo",
        "outputId": "276068f9-e8d5-46ad-9ab3-2030c7681596"
      },
      "source": [
        "# Define callback\n",
        "custom_callback = myCallbacks(metrics=\"acc\", threshold = 0.95)\n",
        "\n",
        "# Define model hyperparameters\n",
        "input_length = maximum_text_length\n",
        "embedding_vocab = embedding_matrix.shape[0]\n",
        "embedding_dimension = embedding_matrix.shape[1]\n",
        "output_dimension = len(np.unique(y_train))\n",
        "\n",
        "print('Shape of each Input Sentence: ',input_length,\"x\",embedding_dimension)\n",
        "print('Shape of Input layer: ',len(x_train),\"x\",embedding_dimension)\n",
        "print(\"Output classes: \",output_dimension)\n",
        "\n",
        "# Load model\n",
        "BILSTM_model2 = BILSTM_2(input_length = input_length, input_dimension = embedding_vocab, \n",
        "                   embedding_dimension = embedding_dimension, output_dimension = output_dimension,\n",
        "                   embedding_matrix = embedding_matrix)\n",
        "\n",
        "# View model summary\n",
        "print(\"\\n\\nModel Summary:\")\n",
        "BILSTM_model2.summary()\n",
        "\n",
        "# Train model\n",
        "print(\"\\n\\nTraining Model:\")\n",
        "model_history = BILSTM_model2.fit(x = np.asarray(x_train_padded), y = np.asarray(y_train),\n",
        "                               validation_data = (np.asarray(x_val_padded),np.asarray(y_val)),\n",
        "                               epochs = 10, batch_size = 32, callbacks = [custom_callback])"
      ],
      "execution_count": null,
      "outputs": [
        {
          "output_type": "stream",
          "text": [
            "Shape of each Input Sentence:  100 x 300\n",
            "Shape of Input layer:  10038 x 300\n",
            "Output classes:  2\n",
            "\n",
            "\n",
            "Model Summary:\n",
            "Model: \"sequential_11\"\n",
            "_________________________________________________________________\n",
            "Layer (type)                 Output Shape              Param #   \n",
            "=================================================================\n",
            "embedding_11 (Embedding)     (None, 100, 300)          14140200  \n",
            "_________________________________________________________________\n",
            "bidirectional_5 (Bidirection (None, 100, 200)          320800    \n",
            "_________________________________________________________________\n",
            "time_distributed_2 (TimeDist (None, 100, 100)          20100     \n",
            "_________________________________________________________________\n",
            "flatten_2 (Flatten)          (None, 10000)             0         \n",
            "_________________________________________________________________\n",
            "dense_28 (Dense)             (None, 100)               1000100   \n",
            "_________________________________________________________________\n",
            "dense_29 (Dense)             (None, 2)                 202       \n",
            "=================================================================\n",
            "Total params: 15,481,402\n",
            "Trainable params: 1,341,202\n",
            "Non-trainable params: 14,140,200\n",
            "_________________________________________________________________\n",
            "\n",
            "\n",
            "Training Model:\n",
            "Epoch 1/10\n",
            "314/314 [==============================] - 7s 16ms/step - loss: 0.4347 - acc: 0.8139 - val_loss: 0.3462 - val_acc: 0.8418\n",
            "Epoch 2/10\n",
            "314/314 [==============================] - 4s 14ms/step - loss: 0.3586 - acc: 0.8355 - val_loss: 0.3407 - val_acc: 0.8458\n",
            "Epoch 3/10\n",
            "314/314 [==============================] - 4s 14ms/step - loss: 0.3426 - acc: 0.8431 - val_loss: 0.3394 - val_acc: 0.8498\n",
            "Epoch 4/10\n",
            "314/314 [==============================] - 4s 14ms/step - loss: 0.3280 - acc: 0.8444 - val_loss: 0.3536 - val_acc: 0.8339\n",
            "Epoch 5/10\n",
            "314/314 [==============================] - 4s 14ms/step - loss: 0.3055 - acc: 0.8589 - val_loss: 0.3549 - val_acc: 0.8438\n",
            "Epoch 6/10\n",
            "314/314 [==============================] - 4s 14ms/step - loss: 0.2802 - acc: 0.8721 - val_loss: 0.3648 - val_acc: 0.8426\n",
            "Epoch 7/10\n",
            "314/314 [==============================] - 4s 14ms/step - loss: 0.2567 - acc: 0.8785 - val_loss: 0.3925 - val_acc: 0.8247\n",
            "Epoch 8/10\n",
            "314/314 [==============================] - 4s 14ms/step - loss: 0.2360 - acc: 0.8978 - val_loss: 0.4098 - val_acc: 0.8199\n",
            "Epoch 9/10\n",
            "314/314 [==============================] - 4s 14ms/step - loss: 0.2032 - acc: 0.9098 - val_loss: 0.4238 - val_acc: 0.8299\n",
            "Epoch 10/10\n",
            "314/314 [==============================] - 4s 14ms/step - loss: 0.1738 - acc: 0.9237 - val_loss: 0.4491 - val_acc: 0.8287\n"
          ],
          "name": "stdout"
        }
      ]
    },
    {
      "cell_type": "markdown",
      "metadata": {
        "id": "FyLosb7wWBMy"
      },
      "source": [
        "**6. Evaluate Model**"
      ]
    },
    {
      "cell_type": "code",
      "metadata": {
        "id": "0Tz8JJW9WAqG",
        "colab": {
          "base_uri": "https://localhost:8080/",
          "height": 781
        },
        "outputId": "d5deb24d-6283-46ce-bfd8-a8bec9e8432a"
      },
      "source": [
        "# plot results\n",
        "plot_results(model_history)\n",
        "\n",
        "# print classification report\n",
        "y_pred = np.argmax(BILSTM_model2.predict(x_val_padded),axis=-1)\n",
        "print(\"\\nClassification Report:\\n\\n\",classification_report(y_true=y_val, y_pred = y_pred, labels = np.unique(y_val)))"
      ],
      "execution_count": null,
      "outputs": [
        {
          "output_type": "display_data",
          "data": {
            "image/png": "[encoded data removed]",
            "text/plain": [
              "<Figure size 432x288 with 1 Axes>"
            ]
          },
          "metadata": {
            "tags": [],
            "needs_background": "light"
          }
        },
        {
          "output_type": "display_data",
          "data": {
            "image/png": "[encoded data removed]",
            "text/plain": [
              "<Figure size 432x288 with 1 Axes>"
            ]
          },
          "metadata": {
            "tags": [],
            "needs_background": "light"
          }
        },
        {
          "output_type": "stream",
          "text": [
            "\n",
            "Classification Report:\n",
            "\n",
            "               precision    recall  f1-score   support\n",
            "\n",
            "           0       0.90      0.90      0.90      2091\n",
            "           1       0.49      0.48      0.48       419\n",
            "\n",
            "    accuracy                           0.83      2510\n",
            "   macro avg       0.69      0.69      0.69      2510\n",
            "weighted avg       0.83      0.83      0.83      2510\n",
            "\n"
          ],
          "name": "stdout"
        }
      ]
    },
    {
      "cell_type": "code",
      "metadata": {
        "id": "yzx2rDT-W4De",
        "colab": {
          "base_uri": "https://localhost:8080/"
        },
        "outputId": "0ab5ad4c-4196-435c-f68b-da4af817df8d"
      },
      "source": [
        "# save model\n",
        "save_model(BILSTM_model2, \"ASI_Sarcasm_BiLSTM2\")"
      ],
      "execution_count": null,
      "outputs": [
        {
          "output_type": "stream",
          "text": [
            "Saved as  ASI_Sarcasm_BiLSTM2\n"
          ],
          "name": "stdout"
        }
      ]
    },
    {
      "cell_type": "code",
      "metadata": {
        "colab": {
          "base_uri": "https://localhost:8080/",
          "height": 183
        },
        "id": "pGRanlkNPEef",
        "outputId": "c3c8b9a1-21f7-4a51-fb5c-e5c017bdca27"
      },
      "source": [
        "while True:\r\n",
        "  pass"
      ],
      "execution_count": null,
      "outputs": [
        {
          "output_type": "error",
          "ename": "KeyboardInterrupt",
          "evalue": "ignored",
          "traceback": [
            "\u001b[0;31m---------------------------------------------------------------------------\u001b[0m",
            "\u001b[0;31mKeyboardInterrupt\u001b[0m                         Traceback (most recent call last)",
            "\u001b[0;32m<ipython-input-15-648a2bab0435>\u001b[0m in \u001b[0;36m<module>\u001b[0;34m()\u001b[0m\n\u001b[1;32m      1\u001b[0m \u001b[0;32mwhile\u001b[0m \u001b[0;32mTrue\u001b[0m\u001b[0;34m:\u001b[0m\u001b[0;34m\u001b[0m\u001b[0;34m\u001b[0m\u001b[0m\n\u001b[0;32m----> 2\u001b[0;31m   \u001b[0;32mpass\u001b[0m\u001b[0;34m\u001b[0m\u001b[0;34m\u001b[0m\u001b[0m\n\u001b[0m",
            "\u001b[0;31mKeyboardInterrupt\u001b[0m: "
          ]
        }
      ]
    },
    {
      "cell_type": "markdown",
      "metadata": {
        "id": "jQ--lZ9Cbgzy"
      },
      "source": [
        "# CNN-LSTM"
      ]
    },
    {
      "cell_type": "code",
      "metadata": {
        "id": "B9a3lKxpRg-B"
      },
      "source": [
        ""
      ],
      "execution_count": null,
      "outputs": []
    }
  ]
}