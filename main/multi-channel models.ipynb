{
 "cells": [
  {
   "cell_type": "code",
   "execution_count": 1,
   "metadata": {
    "id": "VmwVkgoA9wRd"
   },
   "outputs": [],
   "source": [
    "import pandas as pd\n",
    "import numpy as np\n",
    "from time import process_time\n",
    "import pickle\n",
    "\n",
    "from sklearn.model_selection import train_test_split\n",
    "from sklearn.metrics import classification_report\n",
    "\n",
    "from custom_functions import *\n",
    "from custom_models import *\n",
    "\n",
    "import tensorflow as tf\n",
    "from tensorflow.keras import Sequential, Model\n",
    "from tensorflow.keras.layers import Input, Embedding, Dense, GlobalMaxPooling1D, Conv1D, Dropout, GlobalAveragePooling1D,LSTM, Bidirectional, TimeDistributed, Flatten\n",
    "from tensorflow.keras.layers import concatenate\n",
    "from tensorflow.keras.utils import plot_model"
   ]
  },
  {
   "cell_type": "code",
   "execution_count": 2,
   "metadata": {},
   "outputs": [],
   "source": [
    "# For windows users (If exception in plot_model() function)\n",
    "# import os\n",
    "# os.environ[\"PATH\"] += os.pathsep + 'C:/Program Files/Graphviz/bin'"
   ]
  },
  {
   "cell_type": "markdown",
   "metadata": {},
   "source": [
    "# Data prep"
   ]
  },
  {
   "cell_type": "markdown",
   "metadata": {
    "id": "rKVieDo_TY88"
   },
   "source": [
    "1. Load dataset"
   ]
  },
  {
   "cell_type": "code",
   "execution_count": 3,
   "metadata": {
    "colab": {
     "base_uri": "https://localhost:8080/"
    },
    "id": "Gku_FrSyR-c8",
    "outputId": "aad79e0a-6a4e-4755-bf52-463e20b65e40"
   },
   "outputs": [
    {
     "name": "stdout",
     "output_type": "stream",
     "text": [
      "(12537, 13)\n"
     ]
    }
   ],
   "source": [
    "data = read_data(\"../Arabic Sentiment Identification/dataset/sentimentscore_with_weights.csv\")\n",
    "print(data.shape)"
   ]
  },
  {
   "cell_type": "markdown",
   "metadata": {},
   "source": [
    "2. Preprocess and extract features"
   ]
  },
  {
   "cell_type": "code",
   "execution_count": null,
   "metadata": {},
   "outputs": [],
   "source": []
  },
  {
   "cell_type": "markdown",
   "metadata": {},
   "source": [
    "3.  Split into train and test"
   ]
  },
  {
   "cell_type": "code",
   "execution_count": 4,
   "metadata": {},
   "outputs": [],
   "source": [
    "D_train, D_val =  train_test_split(data ,test_size=0.2, random_state=42)\n",
    "D_train = D_train.reset_index()\n",
    "D_val = D_val.reset_index()"
   ]
  },
  {
   "cell_type": "markdown",
   "metadata": {},
   "source": [
    "4. Encode target variables (labels) to integers"
   ]
  },
  {
   "cell_type": "code",
   "execution_count": 5,
   "metadata": {},
   "outputs": [
    {
     "name": "stdout",
     "output_type": "stream",
     "text": [
      "Mapping:\n",
      "{'NEG': 0, 'NEU': 1, 'POS': 2}\n",
      "Mapping:\n",
      "{'NEG': 0, 'NEU': 1, 'POS': 2}\n",
      "(10029, 1) (2508, 1)\n"
     ]
    }
   ],
   "source": [
    "class_label = \"sentiment\"\n",
    "\n",
    "y_train, y_val = D_train[class_label].values.tolist(), D_val[class_label].values.tolist()\n",
    "\n",
    "y_train = get_label_encoding(y_train)\n",
    "y_val = get_label_encoding(y_val)\n",
    "\n",
    "print(y_train.shape, y_val.shape)"
   ]
  },
  {
   "cell_type": "markdown",
   "metadata": {},
   "source": [
    "# Load Word Embeddings (Input 1)"
   ]
  },
  {
   "cell_type": "markdown",
   "metadata": {},
   "source": [
    "1. Tokenize Tweets"
   ]
  },
  {
   "cell_type": "code",
   "execution_count": 6,
   "metadata": {
    "id": "1iJW5eKtTSjO"
   },
   "outputs": [
    {
     "name": "stdout",
     "output_type": "stream",
     "text": [
      "x_train_tokenized: 10029 \n",
      "x_val_tokenized: 2508 \n",
      "Total Vocab:  48543\n"
     ]
    }
   ],
   "source": [
    "text_label = \"tweet_preprocessed\"\n",
    "\n",
    "# Tokenize Tweets\n",
    "x_train = D_train[text_label].values.tolist()\n",
    "x_val = D_val[text_label].values.tolist()\n",
    "\n",
    "tokenizer, x_train_tokenized, x_val_tokenized = tokenize_text(data['tweet_preprocessed'].values.tolist(),\n",
    "                                                               x_train, x_val)\n",
    "\n",
    "print('x_train_tokenized:',len(x_train_tokenized),'\\nx_val_tokenized:',len(x_val_tokenized),\n",
    "      \"\\nTotal Vocab: \",len(tokenizer.word_counts))"
   ]
  },
  {
   "cell_type": "markdown",
   "metadata": {},
   "source": [
    "2. Pad tweets"
   ]
  },
  {
   "cell_type": "code",
   "execution_count": 7,
   "metadata": {
    "colab": {
     "base_uri": "https://localhost:8080/"
    },
    "id": "CCAF9VW9qiy9",
    "outputId": "ca235bd3-b181-4d57-fec0-c75359a9c52a"
   },
   "outputs": [
    {
     "name": "stdout",
     "output_type": "stream",
     "text": [
      "x_train_padded: (10029, 50) \n",
      "x_val_padded (2508, 50)\n"
     ]
    }
   ],
   "source": [
    "# Pad Tweets\n",
    "maximum_text_length = 50\n",
    "padding_type = \"post\"\n",
    "truncating_type = \"post\"\n",
    "\n",
    "x_train_padded = pad_text_sequence(x_train_tokenized, maximum_text_length, padding_type, truncating_type)\n",
    "x_val_padded = pad_text_sequence(x_val_tokenized, maximum_text_length, padding_type, truncating_type)\n",
    "\n",
    "print('x_train_padded:',x_train_padded.shape,'\\nx_val_padded',x_val_padded.shape)"
   ]
  },
  {
   "cell_type": "markdown",
   "metadata": {},
   "source": [
    "3. Generate embedding matrix"
   ]
  },
  {
   "cell_type": "code",
   "execution_count": 12,
   "metadata": {
    "colab": {
     "base_uri": "https://localhost:8080/"
    },
    "id": "nUo1CmFqVGUz",
    "outputId": "ed80371e-a950-44be-b8b4-0b2d4d170d20"
   },
   "outputs": [
    {
     "name": "stdout",
     "output_type": "stream",
     "text": [
      "Loading embeddings from:  ../Arabic Sentiment Identification/word embeddings/fasttext_pretrained_300.pkl\n",
      "\n",
      "Total words processed: 34722\n",
      "Words not found:  13823\n",
      "\n",
      "Total Vocab: 48544 \n",
      "Embeddings: 48544\n"
     ]
    }
   ],
   "source": [
    "# Load word embeddings from file\n",
    "vocab = tokenizer.word_index\n",
    "embedding_dimension = 300\n",
    "embedding_dict_file = \"../Arabic Sentiment Identification/word embeddings/mazajak_pretrained_300.pkl\"\n",
    "\n",
    "embedding_matrix = get_embedding_matrix(vocab, embedding_dict_file = embedding_dict_file, embedding_dimension = embedding_dimension)\n",
    "\n",
    "# Validate embedding_matrix shape\n",
    "print(\"\\nTotal Vocab:\",len(vocab), \"\\nEmbeddings:\",embedding_matrix.shape[0] -1 )"
   ]
  },
  {
   "cell_type": "markdown",
   "metadata": {},
   "source": [
    "# Load Sentiment Features (Input 2)"
   ]
  },
  {
   "cell_type": "code",
   "execution_count": 13,
   "metadata": {},
   "outputs": [],
   "source": [
    "def get_sentiment_matrix(df):\n",
    "    sentiment_matrix  = np.zeros((len(df), 6), dtype='float64')\n",
    "    \n",
    "    for i in range(len(df)):\n",
    "        try:\n",
    "            sentiment_matrix[i] = np.array([df['NEU_WEIGHTS'][i],df['POSNEG_WEIGHTS'][i], df['total_sentiment_score'][i], df['Pos_P'][i],\n",
    "                                            df['Neg_P'][i], df['Neu_P'][i]], dtype='float64')\n",
    "        except:\n",
    "            print(i)\n",
    "    return sentiment_matrix"
   ]
  },
  {
   "cell_type": "code",
   "execution_count": 14,
   "metadata": {},
   "outputs": [
    {
     "name": "stdout",
     "output_type": "stream",
     "text": [
      "Sentiment matrix (Train): (10029, 4)\n",
      "Sentiment matrix (Test): (2508, 4)\n"
     ]
    }
   ],
   "source": [
    "sentiment_train = get_sentiment_matrix(D_train)\n",
    "sentiment_val = get_sentiment_matrix(D_val)\n",
    "\n",
    "print(\"Sentiment matrix (Train): {}\\nSentiment matrix (Test): {}\".format(sentiment_train.shape, sentiment_val.shape))"
   ]
  },
  {
   "cell_type": "markdown",
   "metadata": {},
   "source": [
    "# Simple FFNN"
   ]
  },
  {
   "cell_type": "code",
   "execution_count": 15,
   "metadata": {},
   "outputs": [],
   "source": [
    "i1 = Input(shape = (sentiment_train.shape[1]))\n",
    "d1 = Dense(64, activation = \"relu\")(i1)\n",
    "d2 = Dense(32, activation = \"relu\")(d1)\n",
    "d3 = Dense(3, activation = \"softmax\")(d2)\n",
    "\n",
    "model = Model(inputs = i1, outputs= d3)\n",
    "model.compile(optimizer = \"adam\", loss = \"sparse_categorical_crossentropy\", metrics = [\"acc\"])"
   ]
  },
  {
   "cell_type": "code",
   "execution_count": 16,
   "metadata": {},
   "outputs": [
    {
     "data": {
      "image/png": "[encoded data removed]",
      "text/plain": [
       "<IPython.core.display.Image object>"
      ]
     },
     "execution_count": 16,
     "metadata": {},
     "output_type": "execute_result"
    }
   ],
   "source": [
    "# m.summary()\n",
    "plot_model(model, show_shapes=True)"
   ]
  },
  {
   "cell_type": "code",
   "execution_count": 17,
   "metadata": {},
   "outputs": [
    {
     "name": "stdout",
     "output_type": "stream",
     "text": [
      "Train on 10029 samples, validate on 2508 samples\n",
      "Epoch 1/10\n",
      "10029/10029 [==============================] - 3s 330us/sample - loss: 0.2961 - acc: 0.8881 - val_loss: 0.2003 - val_acc: 0.9254\n",
      "Epoch 2/10\n",
      "10029/10029 [==============================] - 1s 110us/sample - loss: 0.2221 - acc: 0.9173 - val_loss: 0.1967 - val_acc: 0.9278\n",
      "Epoch 3/10\n",
      "10029/10029 [==============================] - 1s 102us/sample - loss: 0.2193 - acc: 0.9172 - val_loss: 0.1965 - val_acc: 0.9254\n",
      "Epoch 4/10\n",
      "10029/10029 [==============================] - 1s 87us/sample - loss: 0.2152 - acc: 0.9199 - val_loss: 0.1938 - val_acc: 0.9242\n",
      "Epoch 5/10\n",
      "10029/10029 [==============================] - 1s 84us/sample - loss: 0.2155 - acc: 0.9190 - val_loss: 0.1940 - val_acc: 0.9274\n",
      "Epoch 6/10\n",
      "10029/10029 [==============================] - 1s 98us/sample - loss: 0.2131 - acc: 0.9203 - val_loss: 0.1950 - val_acc: 0.9294\n",
      "Epoch 7/10\n",
      "10029/10029 [==============================] - 1s 142us/sample - loss: 0.2125 - acc: 0.9210 - val_loss: 0.1974 - val_acc: 0.9258\n",
      "Epoch 8/10\n",
      "10029/10029 [==============================] - 1s 104us/sample - loss: 0.2118 - acc: 0.9198 - val_loss: 0.1971 - val_acc: 0.9242\n",
      "Epoch 9/10\n",
      "10029/10029 [==============================] - 1s 108us/sample - loss: 0.2111 - acc: 0.9194 - val_loss: 0.1934 - val_acc: 0.9290\n",
      "Epoch 10/10\n",
      "10029/10029 [==============================] - 1s 108us/sample - loss: 0.2113 - acc: 0.9193 - val_loss: 0.1944 - val_acc: 0.9274\n"
     ]
    }
   ],
   "source": [
    "h = model.fit(sentiment_train, y_train, epochs=10, validation_data = (sentiment_val, y_val))"
   ]
  },
  {
   "cell_type": "markdown",
   "metadata": {},
   "source": [
    "# Multi-Channel Bi-LSTM"
   ]
  },
  {
   "cell_type": "code",
   "execution_count": 18,
   "metadata": {},
   "outputs": [
    {
     "name": "stdout",
     "output_type": "stream",
     "text": [
      "Shape of each Input Sentence:  50 x 300\n",
      "Shape of Input layer 1:  10029 x 300\n",
      "Shape of Input layer 2:  10029 x 4\n",
      "Output classes:  3\n"
     ]
    }
   ],
   "source": [
    "# Define callback\n",
    "custom_callback = myCallbacks(metrics=\"acc\", threshold = 0.95)\n",
    "\n",
    "#--------------------------------------------------------------------------------------------------------------------#\n",
    "\n",
    "# Define model hyperparameters\n",
    "input_length1 = maximum_text_length\n",
    "embedding_vocab1 = embedding_matrix.shape[0]\n",
    "embedding_dimension1 = embedding_matrix.shape[1]\n",
    "\n",
    "input2 = sentiment_train\n",
    "input_length2 = input2.shape[1]\n",
    "\n",
    "output_dimension = len(np.unique(y_train))\n",
    "\n",
    "print('Shape of each Input Sentence: ',input_length1,\"x\",embedding_dimension)\n",
    "print('Shape of Input layer 1: ',len(x_train),\"x\",embedding_dimension)\n",
    "print('Shape of Input layer 2: ',len(x_train),\"x\",input_length2)\n",
    "\n",
    "print(\"Output classes: \",output_dimension)\n",
    "#--------------------------------------------------------------------------------------------------------------------#\n",
    "\n",
    "# Define Input Channel 1\n",
    "\n",
    "Input_layer1 = Input(shape = (input_length1,))\n",
    "Embedding_layer1 = Embedding(input_length = input_length1, input_dim = embedding_vocab1, output_dim = embedding_dimension1,\n",
    "                             weights = [embedding_matrix], trainable = False)(Input_layer1)\n",
    "\n",
    "LSTM_layer1 = Bidirectional(LSTM(128, return_sequences = True))(Embedding_layer1)\n",
    "Max_Pool_1 = GlobalMaxPooling1D()(LSTM_layer1)\n",
    "Dense1 = Dense(64, activation = \"relu\")(Max_Pool_1)\n",
    "dropout_Dense1 = Dropout(0.25)(Dense1)\n",
    "\n",
    "# Input Channel 2\n",
    "Input_layer2 = Input(shape= (input_length2,))\n",
    "# Dense2 = Dense(64, activation = \"relu\")(Input_layer2)\n",
    "\n",
    "# Concatentate Channels\n",
    "Concat_layer= concatenate([dropout_Dense1, Input_layer2])\n",
    "\n",
    "# Define output layer\n",
    "Output_layer = Dense(output_dimension, activation = \"softmax\")(Concat_layer)\n",
    "\n",
    "\n",
    "# Compile model\n",
    "model = Model(inputs = [Input_layer1, Input_layer2], outputs = Output_layer)\n",
    "model.compile(optimizer = \"adam\", loss = \"sparse_categorical_crossentropy\", metrics= [\"acc\"])"
   ]
  },
  {
   "cell_type": "code",
   "execution_count": 19,
   "metadata": {},
   "outputs": [
    {
     "data": {
      "image/png": "[encoded data removed]",
      "text/plain": [
       "<IPython.core.display.Image object>"
      ]
     },
     "execution_count": 19,
     "metadata": {},
     "output_type": "execute_result"
    }
   ],
   "source": [
    "# model.summary()\n",
    "plot_model(model, show_shapes=True)"
   ]
  },
  {
   "cell_type": "code",
   "execution_count": null,
   "metadata": {},
   "outputs": [
    {
     "name": "stdout",
     "output_type": "stream",
     "text": [
      "Train on 10029 samples, validate on 2508 samples\n",
      "Epoch 1/10\n",
      "10029/10029 [==============================] - 78s 8ms/sample - loss: 0.8193 - acc: 0.6886 - val_loss: 0.4831 - val_acc: 0.7998\n",
      "Epoch 2/10\n",
      "10029/10029 [==============================] - 66s 7ms/sample - loss: 0.4357 - acc: 0.8330 - val_loss: 0.3342 - val_acc: 0.8951\n",
      "Epoch 3/10\n",
      "10029/10029 [==============================] - 66s 7ms/sample - loss: 0.3231 - acc: 0.8948 - val_loss: 0.2684 - val_acc: 0.9183\n",
      "Epoch 4/10\n",
      "10029/10029 [==============================] - 73s 7ms/sample - loss: 0.2681 - acc: 0.9203 - val_loss: 0.2564 - val_acc: 0.9167\n",
      "Epoch 5/10\n",
      "10029/10029 [==============================] - 75s 7ms/sample - loss: 0.2333 - acc: 0.9313 - val_loss: 0.2273 - val_acc: 0.9330\n",
      "Epoch 6/10\n",
      " 9984/10029 [============================>.] - ETA: 0s - loss: 0.2081 - acc: 0.9404"
     ]
    }
   ],
   "source": [
    "model_history = model.fit([x_train_padded, sentiment_train],\n",
    "                         y_train, epochs=10, batch_size= 128, verbose=1, validation_data = ([x_val_padded,sentiment_val],\n",
    "                                                                                            y_val))"
   ]
  },
  {
   "cell_type": "markdown",
   "metadata": {
    "id": "FyLosb7wWBMy"
   },
   "source": [
    "6. Evaluate Model"
   ]
  },
  {
   "cell_type": "code",
   "execution_count": null,
   "metadata": {
    "id": "0Tz8JJW9WAqG"
   },
   "outputs": [],
   "source": [
    "# plot results\n",
    "plot_results(model_history)\n",
    "\n",
    "# print classification report\n",
    "y_pred = np.argmax(model.predict([x_val_padded,sentiment_val]),axis=-1)\n",
    "print(\"\\nClassification Report:\\n\\n\",classification_report(y_true=y_val, y_pred = y_pred, labels = np.unique(y_val)))"
   ]
  },
  {
   "cell_type": "code",
   "execution_count": null,
   "metadata": {
    "id": "yzx2rDT-W4De"
   },
   "outputs": [],
   "source": [
    "# save model"
   ]
  },
  {
   "cell_type": "markdown",
   "metadata": {},
   "source": [
    "# Multi-Channel CNN"
   ]
  },
  {
   "cell_type": "code",
   "execution_count": null,
   "metadata": {},
   "outputs": [],
   "source": [
    "# Input 1\n",
    "input1 = embedding_matrix\n",
    "input_len1 = maximum_text_length\n",
    "embedding_vocab1 = embedding_matrix.shape[0]\n",
    "embedding_dimension1 = embedding_matrix.shape[1]\n",
    "\n",
    "# Input 2\n",
    "input2 = sentiment_train\n",
    "input_len2 = sentiment_train.shape[1]\n",
    "\n",
    "# Output\n",
    "output_dim = len(np.unique(y_train))\n",
    "\n",
    "# Input Channel 1\n",
    "i1 = Input(shape = (input_len1, ))\n",
    "e1 = Embedding(input_length=input_len1, input_dim=embedding_vocab1, output_dim = embedding_dimension1,\n",
    "               weights = [input1], trainable = False)(i1)\n",
    "c1 = Conv1D(filters = 256, kernel_size=3, padding = \"same\", activation=\"relu\")(e1)\n",
    "gmp = GlobalMaxPooling1D()(c1)\n",
    "c1_do = Dropout(0.3)(gmp)\n",
    "# max_pool1 = MaxPooling1D(pool_size=3)(c1_do)\n",
    "\n",
    "\n",
    "d1 = Dense(64, activation=\"relu\")(c1_do)\n",
    "\n",
    "# Input Channel 2\n",
    "i2 = Input(shape = (input_len2, ))\n",
    "# d2 = Dense(64, activation = \"relu\")(i2)\n",
    "\n",
    "# Merge Channels\n",
    "merged = concatenate([d1,i2])\n",
    "\n",
    "#output\n",
    "output = Dense(output_dim, activation = \"softmax\")(merged)\n",
    "\n",
    "\n",
    "# Compile\n",
    "model = Model(inputs = [i1, i2], outputs = output)\n",
    "model.compile(optimizer = \"adam\", loss = \"sparse_categorical_crossentropy\", metrics = [\"acc\"])"
   ]
  },
  {
   "cell_type": "code",
   "execution_count": null,
   "metadata": {},
   "outputs": [],
   "source": [
    "plot_model(model, show_shapes=True)"
   ]
  },
  {
   "cell_type": "code",
   "execution_count": null,
   "metadata": {},
   "outputs": [],
   "source": [
    "model_history = model.fit([x_train_padded, sentiment_train], y_train, epochs = 10, batch_size = 64,\n",
    "                                  validation_data = ([x_val_padded, sentiment_val],y_val))"
   ]
  },
  {
   "cell_type": "code",
   "execution_count": null,
   "metadata": {},
   "outputs": [],
   "source": [
    "# plot results\n",
    "plot_results(model_history)\n",
    "\n",
    "# print classification report\n",
    "y_pred = np.argmax(model.predict([x_val_padded,sentiment_val]),axis=-1)\n",
    "print(\"\\nClassification Report:\\n\\n\",classification_report(y_true=y_val, y_pred = y_pred, labels = np.unique(y_val)))"
   ]
  },
  {
   "cell_type": "markdown",
   "metadata": {},
   "source": [
    "# Multi-Channel CNN-BiLSTM"
   ]
  },
  {
   "cell_type": "code",
   "execution_count": null,
   "metadata": {},
   "outputs": [],
   "source": [
    "# Input 1\n",
    "input1 = embedding_matrix\n",
    "input_len1 = maximum_text_length\n",
    "embedding_vocab1 = embedding_matrix.shape[0]\n",
    "embedding_dimension1 = embedding_matrix.shape[1]\n",
    "\n",
    "# Input 2\n",
    "input2 = sentiment_train\n",
    "input_len2 = sentiment_train.shape[1]\n",
    "\n",
    "# Output\n",
    "output_dim = len(np.unique(y_train))\n",
    "\n",
    "#--------------------------------------------------------------------------------------------------------------------#\n",
    "\n",
    "# Input Channel 1\n",
    "i1 = Input(shape = (input_len1, ))\n",
    "e1 = Embedding(input_length=input_len1, input_dim=embedding_vocab1, output_dim = embedding_dimension1,\n",
    "               weights = [input1], trainable = False)(i1)\n",
    "c1 = Conv1D(filters = 256, kernel_size=3, padding = \"same\", activation=\"relu\")(e1)\n",
    "c1_do = Dropout(0.3)(c1)\n",
    "max_pool1 = MaxPooling1D(pool_size=3)(c1_do)\n",
    "\n",
    "b1 = Bidirectional(LSTM(128, dropout = 0.3, return_sequences = True, ))(max_pool1)\n",
    "gmp1 = GlobalMaxPooling1D()(b1)\n",
    "\n",
    "d1 = Dense(64, activation = \"relu\")(gmp1)\n",
    "\n",
    "# Input Channel 2\n",
    "i2 = Input(shape = (input_len2, ))\n",
    "# d2 = Dense(64, activation = \"relu\")(i2)\n",
    "\n",
    "# Merge channels\n",
    "merge = concatenate([d1, i2])\n",
    "\n",
    "# Output layer\n",
    "output = Dense(output_dim, activation = \"softmax\")(merge)\n",
    "\n",
    "\n",
    "#---------------------------------------------------------------------------------------------------------------------#\n",
    "\n",
    "# Compile\n",
    "model = Model(inputs = [i1, i2], outputs = output)\n",
    "model.compile(optimizer = \"adam\", loss = \"sparse_categorical_crossentropy\", metrics = [\"acc\"])"
   ]
  },
  {
   "cell_type": "code",
   "execution_count": null,
   "metadata": {},
   "outputs": [],
   "source": [
    "plot_model(model, show_shapes=True)"
   ]
  },
  {
   "cell_type": "code",
   "execution_count": null,
   "metadata": {},
   "outputs": [],
   "source": [
    "model_history = model.fit([x_train_padded, sentiment_train], y_train, epochs=10, verbose = 1, batch_size=64,\n",
    "                         validation_data=([x_val_padded,sentiment_val], y_val))"
   ]
  },
  {
   "cell_type": "code",
   "execution_count": null,
   "metadata": {},
   "outputs": [],
   "source": [
    "# plot results\n",
    "plot_results(model_history)\n",
    "\n",
    "# print classification report\n",
    "y_pred = np.argmax(model.predict([x_val_padded,sentiment_val]),axis=-1)\n",
    "print(\"\\nClassification Report:\\n\\n\",classification_report(y_true=y_val, y_pred = y_pred, labels = np.unique(y_val)))"
   ]
  },
  {
   "cell_type": "markdown",
   "metadata": {},
   "source": [
    "# Multi-Channel CNN-BiLSTM with Attention"
   ]
  },
  {
   "cell_type": "code",
   "execution_count": null,
   "metadata": {},
   "outputs": [],
   "source": []
  }
 ],
 "metadata": {
  "colab": {
   "collapsed_sections": [
    "U6ubFoIzPHhQ"
   ],
   "name": "Text Classification Pipeline.ipynb",
   "provenance": []
  },
  "kernelspec": {
   "display_name": "Python 3",
   "language": "python",
   "name": "python3"
  },
  "language_info": {
   "codemirror_mode": {
    "name": "ipython",
    "version": 3
   },
   "file_extension": ".py",
   "mimetype": "text/x-python",
   "name": "python",
   "nbconvert_exporter": "python",
   "pygments_lexer": "ipython3",
   "version": "3.7.4"
  },
  "toc": {
   "base_numbering": 1,
   "nav_menu": {},
   "number_sections": true,
   "sideBar": true,
   "skip_h1_title": false,
   "title_cell": "Table of Contents",
   "title_sidebar": "Contents",
   "toc_cell": false,
   "toc_position": {},
   "toc_section_display": true,
   "toc_window_display": false
  }
 },
 "nbformat": 4,
 "nbformat_minor": 1
}