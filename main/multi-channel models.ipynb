{
 "cells": [
  {
   "cell_type": "code",
   "execution_count": 2,
   "metadata": {
    "id": "VmwVkgoA9wRd"
   },
   "outputs": [],
   "source": [
    "import pandas as pd\n",
    "import numpy as np\n",
    "from time import process_time\n",
    "import pickle\n",
    "\n",
    "from sklearn.model_selection import train_test_split\n",
    "from sklearn.metrics import classification_report\n",
    "\n",
    "from custom_functions import *\n",
    "from custom_models import *\n",
    "\n",
    "import tensorflow as tf\n",
    "from tensorflow.keras import Sequential, Model\n",
    "from tensorflow.keras.layers import Input, Embedding, Dense, GlobalMaxPooling1D, Conv1D, Dropout, GlobalAveragePooling1D,LSTM, Bidirectional, TimeDistributed, Flatten\n",
    "from tensorflow.keras.layers import concatenate\n",
    "from tensorflow.keras.utils import plot_model"
   ]
  },
  {
   "cell_type": "markdown",
   "metadata": {
    "id": "zAS3cHjKPCS-"
   },
   "source": [
    "# utils"
   ]
  },
  {
   "cell_type": "code",
   "execution_count": 51,
   "metadata": {},
   "outputs": [],
   "source": [
    "def get_word_embeddings(filepath, vocab, embedding_dimension):\n",
    "\n",
    "  word_embeddings = np.zeros((len(vocab) + 1, embedding_dimension))\n",
    "#   word_embeddings = []\n",
    "  embedding_file = open(filepath, \"r\", encoding = \"utf8\")\n",
    "  count = 0\n",
    "  nf = 0\n",
    "  for line in embedding_file:\n",
    "    line = line.split()\n",
    "    word = line[0]\n",
    "    if word in vocab:\n",
    "        try:\n",
    "          word_vector = np.asarray(line[1:], dtype = \"float32\")\n",
    "          if len(word_vector) == embedding_dimension:\n",
    "            word_embeddings[vocab[word]] = word_vector\n",
    "          else:\n",
    "            print('\\nVector size does not match with embedding_dimension:\\t', word_vector)\n",
    "          count+=1\n",
    "        except Exception as e:\n",
    "            print(e)\n",
    "            nf += 1\n",
    "  print(\"Total word embeddings read: {}\\n\".format(count))\n",
    "  print(nf)\n",
    "  embedding_file.close()\n",
    "  return word_embeddings   "
   ]
  },
  {
   "cell_type": "markdown",
   "metadata": {
    "id": "vI_3643nR4Oh"
   },
   "source": [
    "# Text Classification Process Flow"
   ]
  },
  {
   "cell_type": "markdown",
   "metadata": {
    "id": "rKVieDo_TY88"
   },
   "source": [
    "1. Load train and test"
   ]
  },
  {
   "cell_type": "code",
   "execution_count": 4,
   "metadata": {
    "colab": {
     "base_uri": "https://localhost:8080/"
    },
    "id": "Gku_FrSyR-c8",
    "outputId": "aad79e0a-6a4e-4755-bf52-463e20b65e40"
   },
   "outputs": [
    {
     "name": "stdout",
     "output_type": "stream",
     "text": [
      "(12537, 13)\n",
      "\n",
      "training data: 10029\t validation data: 2508 \n",
      "training classes: ['NEG' 'NEU' 'POS']\t validation classes: ['NEG' 'NEU' 'POS'] \n",
      "\n"
     ]
    }
   ],
   "source": [
    "# D_train = read_data()\n",
    "# D_test = read_data()\n",
    "data = read_data(\"../Arabic Sentiment Identification/dataset/sentimentscore_with_weights.csv\")\n",
    "print(data.shape)\n",
    "D_train, D_test =  train_test_split(data ,test_size=0.2, random_state=42)\n",
    "D_train = D_train.reset_index()\n",
    "D_test = D_test.reset_index()\n",
    "\n",
    "x_train = D_train['tweet_preprocessed']\n",
    "y_train = D_train['sentiment'].values.tolist()\n",
    "x_val = D_test['tweet_preprocessed']\n",
    "y_val = D_test['sentiment'].values.tolist()\n",
    "\n",
    "print('\\ntraining data: {}\\t validation data: {}'.format(len(x_train),len(x_val)),\n",
    "      '\\ntraining classes: {}\\t validation classes: {} \\n'.format(np.unique(y_val),np.unique(y_val)))\n"
   ]
  },
  {
   "cell_type": "markdown",
   "metadata": {
    "id": "F1KcrCn4TbyO"
   },
   "source": [
    "2. Clean and Preprocess "
   ]
  },
  {
   "cell_type": "code",
   "execution_count": 5,
   "metadata": {
    "id": "1iJW5eKtTSjO"
   },
   "outputs": [
    {
     "name": "stdout",
     "output_type": "stream",
     "text": [
      "x_train_tokenized: 10029 \n",
      "x_val_tokenized: 2508 \n",
      "Total Vocab:  48543\n"
     ]
    }
   ],
   "source": [
    "# Clean Text\n",
    "# x_train = x_train.apply(lambda x : clean_text(x)).values.tolist()\n",
    "# x_val = x_val.apply(lambda x : clean_text(x)).values.tolist()\n",
    "\n",
    "x_train = x_train.values.tolist()\n",
    "x_val = x_val.values.tolist()\n",
    "\n",
    "# Preprocess Text\n",
    "\n",
    "\n",
    "# Tokenize Text\n",
    "tokenizer, x_train_tokenized, x_val_tokenized = tokenize_text(data['tweet_preprocessed'].values.tolist(),\n",
    "                                                               x_train, x_val)\n",
    "\n",
    "print('x_train_tokenized:',len(x_train_tokenized),'\\nx_val_tokenized:',len(x_val_tokenized),\n",
    "      \"\\nTotal Vocab: \",len(tokenizer.word_counts))"
   ]
  },
  {
   "cell_type": "code",
   "execution_count": 6,
   "metadata": {
    "colab": {
     "base_uri": "https://localhost:8080/"
    },
    "id": "CCAF9VW9qiy9",
    "outputId": "ca235bd3-b181-4d57-fec0-c75359a9c52a"
   },
   "outputs": [
    {
     "name": "stdout",
     "output_type": "stream",
     "text": [
      "x_train_padded: (10029, 50) \n",
      "x_val_padded (2508, 50)\n"
     ]
    }
   ],
   "source": [
    "# Pad Text\n",
    "maximum_text_length = 50\n",
    "padding_type = \"post\"\n",
    "truncating_type = \"post\"\n",
    "\n",
    "x_train_padded = pad_text_sequence(x_train_tokenized, maximum_text_length, padding_type, truncating_type)\n",
    "x_val_padded = pad_text_sequence(x_val_tokenized, maximum_text_length, padding_type, truncating_type)\n",
    "\n",
    "print('x_train_padded:',x_train_padded.shape,'\\nx_val_padded',x_val_padded.shape)"
   ]
  },
  {
   "cell_type": "markdown",
   "metadata": {
    "id": "2DHQ9wuBUYpu"
   },
   "source": [
    "3. Encode target variables (labels) to integers\n",
    "\n"
   ]
  },
  {
   "cell_type": "code",
   "execution_count": 7,
   "metadata": {
    "colab": {
     "base_uri": "https://localhost:8080/"
    },
    "id": "1Nq7z7IHUWjV",
    "outputId": "3c13d9b2-5ca3-4d88-d82a-65d9e9be82c8"
   },
   "outputs": [
    {
     "name": "stdout",
     "output_type": "stream",
     "text": [
      "Mapping:\n",
      "{'NEG': 0, 'NEU': 1, 'POS': 2}\n",
      "Mapping:\n",
      "{'NEG': 0, 'NEU': 1, 'POS': 2}\n",
      "(10029, 1) (2508, 1)\n"
     ]
    }
   ],
   "source": [
    "y_train = get_label_encoding(y_train)\n",
    "y_val = get_label_encoding(y_val)\n",
    "\n",
    "print(y_train.shape, y_val.shape)"
   ]
  },
  {
   "cell_type": "markdown",
   "metadata": {
    "id": "OslntWhCVBGZ"
   },
   "source": [
    "# Input 1:  Word Embeddings"
   ]
  },
  {
   "cell_type": "code",
   "execution_count": 8,
   "metadata": {
    "colab": {
     "base_uri": "https://localhost:8080/"
    },
    "id": "nUo1CmFqVGUz",
    "outputId": "ed80371e-a950-44be-b8b4-0b2d4d170d20"
   },
   "outputs": [
    {
     "name": "stdout",
     "output_type": "stream",
     "text": [
      "Total word embeddings read: 47863\n",
      "\n",
      "Total Vocab: 48544 \n",
      "Embeddings: 48544\n"
     ]
    }
   ],
   "source": [
    "# Load word embeddings from file\n",
    "vocab = tokenizer.word_index\n",
    "embedding_dimension = 300\n",
    "embeddings_file = \"../Arabic Sentiment Identification/word embeddings/fasttext_model-skipgram_dim-300.vec\"\n",
    "\n",
    "embedding_matrix = get_word_embeddings(embeddings_file,vocab,embedding_dimension)\n",
    "\n",
    "# Get sentence embeddings\n",
    "\n",
    "# Validate embedding_matrix shape\n",
    "print(\"Total Vocab:\",len(vocab), \"\\nEmbeddings:\",embedding_matrix.shape[0] -1 )"
   ]
  },
  {
   "cell_type": "markdown",
   "metadata": {},
   "source": [
    "# Input 2: Sentiment Features"
   ]
  },
  {
   "cell_type": "code",
   "execution_count": 9,
   "metadata": {},
   "outputs": [],
   "source": [
    "def get_sentiment_matrix(df):\n",
    "    sentiment_matrix  = np.zeros((len(df), 4), dtype='float64')\n",
    "    \n",
    "    for i in range(len(df)):\n",
    "        try:\n",
    "            sentiment_matrix[i] = np.array([1,df['NEU_WEIGHTS'][i],df['POSNEG_WEIGHTS'][i], df['SEN_SCORE'][i]], dtype='float64')\n",
    "        except:\n",
    "            print(i)\n",
    "    return sentiment_matrix"
   ]
  },
  {
   "cell_type": "code",
   "execution_count": 10,
   "metadata": {},
   "outputs": [
    {
     "name": "stdout",
     "output_type": "stream",
     "text": [
      "Sentiment Input (Train): (10029, 4)\n",
      "Sentiment Input (Test): (2508, 4)\n"
     ]
    }
   ],
   "source": [
    "sentiment_train = get_sentiment_matrix(D_train)\n",
    "sentiment_val = get_sentiment_matrix(D_test)\n",
    "\n",
    "print(\"Sentiment Input (Train): {}\\nSentiment Input (Test): {}\".format(sentiment_train.shape, sentiment_val.shape))"
   ]
  },
  {
   "cell_type": "code",
   "execution_count": 11,
   "metadata": {},
   "outputs": [
    {
     "name": "stdout",
     "output_type": "stream",
     "text": [
      "Model: \"model\"\n",
      "_________________________________________________________________\n",
      "Layer (type)                 Output Shape              Param #   \n",
      "=================================================================\n",
      "input_1 (InputLayer)         [(None, 4)]               0         \n",
      "_________________________________________________________________\n",
      "dense (Dense)                (None, 64)                320       \n",
      "_________________________________________________________________\n",
      "dense_1 (Dense)              (None, 32)                2080      \n",
      "=================================================================\n",
      "Total params: 2,400\n",
      "Trainable params: 2,400\n",
      "Non-trainable params: 0\n",
      "_________________________________________________________________\n",
      "Train on 10029 samples, validate on 2508 samples\n",
      "Epoch 1/10\n",
      "10029/10029 [==============================] - 2s 230us/sample - loss: 1.4935 - acc: 0.6878 - val_loss: 0.4071 - val_acc: 0.9147\n",
      "Epoch 2/10\n",
      "10029/10029 [==============================] - 1s 89us/sample - loss: 0.3845 - acc: 0.9059 - val_loss: 0.3007 - val_acc: 0.9207\n",
      "Epoch 3/10\n",
      "10029/10029 [==============================] - 1s 86us/sample - loss: 0.3626 - acc: 0.9107 - val_loss: 0.2849 - val_acc: 0.9147\n",
      "Epoch 4/10\n",
      "10029/10029 [==============================] - 1s 103us/sample - loss: 0.4171 - acc: 0.8306 - val_loss: 0.5281 - val_acc: 0.5750\n",
      "Epoch 5/10\n",
      "10029/10029 [==============================] - 1s 87us/sample - loss: 0.5376 - acc: 0.6659 - val_loss: 0.5156 - val_acc: 0.8923\n",
      "Epoch 6/10\n",
      "10029/10029 [==============================] - 1s 84us/sample - loss: 0.5251 - acc: 0.8930 - val_loss: 0.5155 - val_acc: 0.9183\n",
      "Epoch 7/10\n",
      "10029/10029 [==============================] - 1s 75us/sample - loss: 0.5294 - acc: 0.8915 - val_loss: 0.5543 - val_acc: 0.8820\n",
      "Epoch 8/10\n",
      "10029/10029 [==============================] - 1s 88us/sample - loss: 0.4217 - acc: 0.9055 - val_loss: 0.3716 - val_acc: 0.9203\n",
      "Epoch 9/10\n",
      "10029/10029 [==============================] - 1s 88us/sample - loss: 0.4427 - acc: 0.8930 - val_loss: 0.5343 - val_acc: 0.6691\n",
      "Epoch 10/10\n",
      "10029/10029 [==============================] - 1s 92us/sample - loss: 0.5504 - acc: 0.6793 - val_loss: 0.5177 - val_acc: 0.6515\n"
     ]
    }
   ],
   "source": [
    "i1 = Input(shape = (sentiment_train.shape[1]))\n",
    "d1 = Dense(64, activation = \"relu\")(i1)\n",
    "d2 = Dense(32, activation = \"relu\")(d1)\n",
    "d3 = Dense(3, activation = \"softmax\")(d2)\n",
    "\n",
    "m = Model(inputs = i1, outputs= d2)\n",
    "m.compile(optimizer = \"adam\", loss = \"sparse_categorical_crossentropy\", metrics = [\"acc\"])\n",
    "\n",
    "m.summary()\n",
    "\n",
    "h = m.fit(sentiment_train, y_train, epochs=10, validation_data = (sentiment_val, y_val))"
   ]
  },
  {
   "cell_type": "markdown",
   "metadata": {},
   "source": [
    "# Multi-Channel Bi-LSTM"
   ]
  },
  {
   "cell_type": "code",
   "execution_count": 12,
   "metadata": {},
   "outputs": [
    {
     "name": "stdout",
     "output_type": "stream",
     "text": [
      "Shape of each Input Sentence:  50 x 300\n",
      "Shape of Input layer 1:  10029 x 300\n",
      "Shape of Input layer 2:  10029 x 4\n",
      "Output classes:  3\n",
      "Model: \"model_1\"\n",
      "__________________________________________________________________________________________________\n",
      "Layer (type)                    Output Shape         Param #     Connected to                     \n",
      "==================================================================================================\n",
      "input_2 (InputLayer)            [(None, 50)]         0                                            \n",
      "__________________________________________________________________________________________________\n",
      "embedding (Embedding)           (None, 50, 300)      14563500    input_2[0][0]                    \n",
      "__________________________________________________________________________________________________\n",
      "bidirectional (Bidirectional)   (None, 50, 256)      439296      embedding[0][0]                  \n",
      "__________________________________________________________________________________________________\n",
      "global_max_pooling1d (GlobalMax (None, 256)          0           bidirectional[0][0]              \n",
      "__________________________________________________________________________________________________\n",
      "dense_3 (Dense)                 (None, 64)           16448       global_max_pooling1d[0][0]       \n",
      "__________________________________________________________________________________________________\n",
      "input_3 (InputLayer)            [(None, 4)]          0                                            \n",
      "__________________________________________________________________________________________________\n",
      "dropout (Dropout)               (None, 64)           0           dense_3[0][0]                    \n",
      "__________________________________________________________________________________________________\n",
      "dense_4 (Dense)                 (None, 64)           320         input_3[0][0]                    \n",
      "__________________________________________________________________________________________________\n",
      "concatenate (Concatenate)       (None, 128)          0           dropout[0][0]                    \n",
      "                                                                 dense_4[0][0]                    \n",
      "__________________________________________________________________________________________________\n",
      "dense_5 (Dense)                 (None, 3)            387         concatenate[0][0]                \n",
      "==================================================================================================\n",
      "Total params: 15,019,951\n",
      "Trainable params: 456,451\n",
      "Non-trainable params: 14,563,500\n",
      "__________________________________________________________________________________________________\n"
     ]
    }
   ],
   "source": [
    "# Define callback\n",
    "custom_callback = myCallbacks(metrics=\"acc\", threshold = 0.95)\n",
    "\n",
    "#--------------------------------------------------------------------------------------------------------------------#\n",
    "\n",
    "# Define model hyperparameters\n",
    "input_length1 = maximum_text_length\n",
    "embedding_vocab1 = embedding_matrix.shape[0]\n",
    "embedding_dimension1 = embedding_matrix.shape[1]\n",
    "\n",
    "input2 = sentiment_train\n",
    "input_length2 = input2.shape[1]\n",
    "\n",
    "output_dimension = len(np.unique(y_train))\n",
    "\n",
    "print('Shape of each Input Sentence: ',input_length1,\"x\",embedding_dimension)\n",
    "print('Shape of Input layer 1: ',len(x_train),\"x\",embedding_dimension)\n",
    "print('Shape of Input layer 2: ',len(x_train),\"x\",input_length2)\n",
    "\n",
    "print(\"Output classes: \",output_dimension)\n",
    "#--------------------------------------------------------------------------------------------------------------------#\n",
    "\n",
    "# Define Input Channel 1\n",
    "\n",
    "Input_layer1 = Input(shape = (input_length1,))\n",
    "Embedding_layer1 = Embedding(input_length = input_length1, input_dim = embedding_vocab1, output_dim = embedding_dimension1,\n",
    "                             weights = [embedding_matrix], trainable = False)(Input_layer1)\n",
    "\n",
    "LSTM_layer1 = Bidirectional(LSTM(128, return_sequences = True))(Embedding_layer1)\n",
    "Max_Pool_1 = GlobalMaxPooling1D()(LSTM_layer1)\n",
    "Dense1 = Dense(64, activation = \"relu\")(Max_Pool_1)\n",
    "dropout_Dense1 = Dropout(0.25)(Dense1)\n",
    "\n",
    "# Input Channel 2\n",
    "Input_layer2 = Input(shape= (input_length2,))\n",
    "Dense2 = Dense(64, activation = \"relu\")(Input_layer2)\n",
    "\n",
    "# Concatentate Channels\n",
    "Concat_layer= concatenate([dropout_Dense1, Dense2])\n",
    "\n",
    "# Define output layer\n",
    "Output_layer = Dense(output_dimension, activation = \"softmax\")(Concat_layer)\n",
    "\n",
    "\n",
    "# Compile model\n",
    "model = Model(inputs = [Input_layer1, Input_layer2], outputs = Output_layer)\n",
    "model.compile(optimizer = \"adam\", loss = \"sparse_categorical_crossentropy\", metrics= [\"acc\"])\n",
    "model.summary()"
   ]
  },
  {
   "cell_type": "code",
   "execution_count": 18,
   "metadata": {},
   "outputs": [],
   "source": [
    "# plot_model(model, show_shapes=True)"
   ]
  },
  {
   "cell_type": "code",
   "execution_count": 14,
   "metadata": {},
   "outputs": [
    {
     "name": "stdout",
     "output_type": "stream",
     "text": [
      "Train on 10029 samples, validate on 2508 samples\n",
      "Epoch 1/10\n",
      "10029/10029 [==============================] - 53s 5ms/sample - loss: 0.3062 - acc: 0.8981 - val_loss: 0.1804 - val_acc: 0.9478\n",
      "Epoch 2/10\n",
      "10029/10029 [==============================] - 46s 5ms/sample - loss: 0.1735 - acc: 0.9433 - val_loss: 0.1650 - val_acc: 0.9502\n",
      "Epoch 3/10\n",
      "10029/10029 [==============================] - 44s 4ms/sample - loss: 0.1473 - acc: 0.9505 - val_loss: 0.1317 - val_acc: 0.9553\n",
      "Epoch 4/10\n",
      "10029/10029 [==============================] - 44s 4ms/sample - loss: 0.1213 - acc: 0.9589 - val_loss: 0.1261 - val_acc: 0.9533\n",
      "Epoch 5/10\n",
      "10029/10029 [==============================] - 42s 4ms/sample - loss: 0.1063 - acc: 0.9654 - val_loss: 0.1255 - val_acc: 0.9541\n",
      "Epoch 6/10\n",
      "10029/10029 [==============================] - 46s 5ms/sample - loss: 0.0933 - acc: 0.9680 - val_loss: 0.1289 - val_acc: 0.9593\n",
      "Epoch 7/10\n",
      "10029/10029 [==============================] - 48s 5ms/sample - loss: 0.0800 - acc: 0.9738 - val_loss: 0.1461 - val_acc: 0.9486\n",
      "Epoch 8/10\n",
      "10029/10029 [==============================] - 49s 5ms/sample - loss: 0.0731 - acc: 0.9760 - val_loss: 0.1440 - val_acc: 0.9526\n",
      "Epoch 9/10\n",
      "10029/10029 [==============================] - 48s 5ms/sample - loss: 0.0664 - acc: 0.9789 - val_loss: 0.1416 - val_acc: 0.9502\n",
      "Epoch 10/10\n",
      "10029/10029 [==============================] - 50s 5ms/sample - loss: 0.0556 - acc: 0.9815 - val_loss: 0.1458 - val_acc: 0.9502\n"
     ]
    }
   ],
   "source": [
    "model_history = model.fit([x_train_padded, sentiment_train],\n",
    "                         y_train, epochs=10, batch_size= 128, verbose=1, validation_data = ([x_val_padded,sentiment_val],\n",
    "                                                                                            y_val))"
   ]
  },
  {
   "cell_type": "markdown",
   "metadata": {
    "id": "FyLosb7wWBMy"
   },
   "source": [
    "6. Evaluate Model"
   ]
  },
  {
   "cell_type": "code",
   "execution_count": 17,
   "metadata": {
    "id": "0Tz8JJW9WAqG"
   },
   "outputs": [
    {
     "data": {
      "image/png": "[encoded data removed]",
      "text/plain": [
       "<Figure size 432x288 with 1 Axes>"
      ]
     },
     "metadata": {
      "needs_background": "light"
     },
     "output_type": "display_data"
    },
    {
     "data": {
      "image/png": "[encoded data removed]",
      "text/plain": [
       "<Figure size 432x288 with 1 Axes>"
      ]
     },
     "metadata": {
      "needs_background": "light"
     },
     "output_type": "display_data"
    },
    {
     "name": "stdout",
     "output_type": "stream",
     "text": [
      "\n",
      "Classification Report:\n",
      "\n",
      "               precision    recall  f1-score   support\n",
      "\n",
      "           0       0.95      0.96      0.96       924\n",
      "           1       0.96      0.95      0.96      1172\n",
      "           2       0.92      0.92      0.92       412\n",
      "\n",
      "    accuracy                           0.95      2508\n",
      "   macro avg       0.94      0.94      0.94      2508\n",
      "weighted avg       0.95      0.95      0.95      2508\n",
      "\n"
     ]
    }
   ],
   "source": [
    "# plot results\n",
    "plot_results(model_history)\n",
    "\n",
    "# print classification report\n",
    "y_pred = np.argmax(model.predict([x_val_padded,sentiment_val]),axis=-1)\n",
    "print(\"\\nClassification Report:\\n\\n\",classification_report(y_true=y_val, y_pred = y_pred, labels = np.unique(y_val)))"
   ]
  },
  {
   "cell_type": "code",
   "execution_count": null,
   "metadata": {
    "id": "yzx2rDT-W4De"
   },
   "outputs": [],
   "source": [
    "# save model"
   ]
  },
  {
   "cell_type": "markdown",
   "metadata": {},
   "source": [
    "# Multi-Channel CNN"
   ]
  },
  {
   "cell_type": "code",
   "execution_count": 47,
   "metadata": {},
   "outputs": [],
   "source": [
    "# Input 1\n",
    "input1 = embedding_matrix\n",
    "input_len1 = maximum_text_length\n",
    "embedding_vocab1 = embedding_matrix.shape[0]\n",
    "embedding_dimension1 = embedding_matrix.shape[1]\n",
    "\n",
    "# Input 2\n",
    "input2 = sentiment_train\n",
    "input_len2 = sentiment_train.shape[1]\n",
    "\n",
    "# Output\n",
    "output_dim = len(np.unique(y_train))\n",
    "\n",
    "# Input Channel 1\n",
    "i1 = Input(shape = (input_len1, ))\n",
    "e1 = Embedding(input_length=input_len1, input_dim=embedding_vocab1, output_dim = embedding_dimension1,\n",
    "               weights = [input1], trainable = False)(i1)\n",
    "c1 = Conv1D(filters = 256, kernel_size=3, padding = \"same\", activation=\"relu\")(e1)\n",
    "gmp = GlobalMaxPooling1D()(c1)\n",
    "c1_do = Dropout(0.3)(gmp)\n",
    "# max_pool1 = MaxPooling1D(pool_size=3)(c1_do)\n",
    "\n",
    "\n",
    "d1 = Dense(64, activation=\"relu\")(c1_do)\n",
    "\n",
    "# Input Channel 2\n",
    "i2 = Input(shape = (input_len2, ))\n",
    "d2 = Dense(64, activation = \"relu\")(i2)\n",
    "\n",
    "# Merge Channels\n",
    "merged = concatenate([d1,d2])\n",
    "\n",
    "#output\n",
    "output = Dense(output_dim, activation = \"softmax\")(merged)\n",
    "\n",
    "\n",
    "# Compile\n",
    "model = Model(inputs = [i1, i2], outputs = output)\n",
    "model.compile(optimizer = \"adam\", loss = \"sparse_categorical_crossentropy\", metrics = [\"acc\"])"
   ]
  },
  {
   "cell_type": "code",
   "execution_count": 49,
   "metadata": {},
   "outputs": [
    {
     "name": "stdout",
     "output_type": "stream",
     "text": [
      "Train on 10029 samples, validate on 2508 samples\n",
      "Epoch 1/10\n",
      "10029/10029 [==============================] - 19s 2ms/sample - loss: 0.3053 - acc: 0.8882 - val_loss: 0.1847 - val_acc: 0.9402\n",
      "Epoch 2/10\n",
      "10029/10029 [==============================] - 17s 2ms/sample - loss: 0.1663 - acc: 0.9427 - val_loss: 0.1505 - val_acc: 0.9494\n",
      "Epoch 3/10\n",
      "10029/10029 [==============================] - 17s 2ms/sample - loss: 0.1266 - acc: 0.9589 - val_loss: 0.1456 - val_acc: 0.9498\n",
      "Epoch 4/10\n",
      "10029/10029 [==============================] - 16s 2ms/sample - loss: 0.0969 - acc: 0.9691 - val_loss: 0.1535 - val_acc: 0.9478\n",
      "Epoch 5/10\n",
      "10029/10029 [==============================] - 18s 2ms/sample - loss: 0.0806 - acc: 0.9747 - val_loss: 0.1801 - val_acc: 0.9390\n",
      "Epoch 6/10\n",
      "10029/10029 [==============================] - 17s 2ms/sample - loss: 0.0714 - acc: 0.9785 - val_loss: 0.1623 - val_acc: 0.9442\n",
      "Epoch 7/10\n",
      "10029/10029 [==============================] - 16s 2ms/sample - loss: 0.0618 - acc: 0.9810 - val_loss: 0.1711 - val_acc: 0.9430\n",
      "Epoch 8/10\n",
      "10029/10029 [==============================] - 16s 2ms/sample - loss: 0.0597 - acc: 0.9810 - val_loss: 0.1724 - val_acc: 0.9466: 0s - loss: 0.0611 - ac\n",
      "Epoch 9/10\n",
      "10029/10029 [==============================] - 18s 2ms/sample - loss: 0.0515 - acc: 0.9843 - val_loss: 0.1725 - val_acc: 0.9454\n",
      "Epoch 10/10\n",
      "10029/10029 [==============================] - 16s 2ms/sample - loss: 0.0504 - acc: 0.9851 - val_loss: 0.1771 - val_acc: 0.9474\n"
     ]
    }
   ],
   "source": [
    "model_history = model.fit([x_train_padded, sentiment_train], y_train, epochs = 10, batch_size = 64,\n",
    "                                  validation_data = ([x_val_padded, sentiment_val],y_val))"
   ]
  },
  {
   "cell_type": "code",
   "execution_count": 50,
   "metadata": {},
   "outputs": [
    {
     "data": {
      "image/png": "[encoded data removed]",
      "text/plain": [
       "<Figure size 432x288 with 1 Axes>"
      ]
     },
     "metadata": {
      "needs_background": "light"
     },
     "output_type": "display_data"
    },
    {
     "data": {
      "image/png": "[encoded data removed]",
      "text/plain": [
       "<Figure size 432x288 with 1 Axes>"
      ]
     },
     "metadata": {
      "needs_background": "light"
     },
     "output_type": "display_data"
    },
    {
     "name": "stdout",
     "output_type": "stream",
     "text": [
      "\n",
      "Classification Report:\n",
      "\n",
      "               precision    recall  f1-score   support\n",
      "\n",
      "           0       0.96      0.95      0.95       924\n",
      "           1       0.95      0.95      0.95      1172\n",
      "           2       0.91      0.93      0.92       412\n",
      "\n",
      "    accuracy                           0.95      2508\n",
      "   macro avg       0.94      0.94      0.94      2508\n",
      "weighted avg       0.95      0.95      0.95      2508\n",
      "\n"
     ]
    }
   ],
   "source": [
    "# plot results\n",
    "plot_results(model_history)\n",
    "\n",
    "# print classification report\n",
    "y_pred = np.argmax(model.predict([x_val_padded,sentiment_val]),axis=-1)\n",
    "print(\"\\nClassification Report:\\n\\n\",classification_report(y_true=y_val, y_pred = y_pred, labels = np.unique(y_val)))"
   ]
  },
  {
   "cell_type": "markdown",
   "metadata": {},
   "source": [
    "# Multi-Channel CNN-BiLSTM"
   ]
  },
  {
   "cell_type": "code",
   "execution_count": null,
   "metadata": {},
   "outputs": [],
   "source": [
    "# Input 1\n",
    "input1 = embedding_matrix\n",
    "input_len1 = maximum_text_length\n",
    "embedding_vocab1 = embedding_matrix.shape[0]\n",
    "embedding_dimension1 = embedding_matrix.shape[1]\n",
    "\n",
    "# Input 2\n",
    "input2 = sentiment_train\n",
    "input_len2 = sentiment_train.shape[1]\n",
    "\n",
    "# Output\n",
    "output_dim = len(np.unique(y_train))\n",
    "\n",
    "#--------------------------------------------------------------------------------------------------------------------#\n",
    "\n",
    "# Input Channel 1\n",
    "i1 = Input(shape = (input_len1, ))\n",
    "e1 = Embedding(input_length=input_len1, input_dim=embedding_vocab1, output_dim = embedding_dimension1,\n",
    "               weights = [input1], trainable = False)(i1)\n",
    "c1 = Conv1D(filters = 256, kernel_size=3, padding = \"same\", activation=\"relu\")(e1)\n",
    "c1_do = Dropout(0.3)(c1)\n",
    "max_pool1 = MaxPooling1D(pool_size=3)(c1_do)\n",
    "\n",
    "b1 = Bidirectional(LSTM(128, dropout = 0.3, return_sequences = True, ))(max_pool1)\n",
    "gmp1 = GlobalMaxPooling1D()(b1)\n",
    "\n",
    "d1 = Dense(64, activation = \"relu\")(gmp1)\n",
    "\n",
    "# Input Channel 2\n",
    "i2 = Input(shape = (input_len2, ))\n",
    "d2 = Dense(64, activation = \"relu\")(i2)\n",
    "\n",
    "# Merge channels\n",
    "merge = concatenate([d1, d2])\n",
    "\n",
    "# Output layer\n",
    "output = Dense(output_dim, activation = \"softmax\")(merge)\n",
    "\n",
    "\n",
    "#---------------------------------------------------------------------------------------------------------------------#\n",
    "\n",
    "# Compile\n",
    "model = Model(inputs = [i1, i2], outputs = output)\n",
    "model.compile(optimizer = \"adam\", loss = \"sparse_categorical_crossentropy\", metrics = [\"acc\"])"
   ]
  },
  {
   "cell_type": "code",
   "execution_count": 25,
   "metadata": {},
   "outputs": [
    {
     "name": "stdout",
     "output_type": "stream",
     "text": [
      "Train on 10029 samples, validate on 2508 samples\n",
      "Epoch 1/10\n",
      "10029/10029 [==============================] - 51s 5ms/sample - loss: 0.2289 - acc: 0.9243 - val_loss: 0.1488 - val_acc: 0.9545\n",
      "Epoch 2/10\n",
      "10029/10029 [==============================] - 33s 3ms/sample - loss: 0.1445 - acc: 0.9519 - val_loss: 0.1264 - val_acc: 0.9589\n",
      "Epoch 3/10\n",
      "10029/10029 [==============================] - 32s 3ms/sample - loss: 0.1235 - acc: 0.9574 - val_loss: 0.1354 - val_acc: 0.9533\n",
      "Epoch 4/10\n",
      "10029/10029 [==============================] - 31s 3ms/sample - loss: 0.1035 - acc: 0.9652 - val_loss: 0.1182 - val_acc: 0.9593\n",
      "Epoch 5/10\n",
      "10029/10029 [==============================] - 32s 3ms/sample - loss: 0.0892 - acc: 0.9706 - val_loss: 0.1474 - val_acc: 0.9458\n",
      "Epoch 6/10\n",
      "10029/10029 [==============================] - 32s 3ms/sample - loss: 0.0834 - acc: 0.9722 - val_loss: 0.1247 - val_acc: 0.9553\n",
      "Epoch 7/10\n",
      "10029/10029 [==============================] - 32s 3ms/sample - loss: 0.0685 - acc: 0.9771 - val_loss: 0.1404 - val_acc: 0.9526\n",
      "Epoch 8/10\n",
      "10029/10029 [==============================] - 32s 3ms/sample - loss: 0.0646 - acc: 0.9775 - val_loss: 0.1396 - val_acc: 0.9533\n",
      "Epoch 9/10\n",
      "10029/10029 [==============================] - 32s 3ms/sample - loss: 0.0557 - acc: 0.9824 - val_loss: 0.1473 - val_acc: 0.9502\n",
      "Epoch 10/10\n",
      "10029/10029 [==============================] - 32s 3ms/sample - loss: 0.0496 - acc: 0.9827 - val_loss: 0.1582 - val_acc: 0.9490\n"
     ]
    }
   ],
   "source": [
    "model_history = model.fit([x_train_padded, sentiment_train], y_train, epochs=10, verbose = 1, batch_size=64,\n",
    "                         validation_data=([x_val_padded,sentiment_val], y_val))"
   ]
  },
  {
   "cell_type": "code",
   "execution_count": 26,
   "metadata": {},
   "outputs": [
    {
     "data": {
      "image/png": "[encoded data removed]",
      "text/plain": [
       "<Figure size 432x288 with 1 Axes>"
      ]
     },
     "metadata": {
      "needs_background": "light"
     },
     "output_type": "display_data"
    },
    {
     "data": {
      "image/png": "[encoded data removed]",
      "text/plain": [
       "<Figure size 432x288 with 1 Axes>"
      ]
     },
     "metadata": {
      "needs_background": "light"
     },
     "output_type": "display_data"
    },
    {
     "name": "stdout",
     "output_type": "stream",
     "text": [
      "\n",
      "Classification Report:\n",
      "\n",
      "               precision    recall  f1-score   support\n",
      "\n",
      "           0       0.95      0.96      0.96       924\n",
      "           1       0.95      0.95      0.95      1172\n",
      "           2       0.95      0.91      0.93       412\n",
      "\n",
      "    accuracy                           0.95      2508\n",
      "   macro avg       0.95      0.94      0.94      2508\n",
      "weighted avg       0.95      0.95      0.95      2508\n",
      "\n"
     ]
    }
   ],
   "source": [
    "# plot results\n",
    "plot_results(model_history)\n",
    "\n",
    "# print classification report\n",
    "y_pred = np.argmax(model.predict([x_val_padded,sentiment_val]),axis=-1)\n",
    "print(\"\\nClassification Report:\\n\\n\",classification_report(y_true=y_val, y_pred = y_pred, labels = np.unique(y_val)))"
   ]
  },
  {
   "cell_type": "code",
   "execution_count": null,
   "metadata": {},
   "outputs": [],
   "source": []
  }
 ],
 "metadata": {
  "colab": {
   "collapsed_sections": [
    "U6ubFoIzPHhQ"
   ],
   "name": "Text Classification Pipeline.ipynb",
   "provenance": []
  },
  "kernelspec": {
   "display_name": "Python 3",
   "language": "python",
   "name": "python3"
  },
  "toc": {
   "base_numbering": 1,
   "nav_menu": {},
   "number_sections": true,
   "sideBar": true,
   "skip_h1_title": false,
   "title_cell": "Table of Contents",
   "title_sidebar": "Contents",
   "toc_cell": false,
   "toc_position": {},
   "toc_section_display": true,
   "toc_window_display": false
  }
 },
 "nbformat": 4,
 "nbformat_minor": 1
}
