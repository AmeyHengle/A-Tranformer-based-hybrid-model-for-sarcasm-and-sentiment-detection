{
 "cells": [
  {
   "cell_type": "code",
   "execution_count": 1,
   "metadata": {
    "id": "aXjkWzOGdmsS"
   },
   "outputs": [],
   "source": [
    "import pandas as pd\n",
    "from custom_functions import *"
   ]
  },
  {
   "cell_type": "markdown",
   "metadata": {
    "id": "FLSglV9Ndbz7"
   },
   "source": [
    "# Load Dataset"
   ]
  },
  {
   "cell_type": "code",
   "execution_count": 2,
   "metadata": {
    "colab": {
     "base_uri": "https://localhost:8080/",
     "height": 416
    },
    "id": "qy4-df4gde-l",
    "outputId": "575da6e5-544e-455e-8e16-d283c091cbce"
   },
   "outputs": [
    {
     "data": {
      "text/html": [
       "<div>\n",
       "<style scoped>\n",
       "    .dataframe tbody tr th:only-of-type {\n",
       "        vertical-align: middle;\n",
       "    }\n",
       "\n",
       "    .dataframe tbody tr th {\n",
       "        vertical-align: top;\n",
       "    }\n",
       "\n",
       "    .dataframe thead th {\n",
       "        text-align: right;\n",
       "    }\n",
       "</style>\n",
       "<table border=\"1\" class=\"dataframe\">\n",
       "  <thead>\n",
       "    <tr style=\"text-align: right;\">\n",
       "      <th></th>\n",
       "      <th>tweet</th>\n",
       "      <th>sarcasm</th>\n",
       "      <th>sentiment</th>\n",
       "    </tr>\n",
       "  </thead>\n",
       "  <tbody>\n",
       "    <tr>\n",
       "      <th>0</th>\n",
       "      <td>د محمودالعلايليأرى أن الفريق أحمدشفيق رقم مهم ...</td>\n",
       "      <td>False</td>\n",
       "      <td>NEU</td>\n",
       "    </tr>\n",
       "    <tr>\n",
       "      <th>1</th>\n",
       "      <td>مع فيدرر يا آجا والكبار</td>\n",
       "      <td>False</td>\n",
       "      <td>NEU</td>\n",
       "    </tr>\n",
       "    <tr>\n",
       "      <th>2</th>\n",
       "      <td>“ الداعون لمبدأ الاختلاط بين الجنسين ؛ كالداعي...</td>\n",
       "      <td>True</td>\n",
       "      <td>NEG</td>\n",
       "    </tr>\n",
       "    <tr>\n",
       "      <th>3</th>\n",
       "      <td>ihe94 ya78m amooo5 adiajnikhar Oukasafa reosha...</td>\n",
       "      <td>True</td>\n",
       "      <td>NEG</td>\n",
       "    </tr>\n",
       "    <tr>\n",
       "      <th>4</th>\n",
       "      <td>قل شرق حلب ولا تقل حلب الشرقية وقل غرب حلب ولا...</td>\n",
       "      <td>False</td>\n",
       "      <td>NEU</td>\n",
       "    </tr>\n",
       "    <tr>\n",
       "      <th>...</th>\n",
       "      <td>...</td>\n",
       "      <td>...</td>\n",
       "      <td>...</td>\n",
       "    </tr>\n",
       "    <tr>\n",
       "      <th>12539</th>\n",
       "      <td>هلأ صاير انت يا فلعوط بدك تعطي محاضرات ع تويتر...</td>\n",
       "      <td>True</td>\n",
       "      <td>NEG</td>\n",
       "    </tr>\n",
       "    <tr>\n",
       "      <th>12540</th>\n",
       "      <td>لا اله الا الله أيفونالبروفيسور</td>\n",
       "      <td>False</td>\n",
       "      <td>NEU</td>\n",
       "    </tr>\n",
       "    <tr>\n",
       "      <th>12541</th>\n",
       "      <td>RT turkyepost أردوغان إذا كان المرتكب غير مسلم...</td>\n",
       "      <td>False</td>\n",
       "      <td>NEU</td>\n",
       "    </tr>\n",
       "    <tr>\n",
       "      <th>12542</th>\n",
       "      <td>RT Yousiif65 هاري بوتر ؟</td>\n",
       "      <td>False</td>\n",
       "      <td>POS</td>\n",
       "    </tr>\n",
       "    <tr>\n",
       "      <th>12543</th>\n",
       "      <td>النت يلعن شكله طول الوقت تمام لين بدا الحفل</td>\n",
       "      <td>True</td>\n",
       "      <td>NEG</td>\n",
       "    </tr>\n",
       "  </tbody>\n",
       "</table>\n",
       "<p>12544 rows × 3 columns</p>\n",
       "</div>"
      ],
      "text/plain": [
       "                                                   tweet  sarcasm sentiment\n",
       "0      د محمودالعلايليأرى أن الفريق أحمدشفيق رقم مهم ...    False       NEU\n",
       "1                                مع فيدرر يا آجا والكبار    False       NEU\n",
       "2      “ الداعون لمبدأ الاختلاط بين الجنسين ؛ كالداعي...     True       NEG\n",
       "3      ihe94 ya78m amooo5 adiajnikhar Oukasafa reosha...     True       NEG\n",
       "4      قل شرق حلب ولا تقل حلب الشرقية وقل غرب حلب ولا...    False       NEU\n",
       "...                                                  ...      ...       ...\n",
       "12539  هلأ صاير انت يا فلعوط بدك تعطي محاضرات ع تويتر...     True       NEG\n",
       "12540                    لا اله الا الله أيفونالبروفيسور    False       NEU\n",
       "12541  RT turkyepost أردوغان إذا كان المرتكب غير مسلم...    False       NEU\n",
       "12542                           RT Yousiif65 هاري بوتر ؟    False       POS\n",
       "12543        النت يلعن شكله طول الوقت تمام لين بدا الحفل     True       NEG\n",
       "\n",
       "[12544 rows x 3 columns]"
      ]
     },
     "execution_count": 2,
     "metadata": {},
     "output_type": "execute_result"
    }
   ],
   "source": [
    "data = pd.read_csv(\"ASI_preprocessed.csv\",usecols = [\"tweet\",\"sarcasm\",\"sentiment\"])\n",
    "data"
   ]
  },
  {
   "cell_type": "markdown",
   "metadata": {},
   "source": [
    "**Save tweets in text file. This is necessary as Fasstext takes .txt file as input**"
   ]
  },
  {
   "cell_type": "code",
   "execution_count": 4,
   "metadata": {
    "id": "_Crj4thGHU9Q"
   },
   "outputs": [],
   "source": [
    "# file1 = open(\"arabic_data_preprocessed.txt\",\"w\",encoding=\"utf-8\")\n",
    "# cnt = 0\n",
    "# for tweet in data.tweet.values.tolist():\n",
    "#     try:\n",
    "#       cnt += 1\n",
    "#       file1.write(tweet + '\\n')\n",
    "#     except:\n",
    "#       print(tweet)\n",
    "# print(cnt)\n",
    "# file1.close()"
   ]
  },
  {
   "cell_type": "markdown",
   "metadata": {
    "id": "IgMML55gY95e"
   },
   "source": [
    "# Train FastText embeddings\n",
    "\n",
    "The following code will run a fasstext unsupervised model on the input corpus (.txt file created in the above step) <br>\n",
    "The resutant word vectors obtained will be stored in a .vec file. <br>\n",
    "Format of .vec file: <br>\n",
    "word vec_1 vec_2 ..... vec_n       (n = number of dimensions.)"
   ]
  },
  {
   "cell_type": "code",
   "execution_count": 3,
   "metadata": {
    "id": "r5dH2oq4ZzPj"
   },
   "outputs": [],
   "source": [
    "import fasttext\n",
    "import fasttext.util"
   ]
  },
  {
   "cell_type": "code",
   "execution_count": 4,
   "metadata": {
    "id": "vxHx2d1aZgBR"
   },
   "outputs": [],
   "source": [
    "# Path to input text file\n",
    "input_file = \"arabic_data_preprocessed.txt\"\n",
    "\n",
    "# Model Hyperparameters\n",
    "model_type = 'skipgram'\n",
    "embedding_dimensions = 100\n",
    "minCount = 1\n",
    "neg = 20 ,\n",
    "epochs = 50"
   ]
  },
  {
   "cell_type": "code",
   "execution_count": 8,
   "metadata": {
    "colab": {
     "base_uri": "https://localhost:8080/"
    },
    "id": "DSomKQBfcp3S",
    "outputId": "f13cc844-2a02-4433-e09f-dd80a5f3669b"
   },
   "outputs": [
    {
     "name": "stdout",
     "output_type": "stream",
     "text": [
      "Model Trained. Total tokens 52358\n"
     ]
    }
   ],
   "source": [
    "# Train model\n",
    "model = fasttext.train_unsupervised(input = input_file , model = model_type, minCount = minCount, dim = embedding_dimensions, epoch = epochs)\n",
    "print(\"Model Trained. Total tokens {}\".format(len(model.get_words())))"
   ]
  },
  {
   "cell_type": "code",
   "execution_count": 9,
   "metadata": {
    "colab": {
     "base_uri": "https://localhost:8080/"
    },
    "id": "c2r2Gy1gc4s6",
    "outputId": "465f2556-c5a7-4883-c09b-159bf4d343cd"
   },
   "outputs": [
    {
     "name": "stdout",
     "output_type": "stream",
     "text": [
      "Input Vocab:\t 52358 \n",
      "Model Dimensions:  100\n",
      "Total words processed:  52358\n"
     ]
    }
   ],
   "source": [
    "# Save embeddings to vec file\n",
    "output_file = \"fasttext_model-{}_dim-{}.vec\".format(model_type, embedding_dimensions)\n",
    "save_fasttext_embeddings(model = model, output_file = output_file)"
   ]
  }
 ],
 "metadata": {
  "colab": {
   "collapsed_sections": [],
   "name": "Training word vectors.ipynb",
   "provenance": [],
   "toc_visible": true
  },
  "kernelspec": {
   "display_name": "Python 3",
   "language": "python",
   "name": "python3"
  },
  "language_info": {
   "codemirror_mode": {
    "name": "ipython",
    "version": 3
   },
   "file_extension": ".py",
   "mimetype": "text/x-python",
   "name": "python",
   "nbconvert_exporter": "python",
   "pygments_lexer": "ipython3",
   "version": "3.7.4"
  },
  "toc": {
   "base_numbering": 1,
   "nav_menu": {},
   "number_sections": true,
   "sideBar": true,
   "skip_h1_title": false,
   "title_cell": "Table of Contents",
   "title_sidebar": "Contents",
   "toc_cell": false,
   "toc_position": {},
   "toc_section_display": true,
   "toc_window_display": false
  }
 },
 "nbformat": 4,
 "nbformat_minor": 1
}
