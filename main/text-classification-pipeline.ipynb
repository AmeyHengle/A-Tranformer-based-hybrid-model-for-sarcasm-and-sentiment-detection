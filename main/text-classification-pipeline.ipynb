{
 "cells": [
  {
   "cell_type": "code",
   "execution_count": 17,
   "metadata": {
    "id": "VmwVkgoA9wRd"
   },
   "outputs": [],
   "source": [
    "import pandas as pd\n",
    "import numpy as np\n",
    "from time import process_time\n",
    "import pickle\n",
    "\n",
    "from sklearn.model_selection import train_test_split\n",
    "from sklearn.metrics import classification_report\n",
    "\n",
    "from custom_functions import *\n",
    "from custom_models import *"
   ]
  },
  {
   "cell_type": "markdown",
   "metadata": {
    "id": "vI_3643nR4Oh"
   },
   "source": [
    "# Prepare Data"
   ]
  },
  {
   "cell_type": "markdown",
   "metadata": {
    "id": "rKVieDo_TY88"
   },
   "source": [
    "**1. Load train and val**"
   ]
  },
  {
   "cell_type": "code",
   "execution_count": 4,
   "metadata": {
    "colab": {
     "base_uri": "https://localhost:8080/"
    },
    "id": "Gku_FrSyR-c8",
    "outputId": "aad79e0a-6a4e-4755-bf52-463e20b65e40"
   },
   "outputs": [
    {
     "name": "stdout",
     "output_type": "stream",
     "text": [
      "\n",
      "training data: 10035\t validation data: 2509 \n",
      "training classes: [False  True]\t validation classes: [False  True] \n",
      "\n"
     ]
    }
   ],
   "source": [
    "# D_train = read_data()\n",
    "# D_test = read_data()\n",
    "data = read_data(\"ASI_preprocessed.csv\")\n",
    "D_train, D_test =  train_test_split(data ,test_size=0.2, random_state=42)\n",
    "\n",
    "x_train = D_train['tweet']\n",
    "y_train = D_train['sarcasm'].values.tolist()\n",
    "x_val = D_test['tweet']\n",
    "y_val = D_test['sarcasm'].values.tolist()\n",
    "\n",
    "print('\\ntraining data: {}\\t validation data: {}'.format(len(x_train),len(x_val)),\n",
    "      '\\ntraining classes: {}\\t validation classes: {} \\n'.format(np.unique(y_val),np.unique(y_val)))\n"
   ]
  },
  {
   "cell_type": "markdown",
   "metadata": {
    "id": "F1KcrCn4TbyO"
   },
   "source": [
    "**2. Clean and Preprocess**"
   ]
  },
  {
   "cell_type": "code",
   "execution_count": 5,
   "metadata": {
    "id": "1iJW5eKtTSjO"
   },
   "outputs": [
    {
     "name": "stdout",
     "output_type": "stream",
     "text": [
      "x_train_tokenized: 10035 \n",
      "x_val_tokenized: 2509 \n",
      "Total Vocab:  52262\n"
     ]
    }
   ],
   "source": [
    "# Clean Text\n",
    "x_train = x_train.apply(lambda x : clean_text(x)).values.tolist()\n",
    "x_val = x_val.apply(lambda x : clean_text(x)).values.tolist()\n",
    "# Preprocess Text\n",
    "\n",
    "\n",
    "# Tokenize Text\n",
    "tokenizer, x_train_tokenized, x_val_tokenized = tokenize_text(data['tweet'].values.tolist(),\n",
    "                                                               x_train, x_val)\n",
    "\n",
    "print('x_train_tokenized:',len(x_train_tokenized),'\\nx_val_tokenized:',len(x_val_tokenized),\n",
    "      \"\\nTotal Vocab: \",len(tokenizer.word_counts))"
   ]
  },
  {
   "cell_type": "code",
   "execution_count": 6,
   "metadata": {
    "colab": {
     "base_uri": "https://localhost:8080/"
    },
    "id": "CCAF9VW9qiy9",
    "outputId": "ca235bd3-b181-4d57-fec0-c75359a9c52a"
   },
   "outputs": [
    {
     "name": "stdout",
     "output_type": "stream",
     "text": [
      "x_train_padded: (10035, 100) \n",
      "x_val_padded (2509, 100)\n"
     ]
    }
   ],
   "source": [
    "# Pad Text\n",
    "maximum_text_length = 100\n",
    "padding_type = \"post\"\n",
    "truncating_type = \"post\"\n",
    "\n",
    "x_train_padded = pad_text_sequence(x_train_tokenized, maximum_text_length, padding_type, truncating_type)\n",
    "x_val_padded = pad_text_sequence(x_val_tokenized, maximum_text_length, padding_type, truncating_type)\n",
    "\n",
    "print('x_train_padded:',x_train_padded.shape,'\\nx_val_padded',x_val_padded.shape)"
   ]
  },
  {
   "cell_type": "markdown",
   "metadata": {
    "id": "2DHQ9wuBUYpu"
   },
   "source": [
    "**3. Encode target variables (labels) to integers**\n",
    "\n"
   ]
  },
  {
   "cell_type": "code",
   "execution_count": 7,
   "metadata": {
    "colab": {
     "base_uri": "https://localhost:8080/"
    },
    "id": "1Nq7z7IHUWjV",
    "outputId": "3c13d9b2-5ca3-4d88-d82a-65d9e9be82c8"
   },
   "outputs": [
    {
     "name": "stdout",
     "output_type": "stream",
     "text": [
      "Mapping:\n",
      "False : 0 \t\n",
      "True : 0 \t\n",
      "\n",
      "\n",
      "Mapping:\n",
      "False : 1 \t\n",
      "True : 0 \t\n",
      "\n",
      "\n",
      "(10035, 1) (2509, 1)\n"
     ]
    }
   ],
   "source": [
    "y_train = get_label_encoding(y_train)\n",
    "y_val = get_label_encoding(y_val)\n",
    "\n",
    "print(y_train.shape, y_val.shape)"
   ]
  },
  {
   "cell_type": "markdown",
   "metadata": {
    "id": "OslntWhCVBGZ"
   },
   "source": [
    "**4. Generate Embedding Matrix**"
   ]
  },
  {
   "cell_type": "code",
   "execution_count": 8,
   "metadata": {
    "colab": {
     "base_uri": "https://localhost:8080/"
    },
    "id": "nUo1CmFqVGUz",
    "outputId": "ed80371e-a950-44be-b8b4-0b2d4d170d20"
   },
   "outputs": [
    {
     "name": "stdout",
     "output_type": "stream",
     "text": [
      "Total word embeddings read: 50430\n",
      "\n",
      "Total Vocab: 52263 \n",
      "Embeddings: 52263\n"
     ]
    }
   ],
   "source": [
    "# Load word embeddings from file\n",
    "vocab = tokenizer.word_index\n",
    "embedding_dimension = 100\n",
    "embeddings_file = \"fasttext_model-skipgram_dim-100.vec\"\n",
    "\n",
    "embedding_matrix = get_word_embeddings(embeddings_file,vocab,embedding_dimension)\n",
    "\n",
    "# Get sentence embeddings\n",
    "\n",
    "# Validate embedding_matrix shape\n",
    "print(\"Total Vocab:\",len(vocab), \"\\nEmbeddings:\",embedding_matrix.shape[0] -1 )"
   ]
  },
  {
   "cell_type": "markdown",
   "metadata": {
    "id": "mBLkApMnVqcr"
   },
   "source": [
    "**5. Train Model**"
   ]
  },
  {
   "cell_type": "markdown",
   "metadata": {},
   "source": [
    "# Feed Forward Neural Network (FFNN)"
   ]
  },
  {
   "cell_type": "code",
   "execution_count": 9,
   "metadata": {
    "id": "CNuBLuI0Vv76"
   },
   "outputs": [
    {
     "name": "stdout",
     "output_type": "stream",
     "text": [
      "Shape of each Input Sentence:  100 x 100\n",
      "Shape of Input layer:  10035 x 100\n",
      "Output classes:  2\n",
      "\n",
      "\n",
      "Model Summary:\n",
      "Model: \"sequential\"\n",
      "_________________________________________________________________\n",
      "Layer (type)                 Output Shape              Param #   \n",
      "=================================================================\n",
      "embedding (Embedding)        (None, 100, 100)          5226400   \n",
      "_________________________________________________________________\n",
      "global_max_pooling1d (Global (None, 100)               0         \n",
      "_________________________________________________________________\n",
      "dense (Dense)                (None, 128)               12928     \n",
      "_________________________________________________________________\n",
      "dense_1 (Dense)              (None, 64)                8256      \n",
      "_________________________________________________________________\n",
      "dense_2 (Dense)              (None, 32)                2080      \n",
      "_________________________________________________________________\n",
      "dense_3 (Dense)              (None, 2)                 66        \n",
      "=================================================================\n",
      "Total params: 5,249,730\n",
      "Trainable params: 5,249,730\n",
      "Non-trainable params: 0\n",
      "_________________________________________________________________\n",
      "\n",
      "\n",
      "Training Model:\n",
      "Train on 10035 samples, validate on 2509 samples\n",
      "Epoch 1/10\n",
      "10035/10035 [==============================] - 33s 3ms/sample - loss: 0.4384 - acc: 0.8259 - val_loss: 0.3959 - val_acc: 0.8274\n",
      "Epoch 2/10\n",
      "10035/10035 [==============================] - 32s 3ms/sample - loss: 0.3738 - acc: 0.8350 - val_loss: 0.3796 - val_acc: 0.8390\n",
      "Epoch 3/10\n",
      "10035/10035 [==============================] - 33s 3ms/sample - loss: 0.3293 - acc: 0.8514 - val_loss: 0.3989 - val_acc: 0.8163\n",
      "Epoch 4/10\n",
      "10035/10035 [==============================] - 33s 3ms/sample - loss: 0.2737 - acc: 0.8795 - val_loss: 0.3973 - val_acc: 0.8370\n",
      "Epoch 5/10\n",
      "10035/10035 [==============================] - 32s 3ms/sample - loss: 0.2194 - acc: 0.9059 - val_loss: 0.4621 - val_acc: 0.8246\n",
      "Epoch 6/10\n",
      "10035/10035 [==============================] - 33s 3ms/sample - loss: 0.1592 - acc: 0.9374 - val_loss: 0.4751 - val_acc: 0.8167\n",
      "Epoch 7/10\n",
      "10016/10035 [============================>.] - ETA: 0s - loss: 0.1069 - acc: 0.9608\n",
      "\n",
      "Threshold reached- acc : 0.95\n",
      "Training Stopped.\n",
      "\n",
      "\n",
      "10035/10035 [==============================] - 33s 3ms/sample - loss: 0.1069 - acc: 0.9606 - val_loss: 0.5799 - val_acc: 0.8218\n"
     ]
    }
   ],
   "source": [
    "# Define callback\n",
    "custom_callback = myCallbacks(metrics=\"acc\", threshold = 0.95)\n",
    "\n",
    "# Define model hyperparameters\n",
    "input_length = maximum_text_length\n",
    "embedding_vocab = embedding_matrix.shape[0]\n",
    "embedding_dimension = embedding_matrix.shape[1]\n",
    "output_dimension = len(np.unique(y_train))\n",
    "\n",
    "print('Shape of each Input Sentence: ',input_length,\"x\",embedding_dimension)\n",
    "print('Shape of Input layer: ',len(x_train),\"x\",embedding_dimension)\n",
    "print(\"Output classes: \",output_dimension)\n",
    "\n",
    "# Load model\n",
    "FFNN_model = FFNN(input_length = input_length, input_dimension = embedding_vocab, \n",
    "                  embedding_dimension = embedding_dimension, output_dimension = output_dimension,\n",
    "                  embedding_matrix = embedding_matrix, num_layers = 3, trainable = True)\n",
    "\n",
    "# View model summary\n",
    "print(\"\\n\\nModel Summary:\")\n",
    "FFNN_model.summary()\n",
    "\n",
    "# Train model\n",
    "print(\"\\n\\nTraining Model:\")\n",
    "model_history = FFNN_model.fit(x = np.asarray(x_train_padded), y = np.asarray(y_train),\n",
    "                               validation_data = (np.asarray(x_val_padded),np.asarray(y_val)),\n",
    "                               epochs = 10, callbacks = [custom_callback])"
   ]
  },
  {
   "cell_type": "markdown",
   "metadata": {},
   "source": [
    "# CNN"
   ]
  },
  {
   "cell_type": "code",
   "execution_count": 11,
   "metadata": {},
   "outputs": [
    {
     "name": "stdout",
     "output_type": "stream",
     "text": [
      "Shape of each Input Sentence:  100 x 100\n",
      "Shape of Input layer:  10035 x 100\n",
      "Output classes:  2\n",
      "\n",
      "\n",
      "Model Summary:\n",
      "Model: \"sequential_1\"\n",
      "_________________________________________________________________\n",
      "Layer (type)                 Output Shape              Param #   \n",
      "=================================================================\n",
      "embedding_1 (Embedding)      (None, 100, 100)          5226400   \n",
      "_________________________________________________________________\n",
      "conv1d (Conv1D)              (None, 96, 32)            16032     \n",
      "_________________________________________________________________\n",
      "global_max_pooling1d_1 (Glob (None, 32)                0         \n",
      "_________________________________________________________________\n",
      "dropout (Dropout)            (None, 32)                0         \n",
      "_________________________________________________________________\n",
      "dense_4 (Dense)              (None, 2)                 66        \n",
      "=================================================================\n",
      "Total params: 5,242,498\n",
      "Trainable params: 16,098\n",
      "Non-trainable params: 5,226,400\n",
      "_________________________________________________________________\n",
      "\n",
      "\n",
      "Training Model:\n",
      "Train on 10035 samples, validate on 2509 samples\n",
      "Epoch 1/10\n",
      "10035/10035 [==============================] - 8s 802us/sample - loss: 0.4936 - acc: 0.8026 - val_loss: 0.3754 - val_acc: 0.8354\n",
      "Epoch 2/10\n",
      "10035/10035 [==============================] - 7s 709us/sample - loss: 0.3731 - acc: 0.8404 - val_loss: 0.3597 - val_acc: 0.8450\n",
      "Epoch 3/10\n",
      "10035/10035 [==============================] - 7s 698us/sample - loss: 0.3429 - acc: 0.8531 - val_loss: 0.3615 - val_acc: 0.8434\n",
      "Epoch 4/10\n",
      "10035/10035 [==============================] - 7s 676us/sample - loss: 0.3107 - acc: 0.8671 - val_loss: 0.3726 - val_acc: 0.8446\n",
      "Epoch 5/10\n",
      "10035/10035 [==============================] - 7s 702us/sample - loss: 0.2834 - acc: 0.8820 - val_loss: 0.3788 - val_acc: 0.8422\n",
      "Epoch 6/10\n",
      "10035/10035 [==============================] - 7s 676us/sample - loss: 0.2558 - acc: 0.8927 - val_loss: 0.3713 - val_acc: 0.8446\n",
      "Epoch 7/10\n",
      "10035/10035 [==============================] - 7s 700us/sample - loss: 0.2346 - acc: 0.9068 - val_loss: 0.3859 - val_acc: 0.8398\n",
      "Epoch 8/10\n",
      "10035/10035 [==============================] - 7s 691us/sample - loss: 0.2114 - acc: 0.9150 - val_loss: 0.3999 - val_acc: 0.8422\n",
      "Epoch 9/10\n",
      "10035/10035 [==============================] - 7s 683us/sample - loss: 0.1960 - acc: 0.9236 - val_loss: 0.4079 - val_acc: 0.8418\n",
      "Epoch 10/10\n",
      "10035/10035 [==============================] - 7s 692us/sample - loss: 0.1766 - acc: 0.9336 - val_loss: 0.4139 - val_acc: 0.8426\n"
     ]
    }
   ],
   "source": [
    "# Define callback\n",
    "custom_callback = myCallbacks(metrics=\"acc\", threshold = 0.95)\n",
    "\n",
    "# Define model hyperparameters\n",
    "input_length = maximum_text_length\n",
    "embedding_vocab = embedding_matrix.shape[0]\n",
    "embedding_dimension = embedding_matrix.shape[1]\n",
    "output_dimension = len(np.unique(y_train))\n",
    "\n",
    "print('Shape of each Input Sentence: ',input_length,\"x\",embedding_dimension)\n",
    "print('Shape of Input layer: ',len(x_train),\"x\",embedding_dimension)\n",
    "print(\"Output classes: \",output_dimension)\n",
    "\n",
    "# Load model\n",
    "CNN_model = CNN(input_length = input_length, input_dimension = embedding_vocab, \n",
    "                  embedding_dimension = embedding_dimension, output_dimension = output_dimension,\n",
    "                  embedding_matrix = embedding_matrix, num_layers = 1, trainable = False,\n",
    "                   kernel_size = 5, dropout_rate = 0.25)\n",
    "\n",
    "# View model summary\n",
    "print(\"\\n\\nModel Summary:\")\n",
    "CNN_model.summary()\n",
    "\n",
    "# Train model\n",
    "print(\"\\n\\nTraining Model:\")\n",
    "model_history = CNN_model.fit(x = np.asarray(x_train_padded), y = np.asarray(y_train),\n",
    "                               validation_data = (np.asarray(x_val_padded),np.asarray(y_val)),\n",
    "                               epochs = 10, callbacks = [custom_callback])"
   ]
  },
  {
   "cell_type": "markdown",
   "metadata": {},
   "source": [
    "# BI-LSTM 1"
   ]
  },
  {
   "cell_type": "code",
   "execution_count": 12,
   "metadata": {},
   "outputs": [
    {
     "name": "stdout",
     "output_type": "stream",
     "text": [
      "Shape of each Input Sentence:  100 x 100\n",
      "Shape of Input layer:  10035 x 100\n",
      "Output classes:  2\n",
      "\n",
      "\n",
      "Model Summary:\n",
      "Model: \"sequential_2\"\n",
      "_________________________________________________________________\n",
      "Layer (type)                 Output Shape              Param #   \n",
      "=================================================================\n",
      "embedding_2 (Embedding)      (None, 100, 100)          5226400   \n",
      "_________________________________________________________________\n",
      "bidirectional (Bidirectional (None, 100, 128)          84480     \n",
      "_________________________________________________________________\n",
      "global_max_pooling1d_2 (Glob (None, 128)               0         \n",
      "_________________________________________________________________\n",
      "dense_5 (Dense)              (None, 64)                8256      \n",
      "_________________________________________________________________\n",
      "dense_6 (Dense)              (None, 2)                 130       \n",
      "=================================================================\n",
      "Total params: 5,319,266\n",
      "Trainable params: 92,866\n",
      "Non-trainable params: 5,226,400\n",
      "_________________________________________________________________\n",
      "\n",
      "\n",
      "Training Model:\n",
      "Train on 10035 samples, validate on 2509 samples\n",
      "Epoch 1/10\n",
      "10035/10035 [==============================] - 39s 4ms/sample - loss: 0.4030 - acc: 0.8326 - val_loss: 0.3539 - val_acc: 0.8473\n",
      "Epoch 2/10\n",
      "10035/10035 [==============================] - 35s 3ms/sample - loss: 0.3613 - acc: 0.8412 - val_loss: 0.3475 - val_acc: 0.8470\n",
      "Epoch 3/10\n",
      "10035/10035 [==============================] - 35s 4ms/sample - loss: 0.3478 - acc: 0.8412 - val_loss: 0.3475 - val_acc: 0.8466\n",
      "Epoch 4/10\n",
      "10035/10035 [==============================] - 35s 3ms/sample - loss: 0.3333 - acc: 0.8517 - val_loss: 0.3416 - val_acc: 0.8473\n",
      "Epoch 5/10\n",
      "10035/10035 [==============================] - 39s 4ms/sample - loss: 0.3237 - acc: 0.8556 - val_loss: 0.3614 - val_acc: 0.8470\n",
      "Epoch 6/10\n",
      "10035/10035 [==============================] - 41s 4ms/sample - loss: 0.3136 - acc: 0.8564 - val_loss: 0.3518 - val_acc: 0.8430\n",
      "Epoch 7/10\n",
      "10035/10035 [==============================] - 37s 4ms/sample - loss: 0.2984 - acc: 0.8663 - val_loss: 0.3467 - val_acc: 0.8438\n",
      "Epoch 8/10\n",
      "10035/10035 [==============================] - 34s 3ms/sample - loss: 0.2855 - acc: 0.8735 - val_loss: 0.3534 - val_acc: 0.8489\n",
      "Epoch 9/10\n",
      "10035/10035 [==============================] - 35s 3ms/sample - loss: 0.2611 - acc: 0.8814 - val_loss: 0.3685 - val_acc: 0.8318\n",
      "Epoch 10/10\n",
      "10035/10035 [==============================] - 39s 4ms/sample - loss: 0.2439 - acc: 0.8930 - val_loss: 0.3798 - val_acc: 0.8262\n"
     ]
    }
   ],
   "source": [
    "# Define callback\n",
    "custom_callback = myCallbacks(metrics=\"acc\", threshold = 0.95)\n",
    "\n",
    "# Define model hyperparameters\n",
    "input_length = maximum_text_length\n",
    "embedding_vocab = embedding_matrix.shape[0]\n",
    "embedding_dimension = embedding_matrix.shape[1]\n",
    "output_dimension = len(np.unique(y_train))\n",
    "\n",
    "print('Shape of each Input Sentence: ',input_length,\"x\",embedding_dimension)\n",
    "print('Shape of Input layer: ',len(x_train),\"x\",embedding_dimension)\n",
    "print(\"Output classes: \",output_dimension)\n",
    "\n",
    "# Load model\n",
    "BILSTM_model = BILSTM(input_length = input_length, input_dimension = embedding_vocab, \n",
    "                   embedding_dimension = embedding_dimension, output_dimension = output_dimension,\n",
    "                   embedding_matrix = embedding_matrix, layer1 = 64, layer2 = 64, trainable = False,\n",
    "                   dropout_rate = 0.25)\n",
    "\n",
    "# View model summary\n",
    "print(\"\\n\\nModel Summary:\")\n",
    "BILSTM_model.summary()\n",
    "\n",
    "# Train model\n",
    "print(\"\\n\\nTraining Model:\")\n",
    "model_history = BILSTM_model.fit(x = np.asarray(x_train_padded), y = np.asarray(y_train),\n",
    "                               validation_data = (np.asarray(x_val_padded),np.asarray(y_val)),\n",
    "                               epochs = 10, batch_size = 32, callbacks = [custom_callback])"
   ]
  },
  {
   "cell_type": "markdown",
   "metadata": {},
   "source": [
    "# BI-LSTM 2"
   ]
  },
  {
   "cell_type": "code",
   "execution_count": 13,
   "metadata": {},
   "outputs": [
    {
     "name": "stdout",
     "output_type": "stream",
     "text": [
      "Shape of each Input Sentence:  100 x 100\n",
      "Shape of Input layer:  10035 x 100\n",
      "Output classes:  2\n",
      "\n",
      "\n",
      "Model Summary:\n",
      "Model: \"sequential_3\"\n",
      "_________________________________________________________________\n",
      "Layer (type)                 Output Shape              Param #   \n",
      "=================================================================\n",
      "embedding_3 (Embedding)      (None, 100, 100)          5226400   \n",
      "_________________________________________________________________\n",
      "bidirectional_1 (Bidirection (None, 100, 200)          160800    \n",
      "_________________________________________________________________\n",
      "time_distributed (TimeDistri (None, 100, 100)          20100     \n",
      "_________________________________________________________________\n",
      "flatten (Flatten)            (None, 10000)             0         \n",
      "_________________________________________________________________\n",
      "dense_8 (Dense)              (None, 100)               1000100   \n",
      "_________________________________________________________________\n",
      "dense_9 (Dense)              (None, 2)                 202       \n",
      "=================================================================\n",
      "Total params: 6,407,602\n",
      "Trainable params: 1,181,202\n",
      "Non-trainable params: 5,226,400\n",
      "_________________________________________________________________\n",
      "\n",
      "\n",
      "Training Model:\n",
      "Train on 10035 samples, validate on 2509 samples\n",
      "Epoch 1/10\n",
      "10035/10035 [==============================] - 66s 7ms/sample - loss: 0.4010 - acc: 0.8275 - val_loss: 0.3797 - val_acc: 0.8398\n",
      "Epoch 2/10\n",
      "10035/10035 [==============================] - 66s 7ms/sample - loss: 0.3712 - acc: 0.8340 - val_loss: 0.3491 - val_acc: 0.8466\n",
      "Epoch 3/10\n",
      "10035/10035 [==============================] - 63s 6ms/sample - loss: 0.3538 - acc: 0.8389 - val_loss: 0.3515 - val_acc: 0.8485\n",
      "Epoch 4/10\n",
      "10035/10035 [==============================] - 59s 6ms/sample - loss: 0.3410 - acc: 0.8444 - val_loss: 0.3617 - val_acc: 0.8370\n",
      "Epoch 5/10\n",
      "10035/10035 [==============================] - 61s 6ms/sample - loss: 0.3293 - acc: 0.8489 - val_loss: 0.3524 - val_acc: 0.8398\n",
      "Epoch 6/10\n",
      "10035/10035 [==============================] - 56s 6ms/sample - loss: 0.3163 - acc: 0.8556 - val_loss: 0.3565 - val_acc: 0.8378\n",
      "Epoch 7/10\n",
      "10035/10035 [==============================] - 57s 6ms/sample - loss: 0.2987 - acc: 0.8626 - val_loss: 0.3754 - val_acc: 0.8382\n",
      "Epoch 8/10\n",
      "10035/10035 [==============================] - 66s 7ms/sample - loss: 0.2897 - acc: 0.8716 - val_loss: 0.3693 - val_acc: 0.8294\n",
      "Epoch 9/10\n",
      "10035/10035 [==============================] - 64s 6ms/sample - loss: 0.2701 - acc: 0.8792 - val_loss: 0.3720 - val_acc: 0.8214\n",
      "Epoch 10/10\n",
      "10035/10035 [==============================] - 60s 6ms/sample - loss: 0.2578 - acc: 0.8855 - val_loss: 0.3834 - val_acc: 0.8127\n"
     ]
    }
   ],
   "source": [
    "# Define callback\n",
    "custom_callback = myCallbacks(metrics=\"acc\", threshold = 0.95)\n",
    "\n",
    "# Define model hyperparameters\n",
    "input_length = maximum_text_length\n",
    "embedding_vocab = embedding_matrix.shape[0]\n",
    "embedding_dimension = embedding_matrix.shape[1]\n",
    "output_dimension = len(np.unique(y_train))\n",
    "\n",
    "print('Shape of each Input Sentence: ',input_length,\"x\",embedding_dimension)\n",
    "print('Shape of Input layer: ',len(x_train),\"x\",embedding_dimension)\n",
    "print(\"Output classes: \",output_dimension)\n",
    "\n",
    "# Load model\n",
    "BILSTM_model2 = BILSTM_2(input_length = input_length, input_dimension = embedding_vocab, \n",
    "                   embedding_dimension = embedding_dimension, output_dimension = output_dimension,\n",
    "                   embedding_matrix = embedding_matrix)\n",
    "\n",
    "# View model summary\n",
    "print(\"\\n\\nModel Summary:\")\n",
    "BILSTM_model2.summary()\n",
    "\n",
    "# Train model\n",
    "print(\"\\n\\nTraining Model:\")\n",
    "model_history = BILSTM_model2.fit(x = np.asarray(x_train_padded), y = np.asarray(y_train),\n",
    "                               validation_data = (np.asarray(x_val_padded),np.asarray(y_val)),\n",
    "                               epochs = 10, batch_size = 32, callbacks = [custom_callback])"
   ]
  },
  {
   "cell_type": "markdown",
   "metadata": {
    "id": "FyLosb7wWBMy"
   },
   "source": [
    "**6. Evaluate Model**"
   ]
  },
  {
   "cell_type": "code",
   "execution_count": 24,
   "metadata": {
    "id": "0Tz8JJW9WAqG"
   },
   "outputs": [
    {
     "data": {
      "image/png": "[encoded data removed]",
      "text/plain": [
       "<Figure size 432x288 with 1 Axes>"
      ]
     },
     "metadata": {
      "needs_background": "light"
     },
     "output_type": "display_data"
    },
    {
     "data": {
      "image/png": "[encoded data removed]",
      "text/plain": [
       "<Figure size 432x288 with 1 Axes>"
      ]
     },
     "metadata": {
      "needs_background": "light"
     },
     "output_type": "display_data"
    },
    {
     "name": "stdout",
     "output_type": "stream",
     "text": [
      "\n",
      "Classification Report:\n",
      "\n",
      "               precision    recall  f1-score   support\n",
      "\n",
      "           0       0.90      0.87      0.88      2074\n",
      "           1       0.47      0.54      0.50       435\n",
      "\n",
      "    accuracy                           0.81      2509\n",
      "   macro avg       0.68      0.70      0.69      2509\n",
      "weighted avg       0.82      0.81      0.82      2509\n",
      "\n"
     ]
    }
   ],
   "source": [
    "# plot results\n",
    "plot_results(model_history)\n",
    "\n",
    "# print classification report\n",
    "y_pred = np.argmax(BILSTM_model2.predict(x_val_padded),axis=-1)\n",
    "print(\"\\nClassification Report:\\n\\n\",classification_report(y_true=y_val, y_pred = y_pred, labels = np.unique(y_val)))"
   ]
  },
  {
   "cell_type": "code",
   "execution_count": null,
   "metadata": {
    "id": "yzx2rDT-W4De"
   },
   "outputs": [],
   "source": [
    "# save model\n",
    "save_model(BILSTM_model2, \"ASI_Sarcasm_BiLSTM2\")"
   ]
  }
 ],
 "metadata": {
  "colab": {
   "collapsed_sections": [
    "U6ubFoIzPHhQ"
   ],
   "name": "Text Classification Pipeline.ipynb",
   "provenance": []
  },
  "kernelspec": {
   "display_name": "Python 3",
   "language": "python",
   "name": "python3"
  },
  "language_info": {
   "codemirror_mode": {
    "name": "ipython",
    "version": 3
   },
   "file_extension": ".py",
   "mimetype": "text/x-python",
   "name": "python",
   "nbconvert_exporter": "python",
   "pygments_lexer": "ipython3",
   "version": "3.7.4"
  },
  "toc": {
   "base_numbering": 1,
   "nav_menu": {},
   "number_sections": true,
   "sideBar": true,
   "skip_h1_title": false,
   "title_cell": "Table of Contents",
   "title_sidebar": "Contents",
   "toc_cell": false,
   "toc_position": {},
   "toc_section_display": true,
   "toc_window_display": false
  }
 },
 "nbformat": 4,
 "nbformat_minor": 1
}
