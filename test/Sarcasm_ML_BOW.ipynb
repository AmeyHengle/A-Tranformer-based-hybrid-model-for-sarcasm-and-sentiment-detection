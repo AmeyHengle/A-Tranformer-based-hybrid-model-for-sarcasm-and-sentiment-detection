{
  "nbformat": 4,
  "nbformat_minor": 0,
  "metadata": {
    "colab": {
      "name": "Sarcasm_ML_BOW.ipynb",
      "provenance": [],
      "collapsed_sections": [],
      "authorship_tag": "ABX9TyNvfa/dNvWzIvLo2Q5zKdKO",
      "include_colab_link": true
    },
    "kernelspec": {
      "name": "python3",
      "display_name": "Python 3"
    },
    "accelerator": "GPU"
  },
  "cells": [
    {
      "cell_type": "markdown",
      "metadata": {
        "id": "view-in-github",
        "colab_type": "text"
      },
      "source": [
        "<a href=\"https://colab.research.google.com/github/AmeyHengle/Arabic-Sentiment-Identification/blob/main/test/Sarcasm_ML_BOW.ipynb\" target=\"_parent\"><img src=\"https://colab.research.google.com/assets/colab-badge.svg\" alt=\"Open In Colab\"/></a>"
      ]
    },
    {
      "cell_type": "code",
      "metadata": {
        "id": "8vvoalAgUNKH"
      },
      "source": [
        "import numpy as np\r\n",
        "import pandas as pd\r\n",
        "import matplotlib.pyplot as plt\r\n",
        "from sklearn.model_selection import train_test_split, GridSearchCV\r\n",
        "from sklearn.pipeline import make_pipeline\r\n",
        "from sklearn.linear_model import LogisticRegression\r\n",
        "from sklearn.ensemble import RandomForestClassifier\r\n",
        "from sklearn.naive_bayes import MultinomialNB, GaussianNB, BernoulliNB, ComplementNB\r\n",
        "from sklearn.svm import SVC\r\n",
        "from sklearn.metrics import confusion_matrix,accuracy_score, classification_report\r\n",
        "from tensorflow.keras.preprocessing.text import Tokenizer\r\n",
        "from tensorflow.keras.preprocessing.sequence import pad_sequences"
      ],
      "execution_count": null,
      "outputs": []
    },
    {
      "cell_type": "code",
      "metadata": {
        "colab": {
          "base_uri": "https://localhost:8080/",
          "height": 202
        },
        "id": "f-Fj5AO9UWSA",
        "outputId": "a49982b5-476c-4416-ccb3-931272dc63b5"
      },
      "source": [
        "train_data = pd.read_csv('/content/preprocessed_1.csv')\r\n",
        "train_data.head()"
      ],
      "execution_count": null,
      "outputs": [
        {
          "output_type": "execute_result",
          "data": {
            "text/html": [
              "<div>\n",
              "<style scoped>\n",
              "    .dataframe tbody tr th:only-of-type {\n",
              "        vertical-align: middle;\n",
              "    }\n",
              "\n",
              "    .dataframe tbody tr th {\n",
              "        vertical-align: top;\n",
              "    }\n",
              "\n",
              "    .dataframe thead th {\n",
              "        text-align: right;\n",
              "    }\n",
              "</style>\n",
              "<table border=\"1\" class=\"dataframe\">\n",
              "  <thead>\n",
              "    <tr style=\"text-align: right;\">\n",
              "      <th></th>\n",
              "      <th>Unnamed: 0</th>\n",
              "      <th>tweet</th>\n",
              "      <th>sarcasm</th>\n",
              "      <th>sentiment</th>\n",
              "      <th>dialect</th>\n",
              "    </tr>\n",
              "  </thead>\n",
              "  <tbody>\n",
              "    <tr>\n",
              "      <th>0</th>\n",
              "      <td>0</td>\n",
              "      <td>محمودالعلايلياري الفريق احمدشفيق رقم مهم المعا...</td>\n",
              "      <td>False</td>\n",
              "      <td>NEU</td>\n",
              "      <td>msa</td>\n",
              "    </tr>\n",
              "    <tr>\n",
              "      <th>1</th>\n",
              "      <td>1</td>\n",
              "      <td>فيدرر يا اجا والكبار 😍</td>\n",
              "      <td>False</td>\n",
              "      <td>NEU</td>\n",
              "      <td>msa</td>\n",
              "    </tr>\n",
              "    <tr>\n",
              "      <th>2</th>\n",
              "      <td>2</td>\n",
              "      <td>الداعون لمبدا الاختلاط الجنسين كالداعين لالغاء...</td>\n",
              "      <td>True</td>\n",
              "      <td>NEG</td>\n",
              "      <td>msa</td>\n",
              "    </tr>\n",
              "    <tr>\n",
              "      <th>3</th>\n",
              "      <td>3</td>\n",
              "      <td>مساكين الصبح هوما رايحين راجعين عاي غوغل تعبت ...</td>\n",
              "      <td>True</td>\n",
              "      <td>NEG</td>\n",
              "      <td>gulf</td>\n",
              "    </tr>\n",
              "    <tr>\n",
              "      <th>4</th>\n",
              "      <td>4</td>\n",
              "      <td>قل شرق حلب تقل حلب الشرقيه وقل غرب حلب تقل حلب...</td>\n",
              "      <td>False</td>\n",
              "      <td>NEU</td>\n",
              "      <td>msa</td>\n",
              "    </tr>\n",
              "  </tbody>\n",
              "</table>\n",
              "</div>"
            ],
            "text/plain": [
              "   Unnamed: 0  ... dialect\n",
              "0           0  ...     msa\n",
              "1           1  ...     msa\n",
              "2           2  ...     msa\n",
              "3           3  ...    gulf\n",
              "4           4  ...     msa\n",
              "\n",
              "[5 rows x 5 columns]"
            ]
          },
          "metadata": {
            "tags": []
          },
          "execution_count": 3
        }
      ]
    },
    {
      "cell_type": "code",
      "metadata": {
        "id": "6k5vkpOhUncP"
      },
      "source": [
        "X_train, X_test, Y_train, Y_test = train_test_split(train_data['tweet'], train_data['sarcasm'], test_size =0.2, random_state=100)"
      ],
      "execution_count": null,
      "outputs": []
    },
    {
      "cell_type": "code",
      "metadata": {
        "id": "yzCiWYEOUrrb"
      },
      "source": [
        "tokenizer = Tokenizer()\r\n",
        "tokenizer.fit_on_texts(X_train)\r\n",
        "X_train = tokenizer.texts_to_sequences(X_train)   #DO NOT RUN texts_to_sequences TWICE.\r\n",
        "X_train = pad_sequences(X_train, padding='post')"
      ],
      "execution_count": null,
      "outputs": []
    },
    {
      "cell_type": "code",
      "metadata": {
        "colab": {
          "base_uri": "https://localhost:8080/"
        },
        "id": "m78T3wQkdDG1",
        "outputId": "59ece746-7e75-4977-d5ad-e5bef5b68e0e"
      },
      "source": [
        "type(X_train)"
      ],
      "execution_count": null,
      "outputs": [
        {
          "output_type": "execute_result",
          "data": {
            "text/plain": [
              "numpy.ndarray"
            ]
          },
          "metadata": {
            "tags": []
          },
          "execution_count": 6
        }
      ]
    },
    {
      "cell_type": "code",
      "metadata": {
        "id": "zWHOmgQTbteM"
      },
      "source": [
        "X_test = tokenizer.texts_to_sequences(X_test)"
      ],
      "execution_count": null,
      "outputs": []
    },
    {
      "cell_type": "code",
      "metadata": {
        "id": "HFVQSioSd_gx"
      },
      "source": [
        "X_test = pad_sequences(X_test, maxlen=49, padding='post')   #DO NOT RUN texts_to_sequences TWICE."
      ],
      "execution_count": null,
      "outputs": []
    },
    {
      "cell_type": "code",
      "metadata": {
        "colab": {
          "base_uri": "https://localhost:8080/"
        },
        "id": "A2WAUEM4Whop",
        "outputId": "930c649a-41e5-4954-bdd3-a73726e52d24"
      },
      "source": [
        "X_train.shape"
      ],
      "execution_count": null,
      "outputs": [
        {
          "output_type": "execute_result",
          "data": {
            "text/plain": [
              "(10038, 49)"
            ]
          },
          "metadata": {
            "tags": []
          },
          "execution_count": 9
        }
      ]
    },
    {
      "cell_type": "code",
      "metadata": {
        "id": "rkJKdHmoXwie"
      },
      "source": [
        "#X_train = np.array(X_train)\r\n",
        "X_test = np.array(X_test)\r\n",
        "Y_train = np.array(Y_train)\r\n",
        "Y_test = np.array(Y_test)"
      ],
      "execution_count": null,
      "outputs": []
    },
    {
      "cell_type": "code",
      "metadata": {
        "colab": {
          "base_uri": "https://localhost:8080/"
        },
        "id": "2An7WhVbZSYF",
        "outputId": "314628f9-6ff7-49c8-d5be-7b0374c39fb5"
      },
      "source": [
        "print(X_train.shape)\r\n",
        "print(Y_train.shape)\r\n",
        "print(X_test.shape)\r\n",
        "print(Y_test.shape)"
      ],
      "execution_count": null,
      "outputs": [
        {
          "output_type": "stream",
          "text": [
            "(10038, 49)\n",
            "(10038,)\n",
            "(2510, 49)\n",
            "(2510,)\n"
          ],
          "name": "stdout"
        }
      ]
    },
    {
      "cell_type": "code",
      "metadata": {
        "colab": {
          "base_uri": "https://localhost:8080/"
        },
        "id": "_fa8DGsbYLCv",
        "outputId": "5faa5bdf-f924-4e31-e58f-b40bb32d830b"
      },
      "source": [
        "X_train[0]"
      ],
      "execution_count": null,
      "outputs": [
        {
          "output_type": "execute_result",
          "data": {
            "text/plain": [
              "array([13696,   694,  3197,  1913,   118, 13697,  7723,     0,     0,\n",
              "           0,     0,     0,     0,     0,     0,     0,     0,     0,\n",
              "           0,     0,     0,     0,     0,     0,     0,     0,     0,\n",
              "           0,     0,     0,     0,     0,     0,     0,     0,     0,\n",
              "           0,     0,     0,     0,     0,     0,     0,     0,     0,\n",
              "           0,     0,     0,     0], dtype=int32)"
            ]
          },
          "metadata": {
            "tags": []
          },
          "execution_count": 9
        }
      ]
    },
    {
      "cell_type": "code",
      "metadata": {
        "colab": {
          "base_uri": "https://localhost:8080/"
        },
        "id": "KerBck1UfGWN",
        "outputId": "c544a5b4-0b84-40fc-c9db-7804e7967003"
      },
      "source": [
        "m_nb = make_pipeline(MultinomialNB())\r\n",
        "m_nb.fit(X_train, Y_train)\r\n",
        "pred = m_nb.predict(X_test)\r\n",
        "print(f\"Accuracy score is {accuracy_score(Y_test, pred):.2f}\")\r\n",
        "print(classification_report(Y_test, pred))"
      ],
      "execution_count": null,
      "outputs": [
        {
          "output_type": "stream",
          "text": [
            "Accuracy score is 0.77\n",
            "              precision    recall  f1-score   support\n",
            "\n",
            "       False       0.83      0.92      0.87      2060\n",
            "        True       0.23      0.12      0.16       450\n",
            "\n",
            "    accuracy                           0.77      2510\n",
            "   macro avg       0.53      0.52      0.51      2510\n",
            "weighted avg       0.72      0.77      0.74      2510\n",
            "\n"
          ],
          "name": "stdout"
        }
      ]
    },
    {
      "cell_type": "code",
      "metadata": {
        "colab": {
          "base_uri": "https://localhost:8080/"
        },
        "id": "VAjf5p0Aezlg",
        "outputId": "6d6f576e-8a63-42c0-8137-3e90335450db"
      },
      "source": [
        "b_nb = make_pipeline(BernoulliNB())\r\n",
        "b_nb.fit(X_train, Y_train)\r\n",
        "pred = b_nb.predict(X_test)\r\n",
        "print(f\"Accuracy score is {accuracy_score(Y_test, pred):.2f}\")\r\n",
        "print(classification_report(Y_test, pred))"
      ],
      "execution_count": null,
      "outputs": [
        {
          "output_type": "stream",
          "text": [
            "Accuracy score is 0.79\n",
            "              precision    recall  f1-score   support\n",
            "\n",
            "       False       0.83      0.94      0.88      2060\n",
            "        True       0.30      0.12      0.17       450\n",
            "\n",
            "    accuracy                           0.79      2510\n",
            "   macro avg       0.57      0.53      0.53      2510\n",
            "weighted avg       0.74      0.79      0.75      2510\n",
            "\n"
          ],
          "name": "stdout"
        }
      ]
    },
    {
      "cell_type": "code",
      "metadata": {
        "colab": {
          "base_uri": "https://localhost:8080/"
        },
        "id": "kE1t3G5aeunl",
        "outputId": "a5ec3a95-a8e0-496e-a683-49ec267e0a47"
      },
      "source": [
        "c_nb = make_pipeline(ComplementNB()) \r\n",
        "c_nb.fit(X_train, Y_train)\r\n",
        "pred = c_nb.predict(X_test)\r\n",
        "print(f\"Accuracy score is {accuracy_score(Y_test, pred):.2f}\")\r\n",
        "print(classification_report(Y_test, pred))"
      ],
      "execution_count": null,
      "outputs": [
        {
          "output_type": "stream",
          "text": [
            "Accuracy score is 0.77\n",
            "              precision    recall  f1-score   support\n",
            "\n",
            "       False       0.83      0.92      0.87      2060\n",
            "        True       0.23      0.12      0.16       450\n",
            "\n",
            "    accuracy                           0.77      2510\n",
            "   macro avg       0.53      0.52      0.51      2510\n",
            "weighted avg       0.72      0.77      0.74      2510\n",
            "\n"
          ],
          "name": "stdout"
        }
      ]
    },
    {
      "cell_type": "code",
      "metadata": {
        "id": "Mp0aXLW6fk59"
      },
      "source": [
        "pipe_svm = make_pipeline(\r\n",
        "                     SVC())\r\n",
        "param_grid = {'svc__kernel': ['rbf', 'linear', 'poly'],\r\n",
        "             'svc__gamma': [0.1, 1, 10, 100],\r\n",
        "             'svc__C': [0.1, 1, 10, 100]}\r\n",
        "\r\n",
        "svc_model = GridSearchCV(pipe_svm, param_grid, cv=3)\r\n",
        "svc_model.fit(X_train, Y_train)\r\n",
        "\r\n",
        "prediction = svc_model.predict(X_test)\r\n",
        "print(f\"Accuracy score is {accuracy_score(Y_test, prediction):.2f}\")\r\n",
        "print(classification_report(Y_test, prediction))"
      ],
      "execution_count": null,
      "outputs": []
    },
    {
      "cell_type": "code",
      "metadata": {
        "id": "WjX99PsjsJmG"
      },
      "source": [
        "svm = make_pipeline((SVC(C=1, kernel='poly', gamma=1)))\r\n",
        "svm.fit(X_train, Y_train)\r\n",
        "pred = svm.predict(X_test)\r\n",
        "print(f\"Accuracy score is {accuracy_score(Y_test, prediction):.2f}\")\r\n",
        "print(classification_report(Y_test, prediction))"
      ],
      "execution_count": null,
      "outputs": []
    },
    {
      "cell_type": "code",
      "metadata": {
        "id": "YDfK5yj0gAXm"
      },
      "source": [
        "pipe_rf = make_pipeline(\r\n",
        "                    RandomForestClassifier())\r\n",
        "\r\n",
        "param_grid = {'randomforestclassifier__n_estimators':[10, 100, 1000],\r\n",
        "             'randomforestclassifier__max_features':['sqrt', 'log2']}\r\n",
        "\r\n",
        "rf_model = GridSearchCV(pipe_rf, param_grid, cv=5)\r\n",
        "rf_model.fit(X_train,Y_train)\r\n",
        "\r\n",
        "prediction = rf_model.predict(X_test)\r\n",
        "print(f\"Accuracy score is {accuracy_score(Y_test, prediction):.2f}\")\r\n",
        "print(classification_report(Y_test, prediction))"
      ],
      "execution_count": null,
      "outputs": []
    }
  ]
}