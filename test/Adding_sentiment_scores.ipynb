{
  "nbformat": 4,
  "nbformat_minor": 0,
  "metadata": {
    "colab": {
      "name": "Adding sentiment scores.ipynb",
      "provenance": []
    },
    "kernelspec": {
      "name": "python3",
      "display_name": "Python 3"
    }
  },
  "cells": [
    {
      "cell_type": "code",
      "metadata": {
        "id": "0Ifj2nFZe9O6"
      },
      "source": [
        "import numpy as np\r\n",
        "import pandas as pd\r\n",
        "from sklearn.model_selection import train_test_split, GridSearchCV\r\n",
        "from sklearn.linear_model import LogisticRegression\r\n",
        "from sklearn.metrics import classification_report, accuracy_score\r\n",
        "from sklearn.naive_bayes import MultinomialNB, ComplementNB\r\n",
        "from sklearn.svm import SVC\r\n",
        "import tensorflow as tf\r\n",
        "from tensorflow.keras.models import Sequential \r\n",
        "from tensorflow.keras.layers import Dense\r\n",
        "from sklearn.ensemble import RandomForestClassifier\r\n",
        "from sklearn.pipeline import make_pipeline\r\n",
        "import tensorflow as tf\r\n",
        "from tensorflow.keras.models import Sequential \r\n",
        "from tensorflow.keras.layers import Dense"
      ],
      "execution_count": 1,
      "outputs": []
    },
    {
      "cell_type": "code",
      "metadata": {
        "id": "Va5ViMaUf-OZ"
      },
      "source": [
        "data = pd.read_csv('/content/sen-score-final.csv')"
      ],
      "execution_count": 3,
      "outputs": []
    },
    {
      "cell_type": "code",
      "metadata": {
        "colab": {
          "base_uri": "https://localhost:8080/",
          "height": 378
        },
        "id": "-GrM3vpNglep",
        "outputId": "ecdb9409-7388-4b7f-fdbc-173ab8c215ef"
      },
      "source": [
        "data.head()"
      ],
      "execution_count": 4,
      "outputs": [
        {
          "output_type": "execute_result",
          "data": {
            "text/html": [
              "<div>\n",
              "<style scoped>\n",
              "    .dataframe tbody tr th:only-of-type {\n",
              "        vertical-align: middle;\n",
              "    }\n",
              "\n",
              "    .dataframe tbody tr th {\n",
              "        vertical-align: top;\n",
              "    }\n",
              "\n",
              "    .dataframe thead th {\n",
              "        text-align: right;\n",
              "    }\n",
              "</style>\n",
              "<table border=\"1\" class=\"dataframe\">\n",
              "  <thead>\n",
              "    <tr style=\"text-align: right;\">\n",
              "      <th></th>\n",
              "      <th>Unnamed: 0</th>\n",
              "      <th>Unnamed: 0.1</th>\n",
              "      <th>tweet</th>\n",
              "      <th>sarcasm</th>\n",
              "      <th>sentiment</th>\n",
              "      <th>dialect</th>\n",
              "      <th>tweet_emoji_translated</th>\n",
              "      <th>tweet_preprocessed</th>\n",
              "      <th>tweet_len</th>\n",
              "      <th>total_pos_count</th>\n",
              "      <th>total_neg_count</th>\n",
              "      <th>total_sentiment_score</th>\n",
              "    </tr>\n",
              "  </thead>\n",
              "  <tbody>\n",
              "    <tr>\n",
              "      <th>0</th>\n",
              "      <td>0</td>\n",
              "      <td>0</td>\n",
              "      <td>\"د. #محمود_العلايلي:أرى أن الفريق #أحمد_شفيق ر...</td>\n",
              "      <td>False</td>\n",
              "      <td>NEU</td>\n",
              "      <td>msa</td>\n",
              "      <td>\"د. #محمود_العلايلي:أرى أن الفريق #أحمد_شفيق ر...</td>\n",
              "      <td>\" د . # محمود _ العلايلي : أرى أن الفريق # أحم...</td>\n",
              "      <td>36</td>\n",
              "      <td>202917</td>\n",
              "      <td>184053</td>\n",
              "      <td>-0.259478</td>\n",
              "    </tr>\n",
              "    <tr>\n",
              "      <th>1</th>\n",
              "      <td>1</td>\n",
              "      <td>1</td>\n",
              "      <td>\"مع فيدرر يا آجا والكبار 😍 https://t.co/hrBeHb...</td>\n",
              "      <td>False</td>\n",
              "      <td>NEU</td>\n",
              "      <td>msa</td>\n",
              "      <td>\"مع فيدرر يا آجا والكبار وجه مبتسم بعيون قلب  ...</td>\n",
              "      <td>\" مع فيدرر يا آجا والكبار وجه مبتسم بعيون قلب ...</td>\n",
              "      <td>12</td>\n",
              "      <td>175326</td>\n",
              "      <td>188290</td>\n",
              "      <td>-0.203500</td>\n",
              "    </tr>\n",
              "    <tr>\n",
              "      <th>2</th>\n",
              "      <td>2</td>\n",
              "      <td>2</td>\n",
              "      <td>“الداعون لمبدأ الاختلاط بين الجنسين؛ كالداعين ...</td>\n",
              "      <td>True</td>\n",
              "      <td>NEG</td>\n",
              "      <td>msa</td>\n",
              "      <td>“الداعون لمبدأ الاختلاط بين الجنسين؛ كالداعين ...</td>\n",
              "      <td>“ الداعون لمبدأ الاختلاط بين الجنسين ؛ كالداعي...</td>\n",
              "      <td>21</td>\n",
              "      <td>31322</td>\n",
              "      <td>40657</td>\n",
              "      <td>-0.440600</td>\n",
              "    </tr>\n",
              "    <tr>\n",
              "      <th>3</th>\n",
              "      <td>3</td>\n",
              "      <td>3</td>\n",
              "      <td>\"@ihe_94 @ya78m @amooo5 @badiajnikhar @Oukasaf...</td>\n",
              "      <td>True</td>\n",
              "      <td>NEG</td>\n",
              "      <td>gulf</td>\n",
              "      <td>\"@ihe_94 @ya78m @amooo5 @badiajnikhar @Oukasaf...</td>\n",
              "      <td>[بريد] [مستخدم] [مستخدم] [مستخدم] [مستخدم] [مس...</td>\n",
              "      <td>21</td>\n",
              "      <td>3973563</td>\n",
              "      <td>1820527</td>\n",
              "      <td>0.339385</td>\n",
              "    </tr>\n",
              "    <tr>\n",
              "      <th>4</th>\n",
              "      <td>4</td>\n",
              "      <td>4</td>\n",
              "      <td>\"قل شرق حلب ولا تقل حلب الشرقية ....وقل غرب حل...</td>\n",
              "      <td>False</td>\n",
              "      <td>NEU</td>\n",
              "      <td>msa</td>\n",
              "      <td>\"قل شرق حلب ولا تقل حلب الشرقية ....وقل غرب حل...</td>\n",
              "      <td>\" قل شرق حلب ولا تقل حلب الشرقية . . . . وقل غ...</td>\n",
              "      <td>32</td>\n",
              "      <td>286048</td>\n",
              "      <td>348792</td>\n",
              "      <td>-0.199909</td>\n",
              "    </tr>\n",
              "  </tbody>\n",
              "</table>\n",
              "</div>"
            ],
            "text/plain": [
              "   Unnamed: 0  Unnamed: 0.1  ... total_neg_count  total_sentiment_score\n",
              "0           0             0  ...          184053              -0.259478\n",
              "1           1             1  ...          188290              -0.203500\n",
              "2           2             2  ...           40657              -0.440600\n",
              "3           3             3  ...         1820527               0.339385\n",
              "4           4             4  ...          348792              -0.199909\n",
              "\n",
              "[5 rows x 12 columns]"
            ]
          },
          "metadata": {
            "tags": []
          },
          "execution_count": 4
        }
      ]
    },
    {
      "cell_type": "code",
      "metadata": {
        "colab": {
          "base_uri": "https://localhost:8080/"
        },
        "id": "E6zcvTUj-ih3",
        "outputId": "cb0d763c-4efb-4ca1-cc92-07e803e12c13"
      },
      "source": [
        "len(data['tweet_preprocessed'])"
      ],
      "execution_count": 5,
      "outputs": [
        {
          "output_type": "execute_result",
          "data": {
            "text/plain": [
              "12537"
            ]
          },
          "metadata": {
            "tags": []
          },
          "execution_count": 5
        }
      ]
    },
    {
      "cell_type": "code",
      "metadata": {
        "colab": {
          "base_uri": "https://localhost:8080/",
          "height": 378
        },
        "id": "S9bQsQUsQvjw",
        "outputId": "2f917416-bf03-410e-a746-7a26e81cc085"
      },
      "source": [
        "data2 = pd.read_csv('/content/with_weights_1.csv')\r\n",
        "data2.head()"
      ],
      "execution_count": 6,
      "outputs": [
        {
          "output_type": "execute_result",
          "data": {
            "text/html": [
              "<div>\n",
              "<style scoped>\n",
              "    .dataframe tbody tr th:only-of-type {\n",
              "        vertical-align: middle;\n",
              "    }\n",
              "\n",
              "    .dataframe tbody tr th {\n",
              "        vertical-align: top;\n",
              "    }\n",
              "\n",
              "    .dataframe thead th {\n",
              "        text-align: right;\n",
              "    }\n",
              "</style>\n",
              "<table border=\"1\" class=\"dataframe\">\n",
              "  <thead>\n",
              "    <tr style=\"text-align: right;\">\n",
              "      <th></th>\n",
              "      <th>Unnamed: 0</th>\n",
              "      <th>Unnamed: 0.1</th>\n",
              "      <th>tweet</th>\n",
              "      <th>sarcasm</th>\n",
              "      <th>sentiment</th>\n",
              "      <th>dialect</th>\n",
              "      <th>tweet_emoji_translated</th>\n",
              "      <th>tweet_preprocessed</th>\n",
              "      <th>tweet_len</th>\n",
              "      <th>NEU_WEIGHTS</th>\n",
              "      <th>POSNEG_WEIGHTS</th>\n",
              "    </tr>\n",
              "  </thead>\n",
              "  <tbody>\n",
              "    <tr>\n",
              "      <th>0</th>\n",
              "      <td>0</td>\n",
              "      <td>0</td>\n",
              "      <td>\"د. #محمود_العلايلي:أرى أن الفريق #أحمد_شفيق ر...</td>\n",
              "      <td>False</td>\n",
              "      <td>NEU</td>\n",
              "      <td>msa</td>\n",
              "      <td>\"د. #محمود_العلايلي:أرى أن الفريق #أحمد_شفيق ر...</td>\n",
              "      <td>\" د . # محمود _ العلايلي : أرى أن الفريق # أحم...</td>\n",
              "      <td>36</td>\n",
              "      <td>0.202407</td>\n",
              "      <td>-11.600452</td>\n",
              "    </tr>\n",
              "    <tr>\n",
              "      <th>1</th>\n",
              "      <td>1</td>\n",
              "      <td>1</td>\n",
              "      <td>\"مع فيدرر يا آجا والكبار 😍 https://t.co/hrBeHb...</td>\n",
              "      <td>False</td>\n",
              "      <td>NEU</td>\n",
              "      <td>msa</td>\n",
              "      <td>\"مع فيدرر يا آجا والكبار وجه مبتسم بعيون قلب  ...</td>\n",
              "      <td>\" مع فيدرر يا آجا والكبار وجه مبتسم بعيون قلب ...</td>\n",
              "      <td>12</td>\n",
              "      <td>-1.290491</td>\n",
              "      <td>2.579677</td>\n",
              "    </tr>\n",
              "    <tr>\n",
              "      <th>2</th>\n",
              "      <td>2</td>\n",
              "      <td>2</td>\n",
              "      <td>“الداعون لمبدأ الاختلاط بين الجنسين؛ كالداعين ...</td>\n",
              "      <td>True</td>\n",
              "      <td>NEG</td>\n",
              "      <td>msa</td>\n",
              "      <td>“الداعون لمبدأ الاختلاط بين الجنسين؛ كالداعين ...</td>\n",
              "      <td>“ الداعون لمبدأ الاختلاط بين الجنسين ؛ كالداعي...</td>\n",
              "      <td>21</td>\n",
              "      <td>-9.043758</td>\n",
              "      <td>-15.726576</td>\n",
              "    </tr>\n",
              "    <tr>\n",
              "      <th>3</th>\n",
              "      <td>3</td>\n",
              "      <td>3</td>\n",
              "      <td>\"@ihe_94 @ya78m @amooo5 @badiajnikhar @Oukasaf...</td>\n",
              "      <td>True</td>\n",
              "      <td>NEG</td>\n",
              "      <td>gulf</td>\n",
              "      <td>\"@ihe_94 @ya78m @amooo5 @badiajnikhar @Oukasaf...</td>\n",
              "      <td>[بريد] [مستخدم] [مستخدم] [مستخدم] [مستخدم] [مس...</td>\n",
              "      <td>21</td>\n",
              "      <td>-7.513457</td>\n",
              "      <td>-12.056281</td>\n",
              "    </tr>\n",
              "    <tr>\n",
              "      <th>4</th>\n",
              "      <td>4</td>\n",
              "      <td>4</td>\n",
              "      <td>\"قل شرق حلب ولا تقل حلب الشرقية ....وقل غرب حل...</td>\n",
              "      <td>False</td>\n",
              "      <td>NEU</td>\n",
              "      <td>msa</td>\n",
              "      <td>\"قل شرق حلب ولا تقل حلب الشرقية ....وقل غرب حل...</td>\n",
              "      <td>\" قل شرق حلب ولا تقل حلب الشرقية . . . . وقل غ...</td>\n",
              "      <td>32</td>\n",
              "      <td>5.271533</td>\n",
              "      <td>-13.294194</td>\n",
              "    </tr>\n",
              "  </tbody>\n",
              "</table>\n",
              "</div>"
            ],
            "text/plain": [
              "   Unnamed: 0  Unnamed: 0.1  ... NEU_WEIGHTS  POSNEG_WEIGHTS\n",
              "0           0             0  ...    0.202407      -11.600452\n",
              "1           1             1  ...   -1.290491        2.579677\n",
              "2           2             2  ...   -9.043758      -15.726576\n",
              "3           3             3  ...   -7.513457      -12.056281\n",
              "4           4             4  ...    5.271533      -13.294194\n",
              "\n",
              "[5 rows x 11 columns]"
            ]
          },
          "metadata": {
            "tags": []
          },
          "execution_count": 6
        }
      ]
    },
    {
      "cell_type": "code",
      "metadata": {
        "colab": {
          "base_uri": "https://localhost:8080/"
        },
        "id": "oxQlH9evJvn7",
        "outputId": "13b4b192-df6d-44bc-bca2-216d9bbb6cdf"
      },
      "source": [
        "len(data2['tweet_preprocessed'])"
      ],
      "execution_count": 7,
      "outputs": [
        {
          "output_type": "execute_result",
          "data": {
            "text/plain": [
              "12537"
            ]
          },
          "metadata": {
            "tags": []
          },
          "execution_count": 7
        }
      ]
    },
    {
      "cell_type": "code",
      "metadata": {
        "id": "QeTmCzwaRFn1"
      },
      "source": [
        "data2['SEN_SCORE'] = data['total_sentiment_score']"
      ],
      "execution_count": 10,
      "outputs": []
    },
    {
      "cell_type": "code",
      "metadata": {
        "colab": {
          "base_uri": "https://localhost:8080/",
          "height": 378
        },
        "id": "hKAB4PMRRTVf",
        "outputId": "6825ed48-474e-45d5-9f38-7b0966db0e84"
      },
      "source": [
        "data2.head()"
      ],
      "execution_count": 11,
      "outputs": [
        {
          "output_type": "execute_result",
          "data": {
            "text/html": [
              "<div>\n",
              "<style scoped>\n",
              "    .dataframe tbody tr th:only-of-type {\n",
              "        vertical-align: middle;\n",
              "    }\n",
              "\n",
              "    .dataframe tbody tr th {\n",
              "        vertical-align: top;\n",
              "    }\n",
              "\n",
              "    .dataframe thead th {\n",
              "        text-align: right;\n",
              "    }\n",
              "</style>\n",
              "<table border=\"1\" class=\"dataframe\">\n",
              "  <thead>\n",
              "    <tr style=\"text-align: right;\">\n",
              "      <th></th>\n",
              "      <th>Unnamed: 0</th>\n",
              "      <th>Unnamed: 0.1</th>\n",
              "      <th>tweet</th>\n",
              "      <th>sarcasm</th>\n",
              "      <th>sentiment</th>\n",
              "      <th>dialect</th>\n",
              "      <th>tweet_emoji_translated</th>\n",
              "      <th>tweet_preprocessed</th>\n",
              "      <th>tweet_len</th>\n",
              "      <th>NEU_WEIGHTS</th>\n",
              "      <th>POSNEG_WEIGHTS</th>\n",
              "      <th>SEN_SCORE</th>\n",
              "    </tr>\n",
              "  </thead>\n",
              "  <tbody>\n",
              "    <tr>\n",
              "      <th>0</th>\n",
              "      <td>0</td>\n",
              "      <td>0</td>\n",
              "      <td>\"د. #محمود_العلايلي:أرى أن الفريق #أحمد_شفيق ر...</td>\n",
              "      <td>False</td>\n",
              "      <td>NEU</td>\n",
              "      <td>msa</td>\n",
              "      <td>\"د. #محمود_العلايلي:أرى أن الفريق #أحمد_شفيق ر...</td>\n",
              "      <td>\" د . # محمود _ العلايلي : أرى أن الفريق # أحم...</td>\n",
              "      <td>36</td>\n",
              "      <td>0.202407</td>\n",
              "      <td>-11.600452</td>\n",
              "      <td>-0.259478</td>\n",
              "    </tr>\n",
              "    <tr>\n",
              "      <th>1</th>\n",
              "      <td>1</td>\n",
              "      <td>1</td>\n",
              "      <td>\"مع فيدرر يا آجا والكبار 😍 https://t.co/hrBeHb...</td>\n",
              "      <td>False</td>\n",
              "      <td>NEU</td>\n",
              "      <td>msa</td>\n",
              "      <td>\"مع فيدرر يا آجا والكبار وجه مبتسم بعيون قلب  ...</td>\n",
              "      <td>\" مع فيدرر يا آجا والكبار وجه مبتسم بعيون قلب ...</td>\n",
              "      <td>12</td>\n",
              "      <td>-1.290491</td>\n",
              "      <td>2.579677</td>\n",
              "      <td>-0.203500</td>\n",
              "    </tr>\n",
              "    <tr>\n",
              "      <th>2</th>\n",
              "      <td>2</td>\n",
              "      <td>2</td>\n",
              "      <td>“الداعون لمبدأ الاختلاط بين الجنسين؛ كالداعين ...</td>\n",
              "      <td>True</td>\n",
              "      <td>NEG</td>\n",
              "      <td>msa</td>\n",
              "      <td>“الداعون لمبدأ الاختلاط بين الجنسين؛ كالداعين ...</td>\n",
              "      <td>“ الداعون لمبدأ الاختلاط بين الجنسين ؛ كالداعي...</td>\n",
              "      <td>21</td>\n",
              "      <td>-9.043758</td>\n",
              "      <td>-15.726576</td>\n",
              "      <td>-0.440600</td>\n",
              "    </tr>\n",
              "    <tr>\n",
              "      <th>3</th>\n",
              "      <td>3</td>\n",
              "      <td>3</td>\n",
              "      <td>\"@ihe_94 @ya78m @amooo5 @badiajnikhar @Oukasaf...</td>\n",
              "      <td>True</td>\n",
              "      <td>NEG</td>\n",
              "      <td>gulf</td>\n",
              "      <td>\"@ihe_94 @ya78m @amooo5 @badiajnikhar @Oukasaf...</td>\n",
              "      <td>[بريد] [مستخدم] [مستخدم] [مستخدم] [مستخدم] [مس...</td>\n",
              "      <td>21</td>\n",
              "      <td>-7.513457</td>\n",
              "      <td>-12.056281</td>\n",
              "      <td>0.339385</td>\n",
              "    </tr>\n",
              "    <tr>\n",
              "      <th>4</th>\n",
              "      <td>4</td>\n",
              "      <td>4</td>\n",
              "      <td>\"قل شرق حلب ولا تقل حلب الشرقية ....وقل غرب حل...</td>\n",
              "      <td>False</td>\n",
              "      <td>NEU</td>\n",
              "      <td>msa</td>\n",
              "      <td>\"قل شرق حلب ولا تقل حلب الشرقية ....وقل غرب حل...</td>\n",
              "      <td>\" قل شرق حلب ولا تقل حلب الشرقية . . . . وقل غ...</td>\n",
              "      <td>32</td>\n",
              "      <td>5.271533</td>\n",
              "      <td>-13.294194</td>\n",
              "      <td>-0.199909</td>\n",
              "    </tr>\n",
              "  </tbody>\n",
              "</table>\n",
              "</div>"
            ],
            "text/plain": [
              "   Unnamed: 0  Unnamed: 0.1  ... POSNEG_WEIGHTS  SEN_SCORE\n",
              "0           0             0  ...     -11.600452  -0.259478\n",
              "1           1             1  ...       2.579677  -0.203500\n",
              "2           2             2  ...     -15.726576  -0.440600\n",
              "3           3             3  ...     -12.056281   0.339385\n",
              "4           4             4  ...     -13.294194  -0.199909\n",
              "\n",
              "[5 rows x 12 columns]"
            ]
          },
          "metadata": {
            "tags": []
          },
          "execution_count": 11
        }
      ]
    },
    {
      "cell_type": "code",
      "metadata": {
        "id": "kRoatvmLW_4v"
      },
      "source": [
        "data2.to_csv('/content/sentimentscore_with_weights.csv')"
      ],
      "execution_count": 19,
      "outputs": []
    },
    {
      "cell_type": "code",
      "metadata": {
        "id": "t-FEyeCVgG4P"
      },
      "source": [
        "X = np.zeros((len(data['tweet_preprocessed']), 1), dtype='float32')\r\n",
        "for i in range(len(data['tweet_preprocessed'])):\r\n",
        "  X[i] = np.array([data['total_sentiment_score'][i]], dtype='float32')"
      ],
      "execution_count": 12,
      "outputs": []
    },
    {
      "cell_type": "code",
      "metadata": {
        "colab": {
          "base_uri": "https://localhost:8080/"
        },
        "id": "qtf5UWq2EuZ0",
        "outputId": "cde74d11-46f7-458d-ca2f-701ae1d1a037"
      },
      "source": [
        "len(data['tweet_preprocessed'])"
      ],
      "execution_count": 13,
      "outputs": [
        {
          "output_type": "execute_result",
          "data": {
            "text/plain": [
              "12537"
            ]
          },
          "metadata": {
            "tags": []
          },
          "execution_count": 13
        }
      ]
    },
    {
      "cell_type": "code",
      "metadata": {
        "id": "wsef-aTugLgS"
      },
      "source": [
        "Y = data['sentiment']"
      ],
      "execution_count": 14,
      "outputs": []
    },
    {
      "cell_type": "code",
      "metadata": {
        "id": "18OzNrRWgUTM"
      },
      "source": [
        "X_train, X_test, Y_train, Y_test = train_test_split(X,Y, test_size=0.2, random_state=42)"
      ],
      "execution_count": 15,
      "outputs": []
    },
    {
      "cell_type": "code",
      "metadata": {
        "id": "aR5GzSZhgVFe"
      },
      "source": [
        "Y_train = np.array(Y_train).reshape(Y_train.shape[0], 1)\r\n",
        "Y_test = np.array(Y_test).reshape(Y_test.shape[0], 1)"
      ],
      "execution_count": 16,
      "outputs": []
    },
    {
      "cell_type": "code",
      "metadata": {
        "colab": {
          "base_uri": "https://localhost:8080/"
        },
        "id": "Xe5x9R0QgjO_",
        "outputId": "b121e843-907e-4926-93b2-f9b03f40caff"
      },
      "source": [
        "lr_classifier = LogisticRegression(penalty='l2', solver='sag', max_iter=1000)\r\n",
        "lr_classifier.fit(X_train, Y_train)\r\n",
        "\r\n",
        "prediction = lr_classifier.predict(X_test)\r\n",
        "print(f\"Accuracy score is {accuracy_score(Y_test, prediction):.2f}\")\r\n",
        "print(classification_report(Y_test, prediction))"
      ],
      "execution_count": 17,
      "outputs": [
        {
          "output_type": "stream",
          "text": [
            "Accuracy score is 0.51\n",
            "              precision    recall  f1-score   support\n",
            "\n",
            "         NEG       0.49      0.36      0.42       924\n",
            "         NEU       0.51      0.80      0.62      1172\n",
            "         POS       0.00      0.00      0.00       412\n",
            "\n",
            "    accuracy                           0.51      2508\n",
            "   macro avg       0.33      0.39      0.35      2508\n",
            "weighted avg       0.42      0.51      0.45      2508\n",
            "\n"
          ],
          "name": "stdout"
        },
        {
          "output_type": "stream",
          "text": [
            "/usr/local/lib/python3.6/dist-packages/sklearn/utils/validation.py:760: DataConversionWarning: A column-vector y was passed when a 1d array was expected. Please change the shape of y to (n_samples, ), for example using ravel().\n",
            "  y = column_or_1d(y, warn=True)\n",
            "/usr/local/lib/python3.6/dist-packages/sklearn/metrics/_classification.py:1272: UndefinedMetricWarning: Precision and F-score are ill-defined and being set to 0.0 in labels with no predicted samples. Use `zero_division` parameter to control this behavior.\n",
            "  _warn_prf(average, modifier, msg_start, len(result))\n"
          ],
          "name": "stderr"
        }
      ]
    },
    {
      "cell_type": "code",
      "metadata": {
        "id": "SAkvAViSiRxc"
      },
      "source": [
        "pipe_rf = make_pipeline(RandomForestClassifier())\r\n",
        "\r\n",
        "param_grid = {'randomforestclassifier__n_estimators':[10, 100, 1000],\r\n",
        "             'randomforestclassifier__max_features':['sqrt', 'log2']}\r\n",
        "\r\n",
        "rf_model = GridSearchCV(pipe_rf, param_grid, cv=5)\r\n",
        "rf_model.fit(X_train,Y_train)\r\n",
        "\r\n",
        "prediction = rf_model.predict(X_test)\r\n",
        "print(f\"Accuracy score is {accuracy_score(Y_test, prediction):.2f}\")\r\n",
        "print(classification_report(Y_test, prediction))"
      ],
      "execution_count": null,
      "outputs": []
    },
    {
      "cell_type": "code",
      "metadata": {
        "id": "6mLGUnbhkPlL"
      },
      "source": [
        "import numpy as np\r\n",
        "from sklearn.preprocessing import LabelEncoder\r\n",
        "\r\n",
        "def get_label_encoding(labels):\r\n",
        "  le = LabelEncoder()\r\n",
        "  le.fit(np.unique(labels))\r\n",
        "  label_encodings = le.transform(labels)\r\n",
        "  \r\n",
        "  print(\"Mapping:\")\r\n",
        "  le_name_mapping = dict(zip(le.classes_, le.transform(le.classes_)))\r\n",
        "  print(le_name_mapping)\r\n",
        "  label_encodings = label_encodings.reshape(label_encodings.shape[0], -1)\r\n",
        "  return label_encodings\r\n",
        "\r\n",
        "\r\n",
        "Y_train = get_label_encoding(Y_train)\r\n",
        "Y_test = get_label_encoding(Y_test)"
      ],
      "execution_count": null,
      "outputs": []
    },
    {
      "cell_type": "code",
      "metadata": {
        "id": "swLG7jfakQmS"
      },
      "source": [
        "model = Sequential([\r\n",
        "                    Dense(64, activation='relu'),\r\n",
        "                    Dense(32, activation='relu'),\r\n",
        "                    Dense(3, activation='softmax')\r\n",
        "])\r\n",
        "\r\n",
        "model.compile(optimizer = \"adam\", loss = \"sparse_categorical_crossentropy\", metrics = [\"acc\"])"
      ],
      "execution_count": null,
      "outputs": []
    },
    {
      "cell_type": "code",
      "metadata": {
        "id": "zNIXTdgpkbC3"
      },
      "source": [
        "model.fit(X_train, Y_train, validation_data=(X_test, Y_test), epochs=25)"
      ],
      "execution_count": null,
      "outputs": []
    },
    {
      "cell_type": "code",
      "metadata": {
        "colab": {
          "base_uri": "https://localhost:8080/"
        },
        "id": "2ypt7Tu0nr2p",
        "outputId": "de352c56-8631-4dad-ef08-e7de994d20b2"
      },
      "source": [
        "prediction.shape"
      ],
      "execution_count": null,
      "outputs": [
        {
          "output_type": "execute_result",
          "data": {
            "text/plain": [
              "(2510,)"
            ]
          },
          "metadata": {
            "tags": []
          },
          "execution_count": 35
        }
      ]
    },
    {
      "cell_type": "code",
      "metadata": {
        "colab": {
          "base_uri": "https://localhost:8080/"
        },
        "id": "diHC7WR-ku_v",
        "outputId": "4ff2a015-75e5-4a15-94a8-7613803c3996"
      },
      "source": [
        "prediction = model.predict(X_test)\r\n",
        "print(f\"Accuracy score is {accuracy_score(Y_test, np.argmax(prediction,axis=-1)):.2f}\")\r\n",
        "print(classification_report(Y_test, np.argmax(prediction,axis=-1)))"
      ],
      "execution_count": null,
      "outputs": [
        {
          "output_type": "stream",
          "text": [
            "Accuracy score is 0.50\n",
            "              precision    recall  f1-score   support\n",
            "\n",
            "           0       0.51      0.34      0.41       949\n",
            "           1       0.49      0.82      0.61      1124\n",
            "           2       0.44      0.01      0.02       437\n",
            "\n",
            "    accuracy                           0.50      2510\n",
            "   macro avg       0.48      0.39      0.35      2510\n",
            "weighted avg       0.49      0.50      0.43      2510\n",
            "\n"
          ],
          "name": "stdout"
        }
      ]
    },
    {
      "cell_type": "code",
      "metadata": {
        "id": "3SRlQt1FnMui"
      },
      "source": [
        ""
      ],
      "execution_count": null,
      "outputs": []
    }
  ]
}